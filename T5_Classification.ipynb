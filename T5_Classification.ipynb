{
  "cells": [
    {
      "cell_type": "code",
      "execution_count": 38,
      "id": "d391d20c",
      "metadata": {
        "id": "d391d20c"
      },
      "outputs": [],
      "source": [
        "import pandas as pd\n",
        "import numpy as np\n",
        "import pickle\n",
        "import matplotlib.pyplot as plt\n",
        "import seaborn as sns\n",
        "import re\n",
        "import copy\n",
        "from tqdm.notebook import tqdm\n",
        "import gc\n",
        "\n",
        "import torch\n",
        "import torch.nn as nn\n",
        "import torch.nn.functional as F\n",
        "from torch import optim\n",
        "from torch.utils.data import Dataset, DataLoader\n",
        "\n",
        "from sklearn.metrics import (\n",
        "    accuracy_score,\n",
        "    f1_score,\n",
        "    classification_report,\n",
        "    jaccard_score\n",
        ")\n",
        "\n",
        "from transformers import (\n",
        "    T5Tokenizer,\n",
        "    T5Model,\n",
        "    T5ForConditionalGeneration,\n",
        "    get_linear_schedule_with_warmup\n",
        ")"
      ]
    },
    {
      "cell_type": "code",
      "execution_count": 59,
      "id": "1fc41f38",
      "metadata": {
        "id": "1fc41f38"
      },
      "outputs": [],
      "source": [
        "train_df = pd.read_csv('train.csv')\n",
        "test_df = pd.read_csv('test.csv')\n",
        "\n",
        "train_df[\"tags\"] = train_df[\"tags\"].apply(lambda x: \" \".join(x.split(\"_\")))\n",
        "\n",
        "labels = ['love','life','inspirational','philosophy','humor']\n",
        "label_string = \",\".join(labels)"
      ]
    },
    {
      "cell_type": "code",
      "execution_count": 40,
      "id": "82b2b75a",
      "metadata": {
        "id": "82b2b75a"
      },
      "outputs": [],
      "source": [
        "\n",
        "seed = 9\n",
        "val_split = 0.1\n",
        "batch_size = 8\n",
        "epochs = 10\n",
        "np.random.seed(seed)\n",
        "\n",
        "dataset_size = len(train_df)\n",
        "indices = list(range(dataset_size))\n",
        "split = int(np.floor(val_split * dataset_size))\n",
        "np.random.shuffle(indices)\n",
        "\n",
        "train_indices, val_indices = indices[split:], indices[:split]"
      ]
    },
    {
      "cell_type": "code",
      "execution_count": 41,
      "id": "c5836339",
      "metadata": {
        "id": "c5836339"
      },
      "outputs": [],
      "source": [
        "def generate_one_hot_encoding(labels, texts):\n",
        "    one_hot_encodings = []\n",
        "\n",
        "    for text in texts:\n",
        "        one_hot_encoding = np.zeros(len(labels), dtype=int)\n",
        "\n",
        "        for i, label in enumerate(labels):\n",
        "            if label in text:\n",
        "                one_hot_encoding[i] = 1\n",
        "\n",
        "        one_hot_encodings.append(one_hot_encoding)\n",
        "\n",
        "    return np.array(one_hot_encodings)"
      ]
    },
    {
      "cell_type": "code",
      "execution_count": 60,
      "id": "70540537",
      "metadata": {
        "id": "70540537"
      },
      "outputs": [],
      "source": [
        "# created dataset class for classification\n",
        "\n",
        "class ClassificationDataset(Dataset):\n",
        "    def __init__(self, dataframe, indices, tokenizer):\n",
        "        super(ClassificationDataset, self).__init__()\n",
        "\n",
        "        df = dataframe.iloc[indices]\n",
        "        df['quote'] = \"classify the quote (\"+label_string+\"):\" + df['quote']\n",
        "        self.texts = df['quote'].tolist()\n",
        "        self.targets = df['tags'].tolist()\n",
        "        self.tokenizer = tokenizer\n",
        "        self.src_max_length = 512 # based on longest quote\n",
        "        self.tgt_max_length = 30\n",
        "\n",
        "    def __len__(self):\n",
        "        return len(self.texts)\n",
        "\n",
        "    def __getitem__(self, idx):\n",
        "        text = str(self.texts[idx])\n",
        "        target = str(self.targets[idx])\n",
        "\n",
        "        encoding = self.tokenizer.encode_plus(\n",
        "            text,\n",
        "            max_length=self.src_max_length,\n",
        "            padding=\"max_length\",\n",
        "            truncation=True,\n",
        "            return_tensors=\"pt\"\n",
        "        )\n",
        "        target_enc = self.tokenizer.encode_plus(\n",
        "            target,\n",
        "            max_length=self.tgt_max_length,\n",
        "            padding=\"max_length\",\n",
        "            truncation=True,\n",
        "            return_tensors=\"pt\"\n",
        "        )\n",
        "        input_ids = encoding[\"input_ids\"].squeeze()\n",
        "        attention_mask = encoding[\"attention_mask\"].squeeze()\n",
        "\n",
        "        return {\n",
        "            \"input_ids\": input_ids,\n",
        "            \"attention_mask\": attention_mask,\n",
        "            \"target_ids\": target_enc[\"input_ids\"].squeeze(),\n",
        "            \"target_attn_mask\": target_enc[\"attention_mask\"].squeeze()\n",
        "        }"
      ]
    },
    {
      "cell_type": "code",
      "execution_count": 61,
      "id": "14a07456",
      "metadata": {
        "colab": {
          "base_uri": "https://localhost:8080/"
        },
        "id": "14a07456",
        "outputId": "df45e103-1726-4610-9a1a-36f48d72cb9b"
      },
      "outputs": [
        {
          "output_type": "execute_result",
          "data": {
            "text/plain": [
              "T5ForConditionalGeneration(\n",
              "  (shared): Embedding(32128, 512)\n",
              "  (encoder): T5Stack(\n",
              "    (embed_tokens): Embedding(32128, 512)\n",
              "    (block): ModuleList(\n",
              "      (0): T5Block(\n",
              "        (layer): ModuleList(\n",
              "          (0): T5LayerSelfAttention(\n",
              "            (SelfAttention): T5Attention(\n",
              "              (q): Linear(in_features=512, out_features=512, bias=False)\n",
              "              (k): Linear(in_features=512, out_features=512, bias=False)\n",
              "              (v): Linear(in_features=512, out_features=512, bias=False)\n",
              "              (o): Linear(in_features=512, out_features=512, bias=False)\n",
              "              (relative_attention_bias): Embedding(32, 8)\n",
              "            )\n",
              "            (layer_norm): T5LayerNorm()\n",
              "            (dropout): Dropout(p=0.1, inplace=False)\n",
              "          )\n",
              "          (1): T5LayerFF(\n",
              "            (DenseReluDense): T5DenseActDense(\n",
              "              (wi): Linear(in_features=512, out_features=2048, bias=False)\n",
              "              (wo): Linear(in_features=2048, out_features=512, bias=False)\n",
              "              (dropout): Dropout(p=0.1, inplace=False)\n",
              "              (act): ReLU()\n",
              "            )\n",
              "            (layer_norm): T5LayerNorm()\n",
              "            (dropout): Dropout(p=0.1, inplace=False)\n",
              "          )\n",
              "        )\n",
              "      )\n",
              "      (1-5): 5 x T5Block(\n",
              "        (layer): ModuleList(\n",
              "          (0): T5LayerSelfAttention(\n",
              "            (SelfAttention): T5Attention(\n",
              "              (q): Linear(in_features=512, out_features=512, bias=False)\n",
              "              (k): Linear(in_features=512, out_features=512, bias=False)\n",
              "              (v): Linear(in_features=512, out_features=512, bias=False)\n",
              "              (o): Linear(in_features=512, out_features=512, bias=False)\n",
              "            )\n",
              "            (layer_norm): T5LayerNorm()\n",
              "            (dropout): Dropout(p=0.1, inplace=False)\n",
              "          )\n",
              "          (1): T5LayerFF(\n",
              "            (DenseReluDense): T5DenseActDense(\n",
              "              (wi): Linear(in_features=512, out_features=2048, bias=False)\n",
              "              (wo): Linear(in_features=2048, out_features=512, bias=False)\n",
              "              (dropout): Dropout(p=0.1, inplace=False)\n",
              "              (act): ReLU()\n",
              "            )\n",
              "            (layer_norm): T5LayerNorm()\n",
              "            (dropout): Dropout(p=0.1, inplace=False)\n",
              "          )\n",
              "        )\n",
              "      )\n",
              "    )\n",
              "    (final_layer_norm): T5LayerNorm()\n",
              "    (dropout): Dropout(p=0.1, inplace=False)\n",
              "  )\n",
              "  (decoder): T5Stack(\n",
              "    (embed_tokens): Embedding(32128, 512)\n",
              "    (block): ModuleList(\n",
              "      (0): T5Block(\n",
              "        (layer): ModuleList(\n",
              "          (0): T5LayerSelfAttention(\n",
              "            (SelfAttention): T5Attention(\n",
              "              (q): Linear(in_features=512, out_features=512, bias=False)\n",
              "              (k): Linear(in_features=512, out_features=512, bias=False)\n",
              "              (v): Linear(in_features=512, out_features=512, bias=False)\n",
              "              (o): Linear(in_features=512, out_features=512, bias=False)\n",
              "              (relative_attention_bias): Embedding(32, 8)\n",
              "            )\n",
              "            (layer_norm): T5LayerNorm()\n",
              "            (dropout): Dropout(p=0.1, inplace=False)\n",
              "          )\n",
              "          (1): T5LayerCrossAttention(\n",
              "            (EncDecAttention): T5Attention(\n",
              "              (q): Linear(in_features=512, out_features=512, bias=False)\n",
              "              (k): Linear(in_features=512, out_features=512, bias=False)\n",
              "              (v): Linear(in_features=512, out_features=512, bias=False)\n",
              "              (o): Linear(in_features=512, out_features=512, bias=False)\n",
              "            )\n",
              "            (layer_norm): T5LayerNorm()\n",
              "            (dropout): Dropout(p=0.1, inplace=False)\n",
              "          )\n",
              "          (2): T5LayerFF(\n",
              "            (DenseReluDense): T5DenseActDense(\n",
              "              (wi): Linear(in_features=512, out_features=2048, bias=False)\n",
              "              (wo): Linear(in_features=2048, out_features=512, bias=False)\n",
              "              (dropout): Dropout(p=0.1, inplace=False)\n",
              "              (act): ReLU()\n",
              "            )\n",
              "            (layer_norm): T5LayerNorm()\n",
              "            (dropout): Dropout(p=0.1, inplace=False)\n",
              "          )\n",
              "        )\n",
              "      )\n",
              "      (1-5): 5 x T5Block(\n",
              "        (layer): ModuleList(\n",
              "          (0): T5LayerSelfAttention(\n",
              "            (SelfAttention): T5Attention(\n",
              "              (q): Linear(in_features=512, out_features=512, bias=False)\n",
              "              (k): Linear(in_features=512, out_features=512, bias=False)\n",
              "              (v): Linear(in_features=512, out_features=512, bias=False)\n",
              "              (o): Linear(in_features=512, out_features=512, bias=False)\n",
              "            )\n",
              "            (layer_norm): T5LayerNorm()\n",
              "            (dropout): Dropout(p=0.1, inplace=False)\n",
              "          )\n",
              "          (1): T5LayerCrossAttention(\n",
              "            (EncDecAttention): T5Attention(\n",
              "              (q): Linear(in_features=512, out_features=512, bias=False)\n",
              "              (k): Linear(in_features=512, out_features=512, bias=False)\n",
              "              (v): Linear(in_features=512, out_features=512, bias=False)\n",
              "              (o): Linear(in_features=512, out_features=512, bias=False)\n",
              "            )\n",
              "            (layer_norm): T5LayerNorm()\n",
              "            (dropout): Dropout(p=0.1, inplace=False)\n",
              "          )\n",
              "          (2): T5LayerFF(\n",
              "            (DenseReluDense): T5DenseActDense(\n",
              "              (wi): Linear(in_features=512, out_features=2048, bias=False)\n",
              "              (wo): Linear(in_features=2048, out_features=512, bias=False)\n",
              "              (dropout): Dropout(p=0.1, inplace=False)\n",
              "              (act): ReLU()\n",
              "            )\n",
              "            (layer_norm): T5LayerNorm()\n",
              "            (dropout): Dropout(p=0.1, inplace=False)\n",
              "          )\n",
              "        )\n",
              "      )\n",
              "    )\n",
              "    (final_layer_norm): T5LayerNorm()\n",
              "    (dropout): Dropout(p=0.1, inplace=False)\n",
              "  )\n",
              "  (lm_head): Linear(in_features=512, out_features=32128, bias=False)\n",
              ")"
            ]
          },
          "metadata": {},
          "execution_count": 61
        }
      ],
      "source": [
        "device = torch.device('cuda' if torch.cuda.is_available() else 'cpu')\n",
        "model = T5ForConditionalGeneration.from_pretrained(\"t5-small\")\n",
        "model.to(device)"
      ]
    },
    {
      "cell_type": "code",
      "execution_count": 62,
      "id": "7fd02c8c",
      "metadata": {
        "colab": {
          "base_uri": "https://localhost:8080/"
        },
        "id": "7fd02c8c",
        "outputId": "4eef02a4-2994-42bb-8020-a54bfc0dfbe3"
      },
      "outputs": [
        {
          "output_type": "stream",
          "name": "stderr",
          "text": [
            "Special tokens have been added in the vocabulary, make sure the associated word embeddings are fine-tuned or trained.\n"
          ]
        }
      ],
      "source": [
        "\n",
        "tokenizer = T5Tokenizer.from_pretrained(\"t5-small\")"
      ]
    },
    {
      "cell_type": "code",
      "execution_count": 63,
      "id": "39fc1139",
      "metadata": {
        "id": "39fc1139",
        "colab": {
          "base_uri": "https://localhost:8080/"
        },
        "outputId": "4e0e8620-5c3d-429f-a82b-781ae7565a18"
      },
      "outputs": [
        {
          "output_type": "stream",
          "name": "stderr",
          "text": [
            "<ipython-input-60-e7aeff0b0f51>:8: SettingWithCopyWarning: \n",
            "A value is trying to be set on a copy of a slice from a DataFrame.\n",
            "Try using .loc[row_indexer,col_indexer] = value instead\n",
            "\n",
            "See the caveats in the documentation: https://pandas.pydata.org/pandas-docs/stable/user_guide/indexing.html#returning-a-view-versus-a-copy\n",
            "  df['quote'] = \"classify the quote (\"+label_string+\"):\" + df['quote']\n"
          ]
        }
      ],
      "source": [
        "training_data = ClassificationDataset(train_df, train_indices, tokenizer)\n",
        "val_data = ClassificationDataset(train_df, val_indices, tokenizer)\n",
        "train_dataloader = DataLoader(training_data, batch_size= batch_size)\n",
        "validation_dataloader = DataLoader(val_data, batch_size= batch_size)\n",
        "\n",
        "#batch = next(iter(train_dataloader))"
      ]
    },
    {
      "cell_type": "code",
      "execution_count": 64,
      "id": "7aec6af4",
      "metadata": {
        "id": "7aec6af4"
      },
      "outputs": [],
      "source": [
        "def train(model, train_dl, val_dl ,criterion, optimizer, scheduler, epochs):\n",
        "    # we validate config.N_VALIDATE_DUR_TRAIN times during the training loop\n",
        "    nv = 10\n",
        "    temp = len(train_dataloader) // nv\n",
        "    temp = temp - (temp % 100)\n",
        "    validate_at_steps = [temp * x for x in range(1, nv + 1)]\n",
        "\n",
        "    train_loss = 0\n",
        "    for step, batch in enumerate(tqdm(train_dataloader,\n",
        "                                      desc='Epoch ' + str(epochs))):\n",
        "        # set model.eval() every time during training\n",
        "        model.train()\n",
        "\n",
        "        # unpack the batch contents and push them to the device (cuda or cpu).\n",
        "        b_src_input_ids = batch['input_ids'].to(device)\n",
        "        b_src_attention_mask = batch['attention_mask'].to(device)\n",
        "\n",
        "        lm_labels = batch['target_ids'].to(device)\n",
        "        lm_labels[lm_labels[:, :] == tokenizer.pad_token_id] = -100\n",
        "\n",
        "        b_tgt_attention_mask = batch['target_attn_mask'].to(device)\n",
        "\n",
        "        # clear accumulated gradients\n",
        "        optimizer.zero_grad()\n",
        "\n",
        "        # forward pass\n",
        "        outputs = model(input_ids=b_src_input_ids,\n",
        "                        attention_mask=b_src_attention_mask,\n",
        "                        labels=lm_labels,\n",
        "                        decoder_attention_mask=b_tgt_attention_mask)\n",
        "        loss = outputs[0]\n",
        "        train_loss += loss.item()\n",
        "\n",
        "        # backward pass\n",
        "        loss.backward()\n",
        "\n",
        "        # update weights\n",
        "        optimizer.step()\n",
        "\n",
        "        # update scheduler\n",
        "        scheduler.step()\n",
        "\n",
        "        if step in validate_at_steps:\n",
        "            print(f'-- Step: {step}')\n",
        "            _ = val(model, val_dl, criterion)\n",
        "\n",
        "    avg_train_loss = train_loss / len(train_dataloader)\n",
        "    print('Training loss:', avg_train_loss)"
      ]
    },
    {
      "cell_type": "code",
      "execution_count": 65,
      "id": "79f6bca0",
      "metadata": {
        "id": "79f6bca0"
      },
      "outputs": [],
      "source": [
        "def val(model, val_dataloader, criterion):\n",
        "\n",
        "    val_loss = 0\n",
        "    true, pred = [], []\n",
        "\n",
        "    # set model.eval() every time during evaluation\n",
        "    model.eval()\n",
        "\n",
        "    for step, batch in enumerate(val_dataloader):\n",
        "        # unpack the batch contents and push them to the device (cuda or cpu).\n",
        "        b_src_input_ids = batch['input_ids'].to(device)\n",
        "        b_src_attention_mask = batch['attention_mask'].to(device)\n",
        "\n",
        "        b_tgt_input_ids = batch['target_ids'].to(device)\n",
        "        lm_labels = b_tgt_input_ids\n",
        "        lm_labels[lm_labels[:, :] == tokenizer.pad_token_id] = -100\n",
        "\n",
        "        b_tgt_attention_mask = batch['target_attn_mask'].to(device)\n",
        "\n",
        "        # using torch.no_grad() during validation/inference is faster -\n",
        "        # - since it does not update gradients.\n",
        "        with torch.no_grad():\n",
        "            # forward pass\n",
        "            outputs = model(\n",
        "                input_ids=b_src_input_ids,\n",
        "                attention_mask=b_src_attention_mask,\n",
        "                labels=lm_labels,\n",
        "                decoder_attention_mask=b_tgt_attention_mask)\n",
        "            loss = outputs[0]\n",
        "\n",
        "            val_loss += loss.item()\n",
        "\n",
        "            # get true\n",
        "            for true_id in b_tgt_input_ids:\n",
        "                try:\n",
        "                  true_decoded = tokenizer.decode(true_id)\n",
        "                except:\n",
        "                  # print(b_tgt_input_ids)\n",
        "                  # print(true_id)\n",
        "                  true_decoded = \"\"\n",
        "                true.append(true_decoded)\n",
        "\n",
        "            # get pred (decoder generated textual label ids)\n",
        "            pred_ids = model.generate(\n",
        "                input_ids=b_src_input_ids,\n",
        "                attention_mask=b_src_attention_mask\n",
        "            )\n",
        "            pred_ids = pred_ids.cpu().numpy()\n",
        "            for pred_id in pred_ids:\n",
        "                pred_decoded = tokenizer.decode(pred_id)\n",
        "                pred.append(pred_decoded)\n",
        "\n",
        "    true_ohe = generate_one_hot_encoding(labels, true)\n",
        "    pred_ohe = generate_one_hot_encoding(labels, pred)\n",
        "\n",
        "    avg_val_loss = val_loss / len(val_dataloader)\n",
        "    print('Val loss:', avg_val_loss)\n",
        "    print('Val Jaccard Score:', jaccard_score(true_ohe, pred_ohe, average=\"samples\"))\n",
        "\n",
        "    val_micro_f1_score = f1_score(true_ohe, pred_ohe, average='macro')\n",
        "    print('Val micro f1 score:', val_micro_f1_score)\n",
        "    return val_micro_f1_score\n"
      ]
    },
    {
      "cell_type": "code",
      "execution_count": 66,
      "id": "748ceb34",
      "metadata": {
        "id": "748ceb34"
      },
      "outputs": [],
      "source": [
        "def run():\n",
        "    # setting a seed ensures reproducible results.\n",
        "    # seed may affect the performance too.\n",
        "    torch.manual_seed(seed)\n",
        "\n",
        "    criterion = nn.BCEWithLogitsLoss()\n",
        "\n",
        "    param_optimizer = list(model.named_parameters())\n",
        "    no_decay = [\"bias\", \"LayerNorm.bias\", \"LayerNorm.weight\"]\n",
        "    optimizer_parameters = [\n",
        "        {\n",
        "            \"params\": [\n",
        "                p for n, p in param_optimizer if not any(nd in n for nd in no_decay)\n",
        "            ],\n",
        "            \"weight_decay\": 0.001,\n",
        "        },\n",
        "        {\n",
        "            \"params\": [\n",
        "                p for n, p in param_optimizer if any(nd in n for nd in no_decay)\n",
        "            ],\n",
        "            \"weight_decay\": 0.0,\n",
        "        },\n",
        "    ]\n",
        "    optimizer = optim.AdamW(optimizer_parameters, lr=3e-4)\n",
        "\n",
        "    num_training_steps = len(train_dataloader) * epochs\n",
        "    scheduler = get_linear_schedule_with_warmup(\n",
        "        optimizer,\n",
        "        num_warmup_steps=0,\n",
        "        num_training_steps=num_training_steps\n",
        "    )\n",
        "\n",
        "    max_val_micro_f1_score = float('-inf')\n",
        "    for epoch in range(epochs):\n",
        "        train(model, train_dataloader, validation_dataloader, criterion, optimizer, scheduler, epoch)\n",
        "        val_micro_f1_score = val(model, validation_dataloader, criterion)\n",
        "\n",
        "        if True:\n",
        "            if val_micro_f1_score > max_val_micro_f1_score:\n",
        "                best_model = copy.deepcopy(model)\n",
        "                best_val_micro_f1_score = val_micro_f1_score\n",
        "\n",
        "                model_name = 't5_best_model'\n",
        "                torch.save(best_model.state_dict(), model_name + '.pt')\n",
        "\n",
        "                print(f'--- Best Model. Val loss: {max_val_micro_f1_score} -> {val_micro_f1_score}')\n",
        "                max_val_micro_f1_score = val_micro_f1_score\n",
        "\n",
        "    return best_model, best_val_micro_f1_score"
      ]
    },
    {
      "cell_type": "code",
      "source": [
        "\n",
        "torch.cuda.empty_cache()\n",
        "\n",
        "\n",
        "torch.cuda.memory_summary(device=None, abbreviated=False)\n"
      ],
      "metadata": {
        "colab": {
          "base_uri": "https://localhost:8080/",
          "height": 196
        },
        "id": "gXvYZP9G-Dc-",
        "outputId": "f9dd8de5-183e-4569-bf3c-1f60fbb84285"
      },
      "id": "gXvYZP9G-Dc-",
      "execution_count": 67,
      "outputs": [
        {
          "output_type": "execute_result",
          "data": {
            "text/plain": [
              "'|===========================================================================|\\n|                  PyTorch CUDA memory summary, device ID 0                 |\\n|---------------------------------------------------------------------------|\\n|            CUDA OOMs: 0            |        cudaMalloc retries: 0         |\\n|===========================================================================|\\n|        Metric         | Cur Usage  | Peak Usage | Tot Alloc  | Tot Freed  |\\n|---------------------------------------------------------------------------|\\n| Allocated memory      |   3599 MiB |  11368 MiB | 221891 GiB | 221887 GiB |\\n|       from large pool |   2806 MiB |  10913 MiB | 214274 GiB | 214272 GiB |\\n|       from small pool |    793 MiB |   1014 MiB |   7616 GiB |   7615 GiB |\\n|---------------------------------------------------------------------------|\\n| Active memory         |   3599 MiB |  11368 MiB | 221891 GiB | 221887 GiB |\\n|       from large pool |   2806 MiB |  10913 MiB | 214274 GiB | 214272 GiB |\\n|       from small pool |    793 MiB |   1014 MiB |   7616 GiB |   7615 GiB |\\n|---------------------------------------------------------------------------|\\n| Requested memory      |   3591 MiB |  11355 MiB | 221510 GiB | 221507 GiB |\\n|       from large pool |   2798 MiB |  10900 MiB | 213895 GiB | 213893 GiB |\\n|       from small pool |    793 MiB |   1014 MiB |   7615 GiB |   7614 GiB |\\n|---------------------------------------------------------------------------|\\n| GPU reserved memory   |   5390 MiB |  11780 MiB |  26128 MiB |  20738 MiB |\\n|       from large pool |   4566 MiB |  11190 MiB |  24682 MiB |  20116 MiB |\\n|       from small pool |    824 MiB |   1044 MiB |   1446 MiB |    622 MiB |\\n|---------------------------------------------------------------------------|\\n| Non-releasable memory |   1790 MiB |   3991 MiB | 138342 GiB | 138340 GiB |\\n|       from large pool |   1759 MiB |   3981 MiB | 130504 GiB | 130503 GiB |\\n|       from small pool |     30 MiB |     40 MiB |   7837 GiB |   7837 GiB |\\n|---------------------------------------------------------------------------|\\n| Allocations           |    1481    |    2005    |   35125 K  |   35123 K  |\\n|       from large pool |     308    |     512    |   12501 K  |   12500 K  |\\n|       from small pool |    1173    |    1508    |   22623 K  |   22622 K  |\\n|---------------------------------------------------------------------------|\\n| Active allocs         |    1481    |    2005    |   35125 K  |   35123 K  |\\n|       from large pool |     308    |     512    |   12501 K  |   12500 K  |\\n|       from small pool |    1173    |    1508    |   22623 K  |   22622 K  |\\n|---------------------------------------------------------------------------|\\n| GPU reserved segments |     515    |     647    |    1114    |     599    |\\n|       from large pool |     103    |     158    |     391    |     288    |\\n|       from small pool |     412    |     522    |     723    |     311    |\\n|---------------------------------------------------------------------------|\\n| Non-releasable allocs |     126    |     161    |   22196 K  |   22195 K  |\\n|       from large pool |      59    |     130    |    7180 K  |    7180 K  |\\n|       from small pool |      67    |     107    |   15015 K  |   15015 K  |\\n|---------------------------------------------------------------------------|\\n| Oversize allocations  |       0    |       0    |       0    |       0    |\\n|---------------------------------------------------------------------------|\\n| Oversize GPU segments |       0    |       0    |       0    |       0    |\\n|===========================================================================|\\n'"
            ],
            "application/vnd.google.colaboratory.intrinsic+json": {
              "type": "string"
            }
          },
          "metadata": {},
          "execution_count": 67
        }
      ]
    },
    {
      "cell_type": "code",
      "execution_count": 68,
      "id": "0f401913",
      "metadata": {
        "colab": {
          "base_uri": "https://localhost:8080/",
          "height": 1000,
          "referenced_widgets": [
            "fd0cdb8f557344db9df2c53a662a4884",
            "5ffd0b11785b40f3a0a0708f03d4ff24",
            "5f7a981180cc4ca09b1d9db2fcfa3917",
            "6537fdcdbf234efdb17e4d16e02ac45a",
            "7e70e7e9d79b4c83b1764ff75732b95c",
            "717abba34477455a837057dd67d6773d",
            "09c7a5d8e05842c3831e00dbdb4e891e",
            "c58ee9b83406472b8d070dc20a78dd32",
            "cdfc2afbf32d4e88a5c17c7f56cc5ae7",
            "acd661d99ae441838668da4d9f97176e",
            "d08d1aab7fc848e899e8e5230f3fb0d6",
            "af7c04a5caad4e809d0988dfbc35712e",
            "06484456927e4455820d026afb3ce2ef",
            "fbbeaff6bf094c908b59f5d243fbfeb6",
            "46854d520cea49f18919151c209cbc0d",
            "e3306351d7514dd5a43b2e4f911c1527",
            "1a70a4cf3b524802b82c98c89671b9a5",
            "5804d1f97e0e465f9d29060ae68f02c8",
            "78de84e1866043da859066c71a7ce7ce",
            "2792f290cf294bc3a07de30a54469d40",
            "6ee2566cc97d48f0b88b8daaba7b73ca",
            "284952c82fff4b1da5d2f466548905c6",
            "4e3c460f36514da5a076bdd552609475",
            "265fa010b62d4d0e96fb130a48de42fa",
            "3c6fe9da115243d6812f0a1ca24502de",
            "3d6e73b8adcc4f0abcfab8862f930bfb",
            "0cd619d20280461ab0de10080117ea94",
            "61c2c9130af449bda711f068c0bec3b7",
            "67c85c2fb0f645ee8e616b93ff917402",
            "97e38e6792c7404a94ed2390cf57efba",
            "1ac8d7f43d134f3683eff33cf264e3cc",
            "ca1dad19424d485f9204c53a524a4bff",
            "2e55802773db4ab6be3bbf355d6c279a",
            "b87d529670e84c40908fe5946e90206b",
            "fd83fcce3e174e05b1a80f4f6afb8a54",
            "78987e7903584ddc85e46c7f5adb747d",
            "d77b690ec1964a38b38890a2698544e5",
            "3cf5e6b6a5024d0288abf85067557b34",
            "8eb19764c33f46c38ffec3f337988b33",
            "67df63b854b84ed69482dc0ba6e0a7a7",
            "b61f86ee8c994fb3985f97be144ce990",
            "298f7854cc254aeb9ae5dd0236326d9c",
            "2b35ffecd9354011a3eaa98360197476",
            "d86fbc92b34146abb6d9bd227e11dde7",
            "a4506238b2694e0a94d7e6dddb2f92f9",
            "ba560112d419431b9605041e886e4ee7",
            "e956b4dddab24c378baa4fdf60ab6d4f",
            "72d9a3207d9948999c63b4ab3b7433ae",
            "79afd61e5536435f8e6a217312a3f33e",
            "e8ed0572dff64caa8f2b3f196644bf22",
            "fe39df09316f4b399882be7c12df3d15",
            "59576ed259db4bd9882f01b49a98a7b1",
            "eafecec09b9a497d93ad5f89f9dc1fc5",
            "68c9790193fa45ef999f0393655448bc",
            "b558f71f6c1248719035b0e054ab7af4",
            "d890f20f48504929980b5579ded7833a",
            "0869a10c09024cfda69b5a9cc982e45b",
            "0d9c8b7d762740ccbbffc50e6a542ed6",
            "ed12bc9a20954869b47dde0bdd470f8b",
            "78f93d953a924fcc904e9a2bdafe70fb",
            "16ff3a970d164e08b91800b13c9bb01a",
            "9ac0cf14e829452792900c5b89aa97cd",
            "c8828ef965004cc8873d711ab4c8a429",
            "8a05e45aa08a4dacbf02a5887d43e45d",
            "d114cdee143247128f8553a676b408fa",
            "b0856097c9a449b6a5293c2d966d039e",
            "473546298bf2479f963e3a224603a4c3",
            "6b6cec55850a41a7aab8935b7ed10fec",
            "5a41620c7fca4038a7681ad146799e06",
            "d274ba27391c494a827505d3b4d9f1b4",
            "7d37e8588e244e5b9c7a83ba809e79a9",
            "f9b9ea46e9324b18afcafd9ab8aa2df4",
            "05bd52953f1d46279e4b895f73d79f03",
            "3d133fed507646318d3612f815eccba3",
            "630d73360c964bc895cd80a0c93d6d03",
            "8973552b9f254e8db050b73b9601fff8",
            "30ed632befe14fe0accb3c80f9768da6",
            "41df6c5689984b75b2d4e608f4f1fed2",
            "fcd2a29b28df49bc9a48f3d47aee2d43",
            "056919facba540c3aa710088d2d28b19",
            "67c9103597584f40a50d41db4c62a805",
            "3eaa102c80d34623b1efb8acd8286cdb",
            "4c659f1a67134ae1b60eefef3b979c60",
            "35bdb617256e490a9c38ede9f77fcb2a",
            "b65539acb4c14de7a2f748f16a47c933",
            "727615ed0ee1411dbb357d6e08ba27f4",
            "6ce37a1084d54caa9ac5de2134c4bbe3",
            "4bc52569894244a5913c8445d7f638d9",
            "026db12e490a4762af26a63d21c054ce",
            "6671af56b7ea483ca72f4870814493de"
          ]
        },
        "id": "0f401913",
        "outputId": "46d25ef9-a97b-427e-e365-312392a46a7b"
      },
      "outputs": [
        {
          "data": {
            "application/vnd.jupyter.widget-view+json": {
              "model_id": "fd0cdb8f557344db9df2c53a662a4884",
              "version_major": 2,
              "version_minor": 0
            },
            "text/plain": [
              "Epoch 0:   0%|          | 0/999 [00:00<?, ?it/s]"
            ]
          },
          "metadata": {},
          "output_type": "display_data"
        },
        {
          "metadata": {
            "tags": null
          },
          "name": "stdout",
          "output_type": "stream",
          "text": [
            "-- Step: 0\n"
          ]
        },
        {
          "metadata": {
            "tags": null
          },
          "name": "stderr",
          "output_type": "stream",
          "text": [
            "/usr/local/lib/python3.10/dist-packages/transformers/generation/utils.py:1141: UserWarning: Using the model-agnostic default `max_length` (=20) to control the generation length. We recommend setting `max_new_tokens` to control the maximum length of the generation.\n",
            "  warnings.warn(\n"
          ]
        },
        {
          "metadata": {
            "tags": null
          },
          "name": "stdout",
          "output_type": "stream",
          "text": [
            "Val loss: 7.737827893849966\n",
            "Val Jaccard Score: 0.0\n",
            "Val micro f1 score: 0.0\n"
          ]
        },
        {
          "metadata": {
            "tags": null
          },
          "name": "stderr",
          "output_type": "stream",
          "text": [
            "/usr/local/lib/python3.10/dist-packages/sklearn/metrics/_classification.py:1344: UndefinedMetricWarning: Jaccard is ill-defined and being set to 0.0 in samples with no true or predicted labels. Use `zero_division` parameter to control this behavior.\n",
            "  _warn_prf(average, modifier, msg_start, len(result))\n"
          ]
        },
        {
          "metadata": {
            "tags": null
          },
          "name": "stdout",
          "output_type": "stream",
          "text": [
            "Training loss: 0.9753205355282899\n"
          ]
        },
        {
          "metadata": {
            "tags": null
          },
          "name": "stderr",
          "output_type": "stream",
          "text": [
            "/usr/local/lib/python3.10/dist-packages/transformers/generation/utils.py:1141: UserWarning: Using the model-agnostic default `max_length` (=20) to control the generation length. We recommend setting `max_new_tokens` to control the maximum length of the generation.\n",
            "  warnings.warn(\n"
          ]
        },
        {
          "metadata": {
            "tags": null
          },
          "name": "stdout",
          "output_type": "stream",
          "text": [
            "Val loss: 0.7503350844254365\n",
            "Val Jaccard Score: 0.0\n",
            "Val micro f1 score: 0.0\n",
            "--- Best Model. Val loss: -inf -> 0.0\n"
          ]
        },
        {
          "data": {
            "application/vnd.jupyter.widget-view+json": {
              "model_id": "af7c04a5caad4e809d0988dfbc35712e",
              "version_major": 2,
              "version_minor": 0
            },
            "text/plain": [
              "Epoch 1:   0%|          | 0/999 [00:00<?, ?it/s]"
            ]
          },
          "metadata": {},
          "output_type": "display_data"
        },
        {
          "metadata": {
            "tags": null
          },
          "name": "stdout",
          "output_type": "stream",
          "text": [
            "-- Step: 0\n"
          ]
        },
        {
          "metadata": {
            "tags": null
          },
          "name": "stderr",
          "output_type": "stream",
          "text": [
            "/usr/local/lib/python3.10/dist-packages/transformers/generation/utils.py:1141: UserWarning: Using the model-agnostic default `max_length` (=20) to control the generation length. We recommend setting `max_new_tokens` to control the maximum length of the generation.\n",
            "  warnings.warn(\n"
          ]
        },
        {
          "metadata": {
            "tags": null
          },
          "name": "stdout",
          "output_type": "stream",
          "text": [
            "Val loss: 0.7518877514579274\n",
            "Val Jaccard Score: 0.0\n",
            "Val micro f1 score: 0.0\n",
            "Training loss: 0.7696319382798087\n"
          ]
        },
        {
          "metadata": {
            "tags": null
          },
          "name": "stderr",
          "output_type": "stream",
          "text": [
            "/usr/local/lib/python3.10/dist-packages/transformers/generation/utils.py:1141: UserWarning: Using the model-agnostic default `max_length` (=20) to control the generation length. We recommend setting `max_new_tokens` to control the maximum length of the generation.\n",
            "  warnings.warn(\n"
          ]
        },
        {
          "metadata": {
            "tags": null
          },
          "name": "stdout",
          "output_type": "stream",
          "text": [
            "Val loss: 0.7363223534178089\n",
            "Val Jaccard Score: 0.0\n",
            "Val micro f1 score: 0.0\n"
          ]
        },
        {
          "data": {
            "application/vnd.jupyter.widget-view+json": {
              "model_id": "4e3c460f36514da5a076bdd552609475",
              "version_major": 2,
              "version_minor": 0
            },
            "text/plain": [
              "Epoch 2:   0%|          | 0/999 [00:00<?, ?it/s]"
            ]
          },
          "metadata": {},
          "output_type": "display_data"
        },
        {
          "metadata": {
            "tags": null
          },
          "name": "stdout",
          "output_type": "stream",
          "text": [
            "-- Step: 0\n"
          ]
        },
        {
          "metadata": {
            "tags": null
          },
          "name": "stderr",
          "output_type": "stream",
          "text": [
            "/usr/local/lib/python3.10/dist-packages/transformers/generation/utils.py:1141: UserWarning: Using the model-agnostic default `max_length` (=20) to control the generation length. We recommend setting `max_new_tokens` to control the maximum length of the generation.\n",
            "  warnings.warn(\n"
          ]
        },
        {
          "metadata": {
            "tags": null
          },
          "name": "stdout",
          "output_type": "stream",
          "text": [
            "Val loss: 0.7369727742027592\n",
            "Val Jaccard Score: 0.0\n",
            "Val micro f1 score: 0.0\n",
            "Training loss: 0.7047640935436741\n"
          ]
        },
        {
          "metadata": {
            "tags": null
          },
          "name": "stderr",
          "output_type": "stream",
          "text": [
            "/usr/local/lib/python3.10/dist-packages/transformers/generation/utils.py:1141: UserWarning: Using the model-agnostic default `max_length` (=20) to control the generation length. We recommend setting `max_new_tokens` to control the maximum length of the generation.\n",
            "  warnings.warn(\n"
          ]
        },
        {
          "metadata": {
            "tags": null
          },
          "name": "stdout",
          "output_type": "stream",
          "text": [
            "Val loss: 0.7480050340160593\n",
            "Val Jaccard Score: 0.0\n",
            "Val micro f1 score: 0.0\n"
          ]
        },
        {
          "data": {
            "application/vnd.jupyter.widget-view+json": {
              "model_id": "b87d529670e84c40908fe5946e90206b",
              "version_major": 2,
              "version_minor": 0
            },
            "text/plain": [
              "Epoch 3:   0%|          | 0/999 [00:00<?, ?it/s]"
            ]
          },
          "metadata": {},
          "output_type": "display_data"
        },
        {
          "metadata": {
            "tags": null
          },
          "name": "stdout",
          "output_type": "stream",
          "text": [
            "-- Step: 0\n"
          ]
        },
        {
          "metadata": {
            "tags": null
          },
          "name": "stderr",
          "output_type": "stream",
          "text": [
            "/usr/local/lib/python3.10/dist-packages/transformers/generation/utils.py:1141: UserWarning: Using the model-agnostic default `max_length` (=20) to control the generation length. We recommend setting `max_new_tokens` to control the maximum length of the generation.\n",
            "  warnings.warn(\n"
          ]
        },
        {
          "metadata": {
            "tags": null
          },
          "name": "stdout",
          "output_type": "stream",
          "text": [
            "Val loss: 0.7493513139921266\n",
            "Val Jaccard Score: 0.0\n",
            "Val micro f1 score: 0.0\n",
            "Training loss: 0.6315981273626065\n"
          ]
        },
        {
          "metadata": {
            "tags": null
          },
          "name": "stderr",
          "output_type": "stream",
          "text": [
            "/usr/local/lib/python3.10/dist-packages/transformers/generation/utils.py:1141: UserWarning: Using the model-agnostic default `max_length` (=20) to control the generation length. We recommend setting `max_new_tokens` to control the maximum length of the generation.\n",
            "  warnings.warn(\n"
          ]
        },
        {
          "metadata": {
            "tags": null
          },
          "name": "stdout",
          "output_type": "stream",
          "text": [
            "Val loss: 0.7704142301200746\n",
            "Val Jaccard Score: 0.0\n",
            "Val micro f1 score: 0.0\n"
          ]
        },
        {
          "data": {
            "application/vnd.jupyter.widget-view+json": {
              "model_id": "a4506238b2694e0a94d7e6dddb2f92f9",
              "version_major": 2,
              "version_minor": 0
            },
            "text/plain": [
              "Epoch 4:   0%|          | 0/999 [00:00<?, ?it/s]"
            ]
          },
          "metadata": {},
          "output_type": "display_data"
        },
        {
          "metadata": {
            "tags": null
          },
          "name": "stdout",
          "output_type": "stream",
          "text": [
            "-- Step: 0\n"
          ]
        },
        {
          "metadata": {
            "tags": null
          },
          "name": "stderr",
          "output_type": "stream",
          "text": [
            "/usr/local/lib/python3.10/dist-packages/transformers/generation/utils.py:1141: UserWarning: Using the model-agnostic default `max_length` (=20) to control the generation length. We recommend setting `max_new_tokens` to control the maximum length of the generation.\n",
            "  warnings.warn(\n"
          ]
        },
        {
          "metadata": {
            "tags": null
          },
          "name": "stdout",
          "output_type": "stream",
          "text": [
            "Val loss: 0.7718260486249451\n",
            "Val Jaccard Score: 0.0\n",
            "Val micro f1 score: 0.0\n",
            "Training loss: 0.5517473799419833\n"
          ]
        },
        {
          "metadata": {
            "tags": null
          },
          "name": "stderr",
          "output_type": "stream",
          "text": [
            "/usr/local/lib/python3.10/dist-packages/transformers/generation/utils.py:1141: UserWarning: Using the model-agnostic default `max_length` (=20) to control the generation length. We recommend setting `max_new_tokens` to control the maximum length of the generation.\n",
            "  warnings.warn(\n"
          ]
        },
        {
          "metadata": {
            "tags": null
          },
          "name": "stdout",
          "output_type": "stream",
          "text": [
            "Val loss: 0.8151876838491844\n",
            "Val Jaccard Score: 0.0\n",
            "Val micro f1 score: 0.0\n"
          ]
        },
        {
          "data": {
            "application/vnd.jupyter.widget-view+json": {
              "model_id": "ba560112d419431b9605041e886e4ee7",
              "version_major": 2,
              "version_minor": 0
            },
            "text/plain": [
              "Epoch 5:   0%|          | 0/999 [00:00<?, ?it/s]"
            ]
          },
          "metadata": {},
          "output_type": "display_data"
        },
        {
          "metadata": {
            "tags": null
          },
          "name": "stdout",
          "output_type": "stream",
          "text": [
            "-- Step: 0\n"
          ]
        },
        {
          "metadata": {
            "tags": null
          },
          "name": "stderr",
          "output_type": "stream",
          "text": [
            "/usr/local/lib/python3.10/dist-packages/transformers/generation/utils.py:1141: UserWarning: Using the model-agnostic default `max_length` (=20) to control the generation length. We recommend setting `max_new_tokens` to control the maximum length of the generation.\n",
            "  warnings.warn(\n"
          ]
        },
        {
          "output_type": "stream",
          "name": "stdout",
          "text": [
            "Val loss: 0.8170675587009739\n",
            "Val Jaccard Score: 0.0\n",
            "Val micro f1 score: 0.0\n",
            "Training loss: 0.478772453859344\n"
          ]
        },
        {
          "output_type": "stream",
          "name": "stderr",
          "text": [
            "/usr/local/lib/python3.10/dist-packages/transformers/generation/utils.py:1141: UserWarning: Using the model-agnostic default `max_length` (=20) to control the generation length. We recommend setting `max_new_tokens` to control the maximum length of the generation.\n",
            "  warnings.warn(\n"
          ]
        },
        {
          "output_type": "stream",
          "name": "stdout",
          "text": [
            "Val loss: 0.8622467262116639\n",
            "Val Jaccard Score: 0.0\n",
            "Val micro f1 score: 0.0\n"
          ]
        },
        {
          "output_type": "display_data",
          "data": {
            "text/plain": [
              "Epoch 6:   0%|          | 0/999 [00:00<?, ?it/s]"
            ],
            "application/vnd.jupyter.widget-view+json": {
              "version_major": 2,
              "version_minor": 0,
              "model_id": "e956b4dddab24c378baa4fdf60ab6d4f"
            }
          },
          "metadata": {}
        },
        {
          "output_type": "stream",
          "name": "stdout",
          "text": [
            "-- Step: 0\n"
          ]
        },
        {
          "output_type": "stream",
          "name": "stderr",
          "text": [
            "/usr/local/lib/python3.10/dist-packages/transformers/generation/utils.py:1141: UserWarning: Using the model-agnostic default `max_length` (=20) to control the generation length. We recommend setting `max_new_tokens` to control the maximum length of the generation.\n",
            "  warnings.warn(\n"
          ]
        },
        {
          "output_type": "stream",
          "name": "stdout",
          "text": [
            "Val loss: 0.8646315781248582\n",
            "Val Jaccard Score: 0.0\n",
            "Val micro f1 score: 0.0\n",
            "Training loss: 0.41762603741060866\n"
          ]
        },
        {
          "output_type": "stream",
          "name": "stderr",
          "text": [
            "/usr/local/lib/python3.10/dist-packages/transformers/generation/utils.py:1141: UserWarning: Using the model-agnostic default `max_length` (=20) to control the generation length. We recommend setting `max_new_tokens` to control the maximum length of the generation.\n",
            "  warnings.warn(\n"
          ]
        },
        {
          "output_type": "stream",
          "name": "stdout",
          "text": [
            "Val loss: 0.9507568086589779\n",
            "Val Jaccard Score: 0.0\n",
            "Val micro f1 score: 0.0\n"
          ]
        },
        {
          "output_type": "stream",
          "name": "stderr",
          "text": [
            "/usr/local/lib/python3.10/dist-packages/sklearn/metrics/_classification.py:1344: UndefinedMetricWarning: Jaccard is ill-defined and being set to 0.0 in samples with no true or predicted labels. Use `zero_division` parameter to control this behavior.\n",
            "  _warn_prf(average, modifier, msg_start, len(result))\n"
          ]
        },
        {
          "output_type": "display_data",
          "data": {
            "text/plain": [
              "Epoch 7:   0%|          | 0/999 [00:00<?, ?it/s]"
            ],
            "application/vnd.jupyter.widget-view+json": {
              "version_major": 2,
              "version_minor": 0,
              "model_id": "0d9c8b7d762740ccbbffc50e6a542ed6"
            }
          },
          "metadata": {}
        },
        {
          "output_type": "stream",
          "name": "stdout",
          "text": [
            "-- Step: 0\n"
          ]
        },
        {
          "output_type": "stream",
          "name": "stderr",
          "text": [
            "/usr/local/lib/python3.10/dist-packages/transformers/generation/utils.py:1141: UserWarning: Using the model-agnostic default `max_length` (=20) to control the generation length. We recommend setting `max_new_tokens` to control the maximum length of the generation.\n",
            "  warnings.warn(\n"
          ]
        },
        {
          "output_type": "stream",
          "name": "stdout",
          "text": [
            "Val loss: 0.9511017481217513\n",
            "Val Jaccard Score: 0.0\n",
            "Val micro f1 score: 0.0\n"
          ]
        },
        {
          "output_type": "stream",
          "name": "stderr",
          "text": [
            "/usr/local/lib/python3.10/dist-packages/sklearn/metrics/_classification.py:1344: UndefinedMetricWarning: Jaccard is ill-defined and being set to 0.0 in samples with no true or predicted labels. Use `zero_division` parameter to control this behavior.\n",
            "  _warn_prf(average, modifier, msg_start, len(result))\n"
          ]
        },
        {
          "output_type": "stream",
          "name": "stdout",
          "text": [
            "Training loss: 0.36051956756978304\n"
          ]
        },
        {
          "output_type": "stream",
          "name": "stderr",
          "text": [
            "/usr/local/lib/python3.10/dist-packages/transformers/generation/utils.py:1141: UserWarning: Using the model-agnostic default `max_length` (=20) to control the generation length. We recommend setting `max_new_tokens` to control the maximum length of the generation.\n",
            "  warnings.warn(\n"
          ]
        },
        {
          "output_type": "stream",
          "name": "stdout",
          "text": [
            "Val loss: 1.0078196848432224\n",
            "Val Jaccard Score: 0.0\n",
            "Val micro f1 score: 0.0\n"
          ]
        },
        {
          "output_type": "stream",
          "name": "stderr",
          "text": [
            "/usr/local/lib/python3.10/dist-packages/sklearn/metrics/_classification.py:1344: UndefinedMetricWarning: Jaccard is ill-defined and being set to 0.0 in samples with no true or predicted labels. Use `zero_division` parameter to control this behavior.\n",
            "  _warn_prf(average, modifier, msg_start, len(result))\n"
          ]
        },
        {
          "output_type": "display_data",
          "data": {
            "text/plain": [
              "Epoch 8:   0%|          | 0/999 [00:00<?, ?it/s]"
            ],
            "application/vnd.jupyter.widget-view+json": {
              "version_major": 2,
              "version_minor": 0,
              "model_id": "5a41620c7fca4038a7681ad146799e06"
            }
          },
          "metadata": {}
        },
        {
          "output_type": "stream",
          "name": "stdout",
          "text": [
            "-- Step: 0\n"
          ]
        },
        {
          "output_type": "stream",
          "name": "stderr",
          "text": [
            "/usr/local/lib/python3.10/dist-packages/transformers/generation/utils.py:1141: UserWarning: Using the model-agnostic default `max_length` (=20) to control the generation length. We recommend setting `max_new_tokens` to control the maximum length of the generation.\n",
            "  warnings.warn(\n"
          ]
        },
        {
          "output_type": "stream",
          "name": "stdout",
          "text": [
            "Val loss: 1.0092577809417569\n",
            "Val Jaccard Score: 0.0\n",
            "Val micro f1 score: 0.0\n"
          ]
        },
        {
          "output_type": "stream",
          "name": "stderr",
          "text": [
            "/usr/local/lib/python3.10/dist-packages/sklearn/metrics/_classification.py:1344: UndefinedMetricWarning: Jaccard is ill-defined and being set to 0.0 in samples with no true or predicted labels. Use `zero_division` parameter to control this behavior.\n",
            "  _warn_prf(average, modifier, msg_start, len(result))\n"
          ]
        },
        {
          "output_type": "stream",
          "name": "stdout",
          "text": [
            "Training loss: 0.31950815968043933\n"
          ]
        },
        {
          "output_type": "stream",
          "name": "stderr",
          "text": [
            "/usr/local/lib/python3.10/dist-packages/transformers/generation/utils.py:1141: UserWarning: Using the model-agnostic default `max_length` (=20) to control the generation length. We recommend setting `max_new_tokens` to control the maximum length of the generation.\n",
            "  warnings.warn(\n"
          ]
        },
        {
          "output_type": "stream",
          "name": "stdout",
          "text": [
            "Val loss: 1.0484820852005803\n",
            "Val Jaccard Score: 0.0\n",
            "Val micro f1 score: 0.0\n"
          ]
        },
        {
          "output_type": "stream",
          "name": "stderr",
          "text": [
            "/usr/local/lib/python3.10/dist-packages/sklearn/metrics/_classification.py:1344: UndefinedMetricWarning: Jaccard is ill-defined and being set to 0.0 in samples with no true or predicted labels. Use `zero_division` parameter to control this behavior.\n",
            "  _warn_prf(average, modifier, msg_start, len(result))\n"
          ]
        },
        {
          "output_type": "display_data",
          "data": {
            "text/plain": [
              "Epoch 9:   0%|          | 0/999 [00:00<?, ?it/s]"
            ],
            "application/vnd.jupyter.widget-view+json": {
              "version_major": 2,
              "version_minor": 0,
              "model_id": "056919facba540c3aa710088d2d28b19"
            }
          },
          "metadata": {}
        },
        {
          "output_type": "stream",
          "name": "stdout",
          "text": [
            "-- Step: 0\n"
          ]
        },
        {
          "output_type": "stream",
          "name": "stderr",
          "text": [
            "/usr/local/lib/python3.10/dist-packages/transformers/generation/utils.py:1141: UserWarning: Using the model-agnostic default `max_length` (=20) to control the generation length. We recommend setting `max_new_tokens` to control the maximum length of the generation.\n",
            "  warnings.warn(\n"
          ]
        },
        {
          "output_type": "stream",
          "name": "stdout",
          "text": [
            "Val loss: 1.0482434298138361\n",
            "Val Jaccard Score: 0.0\n",
            "Val micro f1 score: 0.0\n"
          ]
        },
        {
          "output_type": "stream",
          "name": "stderr",
          "text": [
            "/usr/local/lib/python3.10/dist-packages/sklearn/metrics/_classification.py:1344: UndefinedMetricWarning: Jaccard is ill-defined and being set to 0.0 in samples with no true or predicted labels. Use `zero_division` parameter to control this behavior.\n",
            "  _warn_prf(average, modifier, msg_start, len(result))\n"
          ]
        },
        {
          "output_type": "stream",
          "name": "stdout",
          "text": [
            "Training loss: 0.2915868746364737\n"
          ]
        },
        {
          "output_type": "stream",
          "name": "stderr",
          "text": [
            "/usr/local/lib/python3.10/dist-packages/transformers/generation/utils.py:1141: UserWarning: Using the model-agnostic default `max_length` (=20) to control the generation length. We recommend setting `max_new_tokens` to control the maximum length of the generation.\n",
            "  warnings.warn(\n"
          ]
        },
        {
          "output_type": "stream",
          "name": "stdout",
          "text": [
            "Val loss: 1.0705407723650202\n",
            "Val Jaccard Score: 0.0\n",
            "Val micro f1 score: 0.0\n"
          ]
        },
        {
          "output_type": "stream",
          "name": "stderr",
          "text": [
            "/usr/local/lib/python3.10/dist-packages/sklearn/metrics/_classification.py:1344: UndefinedMetricWarning: Jaccard is ill-defined and being set to 0.0 in samples with no true or predicted labels. Use `zero_division` parameter to control this behavior.\n",
            "  _warn_prf(average, modifier, msg_start, len(result))\n"
          ]
        }
      ],
      "source": [
        "torch.cuda.empty_cache()\n",
        "best_model, best_val_micro_f1_score = run()\n"
      ]
    },
    {
      "cell_type": "code",
      "execution_count": 50,
      "id": "d80ac0f7",
      "metadata": {
        "id": "d80ac0f7"
      },
      "outputs": [],
      "source": []
    },
    {
      "cell_type": "code",
      "source": [
        "torch.save(model.state_dict(), 't5-ft' + '.pt')"
      ],
      "metadata": {
        "id": "f0Wv-T19Bkw7"
      },
      "id": "f0Wv-T19Bkw7",
      "execution_count": 51,
      "outputs": []
    },
    {
      "cell_type": "code",
      "source": [
        "dataset_size = len(test_df)\n",
        "test_indices = list(range(dataset_size))\n",
        "\n",
        "test_data = ClassificationDataset(test_df, test_indices, tokenizer)\n",
        "test_dataloader = DataLoader(test_data, batch_size=8)"
      ],
      "metadata": {
        "id": "KTw-7VfUusDo"
      },
      "id": "KTw-7VfUusDo",
      "execution_count": 69,
      "outputs": []
    },
    {
      "cell_type": "code",
      "source": [
        "pred = []\n",
        "def predict(model):\n",
        "    val_loss = 0\n",
        "\n",
        "    model.eval()\n",
        "    for step, batch in tqdm(enumerate(test_dataloader), total=len(test_dataloader)):\n",
        "        b_src_input_ids = batch['input_ids'].to(device)\n",
        "        b_src_attention_mask = batch['attention_mask'].to(device)\n",
        "\n",
        "        with torch.no_grad():\n",
        "            # get pred\n",
        "            pred_ids = model.generate(\n",
        "                input_ids=b_src_input_ids,\n",
        "                attention_mask=b_src_attention_mask\n",
        "            )\n",
        "            pred_ids = pred_ids.cpu().numpy()\n",
        "            for pred_id in pred_ids:\n",
        "                pred_decoded = tokenizer.decode(pred_id)\n",
        "                pred.append(pred_decoded)\n",
        "    print(pred)\n",
        "    pred_ohe = generate_one_hot_encoding(labels,pred)\n",
        "    return pred_ohe\n",
        "\n",
        "pred_ohe = predict(model)"
      ],
      "metadata": {
        "colab": {
          "base_uri": "https://localhost:8080/",
          "height": 123,
          "referenced_widgets": [
            "ad3d5d5e60d14707ba1555d87e54e5fb",
            "252345d3d2e04d08ba600fc6b34f669c",
            "f5bbb508db854442aabe3ec37033538e",
            "4f6a0a5b8c774d2ba91d9990211c2f6f",
            "3b708dcc6d4542fdbc886ccea3b9a3bf",
            "eefd0fb6396f414aaa0188b8ef4e1906",
            "ea6fdfd7e3844da5bfcba55e51b59c6f",
            "2ea24231cb0848c784994d06c86e1679",
            "8751a89fa8854f5ebee4ba1349b5e9e4",
            "c1dcb0efa4b843a583af8fe209cf85ce",
            "2e265fa939d145b082029c7f41ce0763"
          ]
        },
        "id": "ofygfH2-vh6R",
        "outputId": "dd0d397a-17a2-4cb6-c381-5103484ca2ea"
      },
      "id": "ofygfH2-vh6R",
      "execution_count": 70,
      "outputs": [
        {
          "output_type": "display_data",
          "data": {
            "text/plain": [
              "  0%|          | 0/278 [00:00<?, ?it/s]"
            ],
            "application/vnd.jupyter.widget-view+json": {
              "version_major": 2,
              "version_minor": 0,
              "model_id": "ad3d5d5e60d14707ba1555d87e54e5fb"
            }
          },
          "metadata": {}
        },
        {
          "output_type": "stream",
          "name": "stderr",
          "text": [
            "/usr/local/lib/python3.10/dist-packages/transformers/generation/utils.py:1141: UserWarning: Using the model-agnostic default `max_length` (=20) to control the generation length. We recommend setting `max_new_tokens` to control the maximum length of the generation.\n",
            "  warnings.warn(\n"
          ]
        },
        {
          "output_type": "stream",
          "name": "stdout",
          "text": [
            "['<pad> philosophy</s>', '<pad> life</s>', '<pad> inspirational</s>', '<pad> inspirational</s>', '<pad> love</s>', '<pad> love</s>', '<pad> life</s>', '<pad> life</s>', '<pad> humor</s>', '<pad> love</s>', '<pad> life</s>', '<pad> humor</s>', '<pad> love</s>', '<pad> inspirational</s>', '<pad> inspirational</s>', '<pad> inspirational</s>', '<pad> love</s><pad><pad><pad>', '<pad> humor</s><pad><pad><pad>', '<pad> inspirational</s><pad><pad><pad>', '<pad> inspirational philosophy life love</s>', '<pad> inspirational philosophy</s><pad><pad>', '<pad> inspirational</s><pad><pad><pad>', '<pad> philosophy</s><pad><pad><pad>', '<pad> inspirational</s><pad><pad><pad>', '<pad> love</s><pad><pad><pad>', '<pad> inspirational philosophy life love</s>', '<pad> life</s><pad><pad><pad>', '<pad> love</s><pad><pad><pad>', '<pad> inspirational</s><pad><pad><pad>', '<pad> love</s><pad><pad><pad>', '<pad> love</s><pad><pad><pad>', '<pad> life</s><pad><pad><pad>', '<pad> life</s>', '<pad> love</s>', '<pad> inspirational</s>', '<pad> humor</s>', '<pad> love</s>', '<pad> love</s>', '<pad> love</s>', '<pad> inspirational</s>', '<pad> love</s>', '<pad> love</s>', '<pad> love</s>', '<pad> life</s>', '<pad> inspirational</s>', '<pad> inspirational</s>', '<pad> love</s>', '<pad> life</s>', '<pad> life love</s>', '<pad> inspirational life</s>', '<pad> humor</s><pad>', '<pad> love</s><pad>', '<pad> humor</s><pad>', '<pad> humor</s><pad>', '<pad> humor</s><pad>', '<pad> humor</s><pad>', '<pad> philosophy</s><pad><pad><pad>', '<pad> humor</s><pad><pad><pad>', '<pad> inspirational philosophy life love</s>', '<pad> humor</s><pad><pad><pad>', '<pad> love</s><pad><pad><pad>', '<pad> humor</s><pad><pad><pad>', '<pad> life</s><pad><pad><pad>', '<pad> inspirational</s><pad><pad><pad>', '<pad> love</s>', '<pad> humor</s>', '<pad> humor</s>', '<pad> love</s>', '<pad> inspirational</s>', '<pad> inspirational</s>', '<pad> philosophy</s>', '<pad> love</s>', '<pad> inspirational philosophy</s><pad>', '<pad> inspirational life</s><pad>', '<pad> life</s><pad><pad>', '<pad> life</s><pad><pad>', '<pad> inspirational philosophy love</s>', '<pad> inspirational philosophy</s><pad>', '<pad> inspirational philosophy</s><pad>', '<pad> inspirational philosophy</s><pad>', '<pad> love</s>', '<pad> life</s>', '<pad> humor</s>', '<pad> humor</s>', '<pad> life</s>', '<pad> love</s>', '<pad> love</s>', '<pad> inspirational</s>', '<pad> inspirational</s>', '<pad> love</s>', '<pad> life</s>', '<pad> love</s>', '<pad> life</s>', '<pad> humor</s>', '<pad> inspirational</s>', '<pad> life</s>', '<pad> love</s><pad>', '<pad> love</s><pad>', '<pad> love</s><pad>', '<pad> philosophy</s><pad>', '<pad> love</s><pad>', '<pad> love</s><pad>', '<pad> life love</s>', '<pad> love</s><pad>', '<pad> love</s><pad>', '<pad> love</s><pad>', '<pad> love</s><pad>', '<pad> life</s><pad>', '<pad> inspirational philosophy</s>', '<pad> inspirational</s><pad>', '<pad> humor</s><pad>', '<pad> inspirational</s><pad>', '<pad> life love</s>', '<pad> humor</s><pad>', '<pad> humor</s><pad>', '<pad> inspirational</s><pad>', '<pad> philosophy</s><pad>', '<pad> inspirational life</s>', '<pad> love</s><pad>', '<pad> life</s><pad>', '<pad> life</s><pad>', '<pad> life</s><pad>', '<pad> life</s><pad>', '<pad> philosophy</s><pad>', '<pad> love</s><pad>', '<pad> inspirational philosophy</s>', '<pad> philosophy</s><pad>', '<pad> life</s><pad>', '<pad> inspirational</s><pad>', '<pad> love</s><pad>', '<pad> life</s><pad>', '<pad> life love</s>', '<pad> life love</s>', '<pad> inspirational</s><pad>', '<pad> humor</s><pad>', '<pad> life</s><pad>', '<pad> love</s><pad>', '<pad> love</s><pad>', '<pad> inspirational philosophy</s>', '<pad> humor</s><pad>', '<pad> love</s><pad>', '<pad> life</s><pad>', '<pad> life</s><pad>', '<pad> humor</s><pad>', '<pad> life</s>', '<pad> life</s>', '<pad> love</s>', '<pad> love</s>', '<pad> philosophy</s>', '<pad> life</s>', '<pad> life</s>', '<pad> inspirational</s>', '<pad> life</s><pad>', '<pad> life</s><pad>', '<pad> life</s><pad>', '<pad> inspirational philosophy</s>', '<pad> inspirational</s><pad>', '<pad> love</s><pad>', '<pad> life</s><pad>', '<pad> love</s><pad>', '<pad> love</s><pad><pad><pad>', '<pad> love</s><pad><pad><pad>', '<pad> love</s><pad><pad><pad>', '<pad> humor</s><pad><pad><pad>', '<pad> inspirational philosophy life love</s>', '<pad> life love</s><pad><pad>', '<pad> life</s><pad><pad><pad>', '<pad> inspirational</s><pad><pad><pad>', '<pad> inspirational</s><pad>', '<pad> humor</s><pad>', '<pad> inspirational life</s>', '<pad> life</s><pad>', '<pad> philosophy</s><pad>', '<pad> life</s><pad>', '<pad> life love</s>', '<pad> love</s><pad>', '<pad> love</s><pad><pad><pad>', '<pad> life</s><pad><pad><pad>', '<pad> inspirational philosophy life love</s>', '<pad> life</s><pad><pad><pad>', '<pad> love</s><pad><pad><pad>', '<pad> love</s><pad><pad><pad>', '<pad> humor</s><pad><pad><pad>', '<pad> love</s><pad><pad><pad>', '<pad> life</s><pad><pad><pad>', '<pad> inspirational philosophy life love</s>', '<pad> humor</s><pad><pad><pad>', '<pad> love</s><pad><pad><pad>', '<pad> inspirational</s><pad><pad><pad>', '<pad> inspirational philosophy</s><pad><pad>', '<pad> love</s><pad><pad><pad>', '<pad> humor</s><pad><pad><pad>', '<pad> inspirational philosophy life love</s>', '<pad> love</s><pad><pad><pad>', '<pad> life</s><pad><pad><pad>', '<pad> inspirational philosophy</s><pad><pad>', '<pad> life</s><pad><pad><pad>', '<pad> life</s><pad><pad><pad>', '<pad> life</s><pad><pad><pad>', '<pad> inspirational philosophy</s><pad><pad>', '<pad> life</s><pad>', '<pad> inspirational philosophy</s>', '<pad> inspirational life</s>', '<pad> humor</s><pad>', '<pad> philosophy</s><pad>', '<pad> love</s><pad>', '<pad> inspirational</s><pad>', '<pad> philosophy</s><pad>', '<pad> life</s><pad>', '<pad> love</s><pad>', '<pad> inspirational philosophy</s>', '<pad> philosophy</s><pad>', '<pad> love</s><pad>', '<pad> inspirational</s><pad>', '<pad> love</s><pad>', '<pad> inspirational</s><pad>', '<pad> inspirational</s>', '<pad> life</s>', '<pad> inspirational</s>', '<pad> love</s>', '<pad> love</s>', '<pad> inspirational</s>', '<pad> love</s>', '<pad> life</s>', '<pad> love</s><pad><pad><pad>', '<pad> inspirational life</s><pad><pad>', '<pad> inspirational philosophy life love</s>', '<pad> inspirational philosophy</s><pad><pad>', '<pad> love</s><pad><pad><pad>', '<pad> life</s><pad><pad><pad>', '<pad> love</s><pad><pad><pad>', '<pad> inspirational</s><pad><pad><pad>', '<pad> philosophy</s><pad><pad><pad>', '<pad> love</s><pad><pad><pad>', '<pad> inspirational philosophy life love</s>', '<pad> inspirational</s><pad><pad><pad>', '<pad> inspirational</s><pad><pad><pad>', '<pad> inspirational</s><pad><pad><pad>', '<pad> life</s><pad><pad><pad>', '<pad> inspirational philosophy life love</s>', '<pad> inspirational</s><pad><pad><pad>', '<pad> inspirational philosophy life love</s>', '<pad> love</s><pad><pad><pad>', '<pad> inspirational philosophy</s><pad><pad>', '<pad> inspirational philosophy</s><pad><pad>', '<pad> love</s><pad><pad><pad>', '<pad> inspirational</s><pad><pad><pad>', '<pad> inspirational philosophy</s><pad><pad>', '<pad> humor</s><pad>', '<pad> inspirational</s><pad>', '<pad> life</s><pad>', '<pad> life</s><pad>', '<pad> life love</s>', '<pad> inspirational</s><pad>', '<pad> inspirational philosophy</s>', '<pad> life</s><pad>', '<pad> inspirational</s><pad>', '<pad> life</s><pad>', '<pad> inspirational</s><pad>', '<pad> life</s><pad>', '<pad> love</s><pad>', '<pad> humor inspirational</s>', '<pad> inspirational</s><pad>', '<pad> love</s><pad>', '<pad> philosophy</s><pad>', '<pad> life</s><pad>', '<pad> inspirational</s><pad>', '<pad> life</s><pad>', '<pad> inspirational</s><pad>', '<pad> life love</s>', '<pad> inspirational</s><pad>', '<pad> inspirational philosophy</s>', '<pad> love</s><pad><pad>', '<pad> inspirational</s><pad><pad>', '<pad> inspirational</s><pad><pad>', '<pad> inspirational life love</s>', '<pad> humor inspirational</s><pad>', '<pad> philosophy</s><pad><pad>', '<pad> love</s><pad><pad>', '<pad> life love</s><pad>', '<pad> love</s><pad><pad><pad>', '<pad> love</s><pad><pad><pad>', '<pad> love</s><pad><pad><pad>', '<pad> inspirational philosophy life love</s>', '<pad> inspirational</s><pad><pad><pad>', '<pad> love</s><pad><pad><pad>', '<pad> love</s><pad><pad><pad>', '<pad> love</s><pad><pad><pad>', '<pad> life</s><pad><pad><pad><pad>', '<pad> inspirational</s><pad><pad><pad><pad>', '<pad> humor</s><pad><pad><pad><pad>', '<pad> inspirational humor philosophy love life</s>', '<pad> life</s><pad><pad><pad><pad>', '<pad> love</s><pad><pad><pad><pad>', '<pad> love</s><pad><pad><pad><pad>', '<pad> love</s><pad><pad><pad><pad>', '<pad> inspirational</s><pad>', '<pad> love</s><pad>', '<pad> inspirational philosophy</s>', '<pad> love</s><pad>', '<pad> life</s><pad>', '<pad> life</s><pad>', '<pad> life</s><pad>', '<pad> humor</s><pad>', '<pad> life</s>', '<pad> philosophy</s>', '<pad> love</s>', '<pad> humor</s>', '<pad> love</s>', '<pad> love</s>', '<pad> love</s>', '<pad> life</s>', '<pad> love</s><pad>', '<pad> life</s><pad>', '<pad> life love</s>', '<pad> love</s><pad>', '<pad> love</s><pad>', '<pad> life</s><pad>', '<pad> inspirational philosophy</s>', '<pad> life</s><pad>', '<pad> inspirational philosophy</s>', '<pad> life</s><pad>', '<pad> inspirational</s><pad>', '<pad> philosophy</s><pad>', '<pad> love</s><pad>', '<pad> life</s><pad>', '<pad> love</s><pad>', '<pad> love</s><pad>', '<pad> inspirational life</s><pad><pad>', '<pad> life love</s><pad><pad>', '<pad> life</s><pad><pad><pad>', '<pad> inspirational philosophy life love</s>', '<pad> philosophy life</s><pad><pad>', '<pad> love</s><pad><pad><pad>', '<pad> love</s><pad><pad><pad>', '<pad> love</s><pad><pad><pad>', '<pad> love</s>', '<pad> inspirational</s>', '<pad> life</s>', '<pad> love</s>', '<pad> philosophy</s>', '<pad> humor</s>', '<pad> life</s>', '<pad> inspirational</s>', '<pad> inspirational philosophy</s><pad><pad>', '<pad> love</s><pad><pad><pad>', '<pad> inspirational</s><pad><pad><pad>', '<pad> inspirational philosophy love</s><pad>', '<pad> inspirational</s><pad><pad><pad>', '<pad> love</s><pad><pad><pad>', '<pad> inspirational philosophy life love</s>', '<pad> love</s><pad><pad><pad>', '<pad> inspirational philosophy life love</s>', '<pad> life</s><pad><pad><pad>', '<pad> philosophy</s><pad><pad><pad>', '<pad> life</s><pad><pad><pad>', '<pad> love</s><pad><pad><pad>', '<pad> inspirational philosophy</s><pad><pad>', '<pad> philosophy</s><pad><pad><pad>', '<pad> humor</s><pad><pad><pad>', '<pad> life</s>', '<pad> philosophy</s>', '<pad> humor</s>', '<pad> life</s>', '<pad> philosophy</s>', '<pad> love</s>', '<pad> life</s>', '<pad> humor</s>', '<pad> life</s>', '<pad> life</s>', '<pad> philosophy</s>', '<pad> humor</s>', '<pad> love</s>', '<pad> life</s>', '<pad> life</s>', '<pad> life</s>', '<pad> life</s><pad>', '<pad> life</s><pad>', '<pad> life</s><pad>', '<pad> love</s><pad>', '<pad> life love</s>', '<pad> love</s><pad>', '<pad> humor</s><pad>', '<pad> love</s><pad>', '<pad> life</s>', '<pad> love</s>', '<pad> neg</s>', '<pad> inspirational</s>', '<pad> love</s>', '<pad> inspirational</s>', '<pad> life</s>', '<pad> inspirational</s>', '<pad> love</s>', '<pad> inspirational</s>', '<pad> life</s>', '<pad> humor</s>', '<pad> love</s>', '<pad> life</s>', '<pad> life</s>', '<pad> life</s>', '<pad> love</s>', '<pad> love</s>', '<pad> life</s>', '<pad> life</s>', '<pad> humor</s>', '<pad> love</s>', '<pad> inspirational</s>', '<pad> love</s>', '<pad> inspirational life love</s>', '<pad> life</s><pad><pad>', '<pad> life</s><pad><pad>', '<pad> humor</s><pad><pad>', '<pad> philosophy</s><pad><pad>', '<pad> philosophy</s><pad><pad>', '<pad> love</s><pad><pad>', '<pad> life love</s><pad>', '<pad> life</s>', '<pad> humor</s>', '<pad> inspirational</s>', '<pad> life</s>', '<pad> life</s>', '<pad> philosophy</s>', '<pad> life</s>', '<pad> life</s>', '<pad> inspirational</s>', '<pad> life</s>', '<pad> love</s>', '<pad> life</s>', '<pad> life</s>', '<pad> love</s>', '<pad> life</s>', '<pad> love</s>', '<pad> humor</s><pad><pad><pad>', '<pad> life</s><pad><pad><pad>', '<pad> love</s><pad><pad><pad>', '<pad> love</s><pad><pad><pad>', '<pad> inspirational</s><pad><pad><pad>', '<pad> love</s><pad><pad><pad>', '<pad> love</s><pad><pad><pad>', '<pad> inspirational philosophy life love</s>', '<pad> life</s><pad>', '<pad> life</s><pad>', '<pad> inspirational</s><pad>', '<pad> love</s><pad>', '<pad> inspirational</s><pad>', '<pad> life</s><pad>', '<pad> inspirational philosophy</s>', '<pad> philosophy</s><pad>', '<pad> life</s><pad>', '<pad> life</s><pad>', '<pad> humor</s><pad>', '<pad> love</s><pad>', '<pad> philosophy</s><pad>', '<pad> life love</s>', '<pad> humor</s><pad>', '<pad> inspirational</s><pad>', '<pad> love</s>', '<pad> humor</s>', '<pad> love</s>', '<pad> inspirational</s>', '<pad> love</s>', '<pad> inspirational</s>', '<pad> love</s>', '<pad> love</s>', '<pad> humor</s>', '<pad> love</s>', '<pad> love</s>', '<pad> humor</s>', '<pad> life</s>', '<pad> life</s>', '<pad> inspirational</s>', '<pad> love</s>', '<pad> humor</s><pad>', '<pad> love</s><pad>', '<pad> inspirational</s><pad>', '<pad> life</s><pad>', '<pad> inspirational philosophy</s>', '<pad> life</s><pad>', '<pad> love</s><pad>', '<pad> inspirational</s><pad>', '<pad> love</s>', '<pad> love</s>', '<pad> inspirational</s>', '<pad> inspirational</s>', '<pad> inspirational</s>', '<pad> love</s>', '<pad> inspirational</s>', '<pad> inspirational</s>', '<pad> love</s>', '<pad> love</s>', '<pad> life</s>', '<pad> life</s>', '<pad> love</s>', '<pad> inspirational</s>', '<pad> love</s>', '<pad> life</s>', '<pad> humor</s><pad>', '<pad> inspirational</s><pad>', '<pad> love</s><pad>', '<pad> inspirational</s><pad>', '<pad> inspirational</s><pad>', '<pad> life love</s>', '<pad> love</s><pad>', '<pad> life</s><pad>', '<pad> inspirational</s>', '<pad> life</s>', '<pad> love</s>', '<pad> love</s>', '<pad> life</s>', '<pad> love</s>', '<pad> inspirational</s>', '<pad> life</s>', '<pad> life</s><pad>', '<pad> love</s><pad>', '<pad> love</s><pad>', '<pad> life love</s>', '<pad> life</s><pad>', '<pad> humor</s><pad>', '<pad> philosophy</s><pad>', '<pad> inspirational philosophy</s>', '<pad> inspirational</s><pad><pad><pad>', '<pad> life</s><pad><pad><pad>', '<pad> life</s><pad><pad><pad>', '<pad> humor</s><pad><pad><pad>', '<pad> love</s><pad><pad><pad>', '<pad> life</s><pad><pad><pad>', '<pad> inspirational philosophy life love</s>', '<pad> love</s><pad><pad><pad>', '<pad> life</s><pad>', '<pad> inspirational philosophy</s>', '<pad> love</s><pad>', '<pad> love</s><pad>', '<pad> philosophy</s><pad>', '<pad> love</s><pad>', '<pad> inspirational philosophy</s>', '<pad> inspirational philosophy</s>', '<pad> love</s><pad>', '<pad> inspirational</s><pad>', '<pad> life love</s>', '<pad> life</s><pad>', '<pad> inspirational philosophy</s>', '<pad> love</s><pad>', '<pad> life</s><pad>', '<pad> humor</s><pad>', '<pad> life</s><pad><pad><pad>', '<pad> life</s><pad><pad><pad>', '<pad> life</s><pad><pad><pad>', '<pad> inspirational philosophy life love</s>', '<pad> inspirational</s><pad><pad><pad>', '<pad> love</s><pad><pad><pad>', '<pad> philosophy</s><pad><pad><pad>', '<pad> inspirational</s><pad><pad><pad>', '<pad> life</s><pad>', '<pad> inspirational</s><pad>', '<pad> life</s><pad>', '<pad> love</s><pad>', '<pad> inspirational</s><pad>', '<pad> love</s><pad>', '<pad> love</s><pad>', '<pad> life love</s>', '<pad> humor</s><pad>', '<pad> love</s><pad>', '<pad> life</s><pad>', '<pad> love</s><pad>', '<pad> inspirational</s><pad>', '<pad> inspirational</s><pad>', '<pad> love</s><pad>', '<pad> inspirational philosophy</s>', '<pad> love</s><pad><pad>', '<pad> life</s><pad><pad>', '<pad> life</s><pad><pad>', '<pad> life</s><pad><pad>', '<pad> love</s><pad><pad>', '<pad> love</s><pad><pad>', '<pad> inspirational philosophy life</s>', '<pad> inspirational</s><pad><pad>', '<pad> love</s><pad>', '<pad> inspirational</s><pad>', '<pad> humor</s><pad>', '<pad> inspirational philosophy</s>', '<pad> philosophy</s><pad>', '<pad> life</s><pad>', '<pad> life</s><pad>', '<pad> love</s><pad>', '<pad> humor</s>', '<pad> life</s>', '<pad> love</s>', '<pad> love</s>', '<pad> philosophy</s>', '<pad> life</s>', '<pad> love</s>', '<pad> love</s>', '<pad> love</s><pad>', '<pad> humor</s><pad>', '<pad> inspirational</s><pad>', '<pad> love</s><pad>', '<pad> life love</s>', '<pad> life</s><pad>', '<pad> life</s><pad>', '<pad> love</s><pad>', '<pad> love</s><pad>', '<pad> love</s><pad>', '<pad> inspirational</s><pad>', '<pad> love</s><pad>', '<pad> life love</s>', '<pad> humor</s><pad>', '<pad> love</s><pad>', '<pad> inspirational</s><pad>', '<pad> life</s><pad><pad>', '<pad> humor</s><pad><pad>', '<pad> inspirational life</s><pad>', '<pad> inspirational philosophy love</s>', '<pad> life</s><pad><pad>', '<pad> life</s><pad><pad>', '<pad> life</s><pad><pad>', '<pad> inspirational philosophy life</s>', '<pad> love</s><pad>', '<pad> love</s><pad>', '<pad> life</s><pad>', '<pad> life love</s>', '<pad> life</s><pad>', '<pad> life</s><pad>', '<pad> life</s><pad>', '<pad> life</s><pad>', '<pad> love</s>', '<pad> inspirational</s>', '<pad> love</s>', '<pad> inspirational</s>', '<pad> love</s>', '<pad> inspirational</s>', '<pad> humor</s>', '<pad> philosophy</s>', '<pad> love</s>', '<pad> love</s>', '<pad> philosophy</s>', '<pad> life</s>', '<pad> philosophy</s>', '<pad> life</s>', '<pad> philosophy</s>', '<pad> love</s>', '<pad> inspirational</s><pad><pad><pad>', '<pad> inspirational philosophy life love</s>', '<pad> life</s><pad><pad><pad>', '<pad> love</s><pad><pad><pad>', '<pad> inspirational philosophy life love</s>', '<pad> inspirational</s><pad><pad><pad>', '<pad> inspirational</s><pad><pad><pad>', '<pad> love</s><pad><pad><pad>', '<pad> equality</s><pad><pad><pad>', '<pad> love</s><pad><pad><pad>', '<pad> inspirational</s><pad><pad><pad>', '<pad> humor</s><pad><pad><pad>', '<pad> inspirational philosophy life love</s>', '<pad> inspirational</s><pad><pad><pad>', '<pad> love</s><pad><pad><pad>', '<pad> humor</s><pad><pad><pad>', '<pad> humor</s>', '<pad> love</s>', '<pad> humor</s>', '<pad> humor</s>', '<pad> life</s>', '<pad> love</s>', '<pad> love</s>', '<pad> philosophy</s>', '<pad> life love</s>', '<pad> love</s><pad>', '<pad> life</s><pad>', '<pad> inspirational</s><pad>', '<pad> love</s><pad>', '<pad> inspirational</s><pad>', '<pad> humor</s><pad>', '<pad> life</s><pad>', '<pad> love</s>', '<pad> love</s>', '<pad> love</s>', '<pad> life</s>', '<pad> philosophy</s>', '<pad> love</s>', '<pad> inspirational</s>', '<pad> love</s>', '<pad> philosophy</s>', '<pad> life</s>', '<pad> life</s>', '<pad> inspirational</s>', '<pad> inspirational</s>', '<pad> humor</s>', '<pad> life</s>', '<pad> life</s>', '<pad> humor</s><pad>', '<pad> life</s><pad>', '<pad> love</s><pad>', '<pad> love</s><pad>', '<pad> inspirational philosophy</s>', '<pad> life love</s>', '<pad> life</s><pad>', '<pad> love</s><pad>', '<pad> love</s><pad>', '<pad> love</s><pad>', '<pad> life</s><pad>', '<pad> inspirational</s><pad>', '<pad> life love</s>', '<pad> inspirational</s><pad>', '<pad> love</s><pad>', '<pad> love</s><pad>', '<pad> inspirational</s><pad><pad><pad>', '<pad> inspirational philosophy life love</s>', '<pad> inspirational</s><pad><pad><pad>', '<pad> life</s><pad><pad><pad>', '<pad> life</s><pad><pad><pad>', '<pad> life</s><pad><pad><pad>', '<pad> inspirational philosophy life love</s>', '<pad> love</s><pad><pad><pad>', '<pad> humor</s><pad>', '<pad> love</s><pad>', '<pad> love</s><pad>', '<pad> inspirational</s><pad>', '<pad> life</s><pad>', '<pad> life</s><pad>', '<pad> love</s><pad>', '<pad> inspirational philosophy</s>', '<pad> inspirational</s><pad>', '<pad> love</s><pad>', '<pad> life</s><pad>', '<pad> inspirational philosophy</s>', '<pad> humor</s><pad>', '<pad> philosophy</s><pad>', '<pad> love</s><pad>', '<pad> life</s><pad>', '<pad> love</s><pad><pad><pad>', '<pad> inspirational philosophy life love</s>', '<pad> life</s><pad><pad><pad>', '<pad> life</s><pad><pad><pad>', '<pad> inspirational</s><pad><pad><pad>', '<pad> love</s><pad><pad><pad>', '<pad> inspirational love</s><pad><pad>', '<pad> life love</s><pad><pad>', '<pad> inspirational</s><pad>', '<pad> life</s><pad>', '<pad> love</s><pad>', '<pad> inspirational love</s>', '<pad> love</s><pad>', '<pad> love</s><pad>', '<pad> inspirational</s><pad>', '<pad> love</s><pad>', '<pad> life</s><pad>', '<pad> inspirational</s><pad>', '<pad> love</s><pad>', '<pad> philosophy</s><pad>', '<pad> inspirational</s><pad>', '<pad> inspirational philosophy</s>', '<pad> life</s><pad>', '<pad> life</s><pad>', '<pad> love</s><pad><pad><pad>', '<pad> inspirational</s><pad><pad><pad>', '<pad> life</s><pad><pad><pad>', '<pad> humor</s><pad><pad><pad>', '<pad> inspirational</s><pad><pad><pad>', '<pad> inspirational</s><pad><pad><pad>', '<pad> inspirational philosophy</s><pad><pad>', '<pad> inspirational philosophy life love</s>', '<pad> life love</s><pad><pad>', '<pad> love</s><pad><pad><pad>', '<pad> life</s><pad><pad><pad>', '<pad> inspirational</s><pad><pad><pad>', '<pad> life</s><pad><pad><pad>', '<pad> life</s><pad><pad><pad>', '<pad> love</s><pad><pad><pad>', '<pad> inspirational philosophy life love</s>', '<pad> inspirational</s>', '<pad> love</s>', '<pad> inspirational</s>', '<pad> humor</s>', '<pad> love</s>', '<pad> love</s>', '<pad> life</s>', '<pad> humor</s>', '<pad> love</s>', '<pad> life</s>', '<pad> love</s>', '<pad> love</s>', '<pad> love</s>', '<pad> life</s>', '<pad> love</s>', '<pad> love</s>', '<pad> inspirational</s><pad>', '<pad> love</s><pad>', '<pad> inspirational</s><pad>', '<pad> life love</s>', '<pad> inspirational</s><pad>', '<pad> love</s><pad>', '<pad> life</s><pad>', '<pad> love</s><pad>', '<pad> love</s><pad>', '<pad> inspirational</s><pad>', '<pad> love</s><pad>', '<pad> humor</s><pad>', '<pad> inspirational</s><pad>', '<pad> humor</s><pad>', '<pad> life</s><pad>', '<pad> life love</s>', '<pad> life love</s>', '<pad> love</s><pad>', '<pad> inspirational</s><pad>', '<pad> inspirational</s><pad>', '<pad> humor</s><pad>', '<pad> inspirational philosophy</s>', '<pad> love</s><pad>', '<pad> inspirational</s><pad>', '<pad> life</s>', '<pad> love</s>', '<pad> inspirational</s>', '<pad> inspirational</s>', '<pad> love</s>', '<pad> life</s>', '<pad> inspirational</s>', '<pad> inspirational</s>', '<pad> inspirational</s><pad><pad>', '<pad> love</s><pad><pad>', '<pad> inspirational philosophy life</s>', '<pad> love</s><pad><pad>', '<pad> love</s><pad><pad>', '<pad> humor</s><pad><pad>', '<pad> life</s><pad><pad>', '<pad> love</s><pad><pad>', '<pad> love</s>', '<pad> life</s>', '<pad> love</s>', '<pad> life</s>', '<pad> love</s>', '<pad> humor</s>', '<pad> humor</s>', '<pad> inspirational</s>', '<pad> life</s>', '<pad> life</s>', '<pad> philosophy</s>', '<pad> love</s>', '<pad> love</s>', '<pad> love</s>', '<pad> humor</s>', '<pad> inspirational</s>', '<pad> humor</s>', '<pad> inspirational</s>', '<pad> humor</s>', '<pad> humor</s>', '<pad> life</s>', '<pad> inspirational</s>', '<pad> life</s>', '<pad> love</s>', '<pad> love</s><pad><pad><pad>', '<pad> love</s><pad><pad><pad>', '<pad> inspirational philosophy</s><pad><pad>', '<pad> inspirational philosophy life love</s>', '<pad> love</s><pad><pad><pad>', '<pad> humor</s><pad><pad><pad>', '<pad> life</s><pad><pad><pad>', '<pad> life</s><pad><pad><pad>', '<pad> inspirational philosophy life love</s>', '<pad> inspirational</s><pad><pad><pad>', '<pad> inspirational</s><pad><pad><pad>', '<pad> love</s><pad><pad><pad>', '<pad> life</s><pad><pad><pad>', '<pad> inspirational life</s><pad><pad>', '<pad> life</s><pad><pad><pad>', '<pad> life</s><pad><pad><pad>', '<pad> life</s><pad>', '<pad> philosophy</s><pad>', '<pad> inspirational</s><pad>', '<pad> inspirational philosophy</s>', '<pad> inspirational</s><pad>', '<pad> life</s><pad>', '<pad> love</s><pad>', '<pad> inspirational</s><pad>', '<pad> love</s>', '<pad> philosophy</s>', '<pad> inspirational</s>', '<pad> love</s>', '<pad> humor</s>', '<pad> love</s>', '<pad> love</s>', '<pad> life</s>', '<pad> love</s><pad>', '<pad> life</s><pad>', '<pad> philosophy</s><pad>', '<pad> life</s><pad>', '<pad> life</s><pad>', '<pad> philosophy</s><pad>', '<pad> humor</s><pad>', '<pad> inspirational philosophy</s>', '<pad> love</s><pad>', '<pad> life</s><pad>', '<pad> inspirational philosophy</s>', '<pad> inspirational philosophy</s>', '<pad> life</s><pad>', '<pad> inspirational</s><pad>', '<pad> love</s><pad>', '<pad> love</s><pad>', '<pad> life</s><pad>', '<pad> inspirational</s><pad>', '<pad> love</s><pad>', '<pad> inspirational philosophy</s>', '<pad> humor</s><pad>', '<pad> humor</s><pad>', '<pad> life</s><pad>', '<pad> love</s><pad>', '<pad> love</s>', '<pad> love</s>', '<pad> humor</s>', '<pad> love</s>', '<pad> humor</s>', '<pad> inspirational</s>', '<pad> love</s>', '<pad> inspirational</s>', '<pad> philosophy</s><pad>', '<pad> love</s><pad>', '<pad> life</s><pad>', '<pad> life</s><pad>', '<pad> love</s><pad>', '<pad> life</s><pad>', '<pad> inspirational philosophy</s>', '<pad> life</s><pad>', '<pad> humor</s><pad>', '<pad> philosophy</s><pad>', '<pad> inspirational</s><pad>', '<pad> inspirational</s><pad>', '<pad> inspirational love</s>', '<pad> love</s><pad>', '<pad> inspirational</s><pad>', '<pad> life</s><pad>', '<pad> life</s><pad>', '<pad> philosophy</s><pad>', '<pad> philosophy</s><pad>', '<pad> inspirational philosophy</s>', '<pad> life</s><pad>', '<pad> life</s><pad>', '<pad> inspirational</s><pad>', '<pad> life</s><pad>', '<pad> life love</s><pad><pad>', '<pad> love</s><pad><pad><pad>', '<pad> love</s><pad><pad><pad>', '<pad> inspirational philosophy life love</s>', '<pad> love</s><pad><pad><pad>', '<pad> life</s><pad><pad><pad>', '<pad> inspirational</s><pad><pad><pad>', '<pad> philosophy</s><pad><pad><pad>', '<pad> love</s><pad>', '<pad> inspirational</s><pad>', '<pad> philosophy</s><pad>', '<pad> life love</s>', '<pad> inspirational</s><pad>', '<pad> humor</s><pad>', '<pad> life</s><pad>', '<pad> inspirational</s><pad>', '<pad> love</s><pad>', '<pad> inspirational</s><pad>', '<pad> love</s><pad>', '<pad> humor</s><pad>', '<pad> inspirational love</s>', '<pad> inspirational life</s>', '<pad> inspirational</s><pad>', '<pad> life</s><pad>', '<pad> humor</s>', '<pad> humor</s>', '<pad> love</s>', '<pad> life</s>', '<pad> life</s>', '<pad> life</s>', '<pad> humor</s>', '<pad> life</s>', '<pad> love</s><pad>', '<pad> life love</s>', '<pad> life</s><pad>', '<pad> love</s><pad>', '<pad> love</s><pad>', '<pad> love</s><pad>', '<pad> love</s><pad>', '<pad> philosophy</s><pad>', '<pad> humor</s><pad>', '<pad> love</s><pad>', '<pad> life</s><pad>', '<pad> inspirational philosophy</s>', '<pad> love</s><pad>', '<pad> life love</s>', '<pad> love</s><pad>', '<pad> love</s><pad>', '<pad> life</s><pad>', '<pad> love</s><pad>', '<pad> life love</s>', '<pad> philosophy</s><pad>', '<pad> life</s><pad>', '<pad> inspirational life</s>', '<pad> love</s><pad>', '<pad> love</s><pad>', '<pad> love</s>', '<pad> love</s>', '<pad> love</s>', '<pad> love</s>', '<pad> humor</s>', '<pad> love</s>', '<pad> inspirational</s>', '<pad> love</s>', '<pad> inspirational</s><pad>', '<pad> life</s><pad>', '<pad> inspirational</s><pad>', '<pad> inspirational</s><pad>', '<pad> love</s><pad>', '<pad> inspirational life</s>', '<pad> love</s><pad>', '<pad> life</s><pad>', '<pad> humor</s><pad>', '<pad> life</s><pad>', '<pad> philosophy</s><pad>', '<pad> love</s><pad>', '<pad> inspirational</s><pad>', '<pad> life</s><pad>', '<pad> life</s><pad>', '<pad> philosophy life</s>', '<pad> humor</s><pad>', '<pad> inspirational</s><pad>', '<pad> life</s><pad>', '<pad> inspirational</s><pad>', '<pad> love</s><pad>', '<pad> philosophy</s><pad>', '<pad> inspirational philosophy</s>', '<pad> inspirational</s><pad>', '<pad> life love</s>', '<pad> life</s><pad>', '<pad> life</s><pad>', '<pad> love</s><pad>', '<pad> inspirational</s><pad>', '<pad> life</s><pad>', '<pad> life</s><pad>', '<pad> humor</s><pad>', '<pad> humor</s>', '<pad> inspirational</s>', '<pad> humor</s>', '<pad> life</s>', '<pad> inspirational</s>', '<pad> love</s>', '<pad> inspirational</s>', '<pad> humor</s>', '<pad> humor inspirational</s>', '<pad> life</s><pad>', '<pad> inspirational philosophy</s>', '<pad> love</s><pad>', '<pad> love</s><pad>', '<pad> life</s><pad>', '<pad> life</s><pad>', '<pad> life</s><pad>', '<pad> love</s><pad><pad><pad>', '<pad> inspirational</s><pad><pad><pad>', '<pad> love</s><pad><pad><pad>', '<pad> inspirational philosophy life love</s>', '<pad> life</s><pad><pad><pad>', '<pad> life</s><pad><pad><pad>', '<pad> inspirational philosophy</s><pad><pad>', '<pad> humor</s><pad><pad><pad>', '<pad> inspirational</s><pad><pad>', '<pad> inspirational life</s><pad>', '<pad> love</s><pad><pad>', '<pad> inspirational</s><pad><pad>', '<pad> love</s><pad><pad>', '<pad> inspirational philosophy love</s>', '<pad> life</s><pad><pad>', '<pad> love</s><pad><pad>', '<pad> inspirational</s>', '<pad> philosophy</s>', '<pad> life</s>', '<pad> humor</s>', '<pad> love</s>', '<pad> inspirational</s>', '<pad> love</s>', '<pad> life</s>', '<pad> inspirational</s><pad><pad><pad>', '<pad> life</s><pad><pad><pad>', '<pad> love</s><pad><pad><pad>', '<pad> inspirational philosophy love</s><pad>', '<pad> inspirational philosophy life love</s>', '<pad> inspirational</s><pad><pad><pad>', '<pad> love</s><pad><pad><pad>', '<pad> life</s><pad><pad><pad>', '<pad> inspirational</s>', '<pad> life</s>', '<pad> life</s>', '<pad> life</s>', '<pad> inspirational</s>', '<pad> life</s>', '<pad> life</s>', '<pad> love</s>', '<pad> life</s><pad>', '<pad> love</s><pad>', '<pad> life</s><pad>', '<pad> inspirational</s><pad>', '<pad> inspirational</s><pad>', '<pad> inspirational philosophy</s>', '<pad> love</s><pad>', '<pad> love</s><pad>', '<pad> inspirational</s>', '<pad> love</s>', '<pad> love</s>', '<pad> humor</s>', '<pad> life</s>', '<pad> inspirational</s>', '<pad> life</s>', '<pad> inspirational</s>', '<pad> love</s><pad>', '<pad> inspirational</s><pad>', '<pad> love</s><pad>', '<pad> inspirational philosophy</s>', '<pad> life</s><pad>', '<pad> inspirational</s><pad>', '<pad> love</s><pad>', '<pad> love</s><pad>', '<pad> life</s><pad><pad><pad>', '<pad> inspirational</s><pad><pad><pad>', '<pad> life</s><pad><pad><pad>', '<pad> inspirational life</s><pad><pad>', '<pad> inspirational philosophy life love</s>', '<pad> love</s><pad><pad><pad>', '<pad> inspirational</s><pad><pad><pad>', '<pad> humor</s><pad><pad><pad>', '<pad> humor</s><pad>', '<pad> humor</s><pad>', '<pad> inspirational philosophy</s>', '<pad> life</s><pad>', '<pad> love</s><pad>', '<pad> love</s><pad>', '<pad> inspirational</s><pad>', '<pad> love</s><pad>', '<pad> humor</s><pad>', '<pad> inspirational</s><pad>', '<pad> inspirational</s><pad>', '<pad> love</s><pad>', '<pad> life</s><pad>', '<pad> life</s><pad>', '<pad> inspirational philosophy</s>', '<pad> inspirational</s><pad>', '<pad> inspirational philosophy</s><pad>', '<pad> inspirational philosophy life</s>', '<pad> life love</s><pad>', '<pad> inspirational</s><pad><pad>', '<pad> inspirational life</s><pad>', '<pad> love</s><pad><pad>', '<pad> life love</s><pad>', '<pad> love</s><pad><pad>', '<pad> love</s><pad><pad><pad>', '<pad> inspirational philosophy love</s><pad>', '<pad> love</s><pad><pad><pad>', '<pad> humor</s><pad><pad><pad>', '<pad> inspirational philosophy life love</s>', '<pad> life</s><pad><pad><pad>', '<pad> inspirational</s><pad><pad><pad>', '<pad> inspirational philosophy life love</s>', '<pad> inspirational philosophy</s>', '<pad> inspirational philosophy</s>', '<pad> love</s><pad>', '<pad> humor</s><pad>', '<pad> inspirational life</s>', '<pad> life</s><pad>', '<pad> inspirational</s><pad>', '<pad> humor</s><pad>', '<pad> life</s>', '<pad> philosophy</s>', '<pad> life</s>', '<pad> love</s>', '<pad> life</s>', '<pad> humor</s>', '<pad> love</s>', '<pad> love</s>', '<pad> humor</s>', '<pad> humor</s>', '<pad> love</s>', '<pad> humor</s>', '<pad> love</s>', '<pad> life</s>', '<pad> life</s>', '<pad> philosophy</s>', '<pad> inspirational life</s>', '<pad> inspirational</s><pad>', '<pad> love</s><pad>', '<pad> love</s><pad>', '<pad> humor</s><pad>', '<pad> love</s><pad>', '<pad> love</s><pad>', '<pad> inspirational philosophy</s>', '<pad> love</s><pad>', '<pad> humor</s><pad>', '<pad> love</s><pad>', '<pad> inspirational life</s>', '<pad> humor</s><pad>', '<pad> inspirational</s><pad>', '<pad> love</s><pad>', '<pad> inspirational life</s>', '<pad> life</s>', '<pad> love</s>', '<pad> love</s>', '<pad> life</s>', '<pad> philosophy</s>', '<pad> life</s>', '<pad> inspirational</s>', '<pad> inspirational</s>', '<pad> love</s><pad>', '<pad> philosophy</s><pad>', '<pad> love</s><pad>', '<pad> inspirational</s><pad>', '<pad> life</s><pad>', '<pad> inspirational philosophy</s>', '<pad> life love</s>', '<pad> life</s><pad>', '<pad> humor</s><pad><pad>', '<pad> inspirational philosophy love</s>', '<pad> life</s><pad><pad>', '<pad> life</s><pad><pad>', '<pad> life</s><pad><pad>', '<pad> inspirational</s><pad><pad>', '<pad> inspirational</s><pad><pad>', '<pad> inspirational</s><pad><pad>', '<pad> life</s>', '<pad> love</s>', '<pad> love</s>', '<pad> philosophy</s>', '<pad> inspirational</s>', '<pad> inspirational</s>', '<pad> love</s>', '<pad> love</s>', '<pad> life</s><pad>', '<pad> humor</s><pad>', '<pad> love</s><pad>', '<pad> life</s><pad>', '<pad> life</s><pad>', '<pad> love</s><pad>', '<pad> life love</s>', '<pad> love</s><pad>', '<pad> life</s>', '<pad> inspirational</s>', '<pad> life</s>', '<pad> love</s>', '<pad> life</s>', '<pad> humor</s>', '<pad> love</s>', '<pad> inspirational</s>', '<pad> inspirational</s>', '<pad> love</s>', '<pad> life</s>', '<pad> life</s>', '<pad> humor</s>', '<pad> humor</s>', '<pad> love</s>', '<pad> life</s>', '<pad> humor</s><pad><pad><pad>', '<pad> inspirational</s><pad><pad><pad>', '<pad> life love</s><pad><pad>', '<pad> humor life</s><pad><pad>', '<pad> philosophy</s><pad><pad><pad>', '<pad> humor</s><pad><pad><pad>', '<pad> inspirational philosophy life love</s>', '<pad> inspirational</s><pad><pad><pad>', '<pad> philosophy</s><pad>', '<pad> love</s><pad>', '<pad> inspirational</s><pad>', '<pad> inspirational philosophy</s>', '<pad> life</s><pad>', '<pad> love</s><pad>', '<pad> philosophy</s><pad>', '<pad> love</s><pad>', '<pad> life love</s><pad><pad>', '<pad> love</s><pad><pad><pad>', '<pad> love</s><pad><pad><pad>', '<pad> inspirational philosophy life love</s>', '<pad> love</s><pad><pad><pad>', '<pad> life</s><pad><pad><pad>', '<pad> inspirational</s><pad><pad><pad>', '<pad> humor</s><pad><pad><pad>', '<pad> humor inspirational</s>', '<pad> life</s><pad>', '<pad> life</s><pad>', '<pad> philosophy</s><pad>', '<pad> life</s><pad>', '<pad> love</s><pad>', '<pad> life</s><pad>', '<pad> life</s><pad>', '<pad> life</s>', '<pad> space</s>', '<pad> life</s>', '<pad> love</s>', '<pad> life</s>', '<pad> inspirational</s>', '<pad> life</s>', '<pad> life</s>', '<pad> love</s><pad><pad>', '<pad> inspirational</s><pad><pad>', '<pad> inspirational philosophy</s><pad>', '<pad> life love</s><pad>', '<pad> love</s><pad><pad>', '<pad> inspirational philosophy love</s>', '<pad> life</s><pad><pad>', '<pad> inspirational</s><pad><pad>', '<pad> love</s><pad>', '<pad> love</s><pad>', '<pad> life</s><pad>', '<pad> life</s><pad>', '<pad> inspirational life</s>', '<pad> inspirational</s><pad>', '<pad> love</s><pad>', '<pad> inspirational</s><pad>', '<pad> life</s><pad>', '<pad> life</s><pad>', '<pad> life</s><pad>', '<pad> inspirational love</s>', '<pad> inspirational philosophy</s>', '<pad> life</s><pad>', '<pad> love</s><pad>', '<pad> humor</s><pad>', '<pad> love</s><pad>', '<pad> life</s><pad>', '<pad> inspirational philosophy</s>', '<pad> inspirational philosophy</s>', '<pad> inspirational philosophy</s>', '<pad> life</s><pad>', '<pad> inspirational</s><pad>', '<pad> life</s><pad>', '<pad> love</s><pad>', '<pad> love</s><pad>', '<pad> life</s><pad>', '<pad> love</s><pad>', '<pad> inspirational life</s>', '<pad> humor</s><pad>', '<pad> inspirational</s><pad>', '<pad> inspirational</s><pad>', '<pad> humor</s><pad>', '<pad> love</s><pad>', '<pad> life</s><pad>', '<pad> inspirational philosophy</s>', '<pad> inspirational</s><pad>', '<pad> love</s><pad>', '<pad> life</s><pad>', '<pad> life love</s>', '<pad> inspirational philosophy</s><pad><pad>', '<pad> philosophy</s><pad><pad><pad>', '<pad> inspirational</s><pad><pad><pad>', '<pad> life love</s><pad><pad>', '<pad> inspirational philosophy</s><pad><pad>', '<pad> inspirational</s><pad><pad><pad>', '<pad> inspirational</s><pad><pad><pad>', '<pad> inspirational philosophy life love</s>', '<pad> love</s><pad>', '<pad> philosophy life</s>', '<pad> inspirational philosophy</s>', '<pad> life</s><pad>', '<pad> life</s><pad>', '<pad> life</s><pad>', '<pad> life</s><pad>', '<pad> humor</s><pad>', '<pad> life</s><pad>', '<pad> love</s><pad>', '<pad> love</s><pad>', '<pad> philosophy life</s>', '<pad> love</s><pad>', '<pad> humor</s><pad>', '<pad> life</s><pad>', '<pad> love</s><pad>', '<pad> life</s>', '<pad> love</s>', '<pad> love</s>', '<pad> love</s>', '<pad> humor</s>', '<pad> inspirational</s>', '<pad> love</s>', '<pad> love</s>', '<pad> inspirational philosophy</s>', '<pad> love</s><pad>', '<pad> love</s><pad>', '<pad> love</s><pad>', '<pad> inspirational philosophy</s>', '<pad> inspirational</s><pad>', '<pad> life</s><pad>', '<pad> humor</s><pad>', '<pad> love</s>', '<pad> life</s>', '<pad> love</s>', '<pad> inspirational</s>', '<pad> philosophy</s>', '<pad> love</s>', '<pad> inspirational</s>', '<pad> love</s>', '<pad> inspirational</s><pad><pad>', '<pad> philosophy</s><pad><pad>', '<pad> love</s><pad><pad>', '<pad> inspirational philosophy</s><pad>', '<pad> inspirational</s><pad><pad>', '<pad> inspirational philosophy love</s>', '<pad> philosophy</s><pad><pad>', '<pad> love</s><pad><pad>', '<pad> philosophy</s>', '<pad> inspirational</s>', '<pad> life</s>', '<pad> life</s>', '<pad> love</s>', '<pad> inspirational</s>', '<pad> philosophy</s>', '<pad> inspirational</s>', '<pad> inspirational</s><pad>', '<pad> philosophy</s><pad>', '<pad> humor</s><pad>', '<pad> love</s><pad>', '<pad> inspirational</s><pad>', '<pad> life</s><pad>', '<pad> inspirational philosophy</s>', '<pad> love</s><pad>', '<pad> humor</s><pad>', '<pad> inspirational philosophy</s>', '<pad> inspirational</s><pad>', '<pad> inspirational philosophy</s>', '<pad> love</s><pad>', '<pad> inspirational</s><pad>', '<pad> inspirational</s><pad>', '<pad> life</s><pad>', '<pad> humor</s><pad><pad><pad>', '<pad> love</s><pad><pad><pad>', '<pad> inspirational philosophy life love</s>', '<pad> philosophy</s><pad><pad><pad>', '<pad> life</s><pad><pad><pad>', '<pad> life</s><pad><pad><pad>', '<pad> inspirational</s><pad><pad><pad>', '<pad> love</s><pad><pad><pad>', '<pad> love</s>', '<pad> humor</s>', '<pad> inspirational</s>', '<pad> life</s>', '<pad> love</s>', '<pad> inspirational</s>', '<pad> inspirational</s>', '<pad> life</s>', '<pad> love</s><pad>', '<pad> humor</s><pad>', '<pad> inspirational life</s>', '<pad> love</s><pad>', '<pad> life</s><pad>', '<pad> love</s><pad>', '<pad> philosophy</s><pad>', '<pad> love</s><pad>', '<pad> life</s><pad>', '<pad> love</s><pad>', '<pad> inspirational philosophy</s>', '<pad> life</s><pad>', '<pad> life love</s>', '<pad> love</s><pad>', '<pad> life</s><pad>', '<pad> life</s><pad>', '<pad> life</s>', '<pad> philosophy</s>', '<pad> life</s>', '<pad> life</s>', '<pad> life</s>', '<pad> life</s>', '<pad> love</s>', '<pad> philosophy</s>', '<pad> inspirational philosophy life love</s>', '<pad> life</s><pad><pad><pad>', '<pad> love</s><pad><pad><pad>', '<pad> philosophy</s><pad><pad><pad>', '<pad> life</s><pad><pad><pad>', '<pad> philosophy</s><pad><pad><pad>', '<pad> inspirational love</s><pad><pad>', '<pad> inspirational</s><pad><pad><pad>', '<pad> love</s><pad>', '<pad> life</s><pad>', '<pad> life</s><pad>', '<pad> inspirational</s><pad>', '<pad> life</s><pad>', '<pad> philosophy love</s>', '<pad> inspirational</s><pad>', '<pad> life love</s>', '<pad> philosophy</s><pad>', '<pad> inspirational</s><pad>', '<pad> inspirational philosophy</s>', '<pad> life</s><pad>', '<pad> inspirational philosophy</s>', '<pad> life</s><pad>', '<pad> love</s><pad>', '<pad> love</s><pad>', '<pad> life</s><pad>', '<pad> inspirational philosophy</s>', '<pad> life</s><pad>', '<pad> life</s><pad>', '<pad> inspirational philosophy</s>', '<pad> humor</s><pad>', '<pad> life</s><pad>', '<pad> life</s><pad>', '<pad> love</s><pad>', '<pad> life</s><pad>', '<pad> life love</s>', '<pad> humor</s><pad>', '<pad> inspirational</s><pad>', '<pad> life</s><pad>', '<pad> life</s><pad>', '<pad> inspirational philosophy</s>', '<pad> inspirational love</s><pad><pad>', '<pad> inspirational philosophy life love</s>', '<pad> life</s><pad><pad><pad>', '<pad> life</s><pad><pad><pad>', '<pad> life</s><pad><pad><pad>', '<pad> love</s><pad><pad><pad>', '<pad> inspirational</s><pad><pad><pad>', '<pad> humor</s><pad><pad><pad>', '<pad> life</s>', '<pad> love</s>', '<pad> life</s>', '<pad> inspirational</s>', '<pad> life</s>', '<pad> love</s>', '<pad> inspirational</s>', '<pad> inspirational</s>', '<pad> inspirational</s><pad><pad><pad>', '<pad> love</s><pad><pad><pad>', '<pad> inspirational</s><pad><pad><pad>', '<pad> humor</s><pad><pad><pad>', '<pad> life love</s><pad><pad>', '<pad> love</s><pad><pad><pad>', '<pad> inspirational philosophy life love</s>', '<pad> humor</s><pad><pad><pad>', '<pad> inspirational</s><pad>', '<pad> inspirational philosophy</s>', '<pad> humor</s><pad>', '<pad> life</s><pad>', '<pad> inspirational</s><pad>', '<pad> love</s><pad>', '<pad> love</s><pad>', '<pad> inspirational</s><pad>', '<pad> love</s><pad>', '<pad> inspirational</s><pad>', '<pad> life</s><pad>', '<pad> inspirational</s><pad>', '<pad> humor</s><pad>', '<pad> inspirational</s><pad>', '<pad> inspirational love</s>', '<pad> life</s><pad>', '<pad> life</s>', '<pad> inspirational</s>', '<pad> inspirational</s>', '<pad> inspirational</s>', '<pad> life</s>', '<pad> life</s>', '<pad> humor</s>', '<pad> life</s>', '<pad> love</s>', '<pad> life</s>', '<pad> life</s>', '<pad> life</s>', '<pad> violence</s>', '<pad> love</s>', '<pad> life</s>', '<pad> love</s>', '<pad> inspirational life love</s>', '<pad> love</s><pad><pad>', '<pad> inspirational</s><pad><pad>', '<pad> love</s><pad><pad>', '<pad> life</s><pad><pad>', '<pad> inspirational philosophy</s><pad>', '<pad> love</s><pad><pad>', '<pad> love</s><pad><pad>', '<pad> inspirational</s><pad>', '<pad> humor</s><pad>', '<pad> love</s><pad>', '<pad> inspirational philosophy</s>', '<pad> humor</s><pad>', '<pad> life</s><pad>', '<pad> love</s><pad>', '<pad> life</s><pad>', '<pad> philosophy</s><pad>', '<pad> love</s><pad>', '<pad> philosophy</s><pad>', '<pad> inspirational philosophy</s>', '<pad> life</s><pad>', '<pad> life</s><pad>', '<pad> inspirational</s><pad>', '<pad> inspirational</s><pad>', '<pad> life</s><pad>', '<pad> love</s><pad>', '<pad> inspirational</s><pad>', '<pad> philosophy</s><pad>', '<pad> love</s><pad>', '<pad> love</s><pad>', '<pad> love</s><pad>', '<pad> inspirational philosophy</s>', '<pad> life</s><pad>', '<pad> love</s><pad>', '<pad> inspirational philosophy</s>', '<pad> love</s><pad>', '<pad> inspirational</s><pad>', '<pad> life</s><pad>', '<pad> inspirational</s><pad>', '<pad> life</s><pad>', '<pad> humor</s><pad>', '<pad> love</s><pad>', '<pad> love</s><pad>', '<pad> inspirational</s><pad>', '<pad> life</s><pad>', '<pad> inspirational philosophy</s>', '<pad> life</s><pad>', '<pad> life love</s>', '<pad> inspirational philosophy</s>', '<pad> life</s><pad>', '<pad> love</s><pad>', '<pad> inspirational</s><pad>', '<pad> life</s><pad>', '<pad> love</s><pad>', '<pad> inspirational</s><pad>', '<pad> life</s><pad>', '<pad> life</s><pad><pad>', '<pad> philosophy</s><pad><pad>', '<pad> love</s><pad><pad>', '<pad> inspirational</s><pad><pad>', '<pad> love</s><pad><pad>', '<pad> inspirational philosophy</s><pad>', '<pad> inspirational philosophy</s><pad>', '<pad> inspirational philosophy love</s>', '<pad> life</s>', '<pad> love</s>', '<pad> life</s>', '<pad> love</s>', '<pad> philosophy</s>', '<pad> humor</s>', '<pad> life</s>', '<pad> love</s>', '<pad> love</s><pad><pad><pad>', '<pad> inspirational</s><pad><pad><pad>', '<pad> love</s><pad><pad><pad>', '<pad> humor inspirational</s><pad><pad>', '<pad> philosophy</s><pad><pad><pad>', '<pad> life</s><pad><pad><pad>', '<pad> inspirational philosophy life love</s>', '<pad> life</s><pad><pad><pad>', '<pad> love</s><pad>', '<pad> life</s><pad>', '<pad> love</s><pad>', '<pad> love</s><pad>', '<pad> life</s><pad>', '<pad> inspirational</s><pad>', '<pad> inspirational philosophy</s>', '<pad> life</s><pad>', '<pad> life</s><pad>', '<pad> life love</s>', '<pad> inspirational</s><pad>', '<pad> love</s><pad>', '<pad> inspirational</s><pad>', '<pad> humor</s><pad>', '<pad> humor</s><pad>', '<pad> life</s><pad>', '<pad> humor</s><pad>', '<pad> inspirational philosophy</s>', '<pad> love</s><pad>', '<pad> life</s><pad>', '<pad> life love</s>', '<pad> humor</s><pad>', '<pad> inspirational</s><pad>', '<pad> inspirational</s><pad>', '<pad> inspirational</s><pad>', '<pad> inspirational</s><pad>', '<pad> love</s><pad>', '<pad> humor</s><pad>', '<pad> life</s><pad>', '<pad> humor</s><pad>', '<pad> love</s><pad>', '<pad> inspirational philosophy</s>', '<pad> philosophy</s><pad>', '<pad> life</s><pad>', '<pad> philosophy love</s>', '<pad> life</s><pad>', '<pad> love</s><pad>', '<pad> inspirational</s><pad>', '<pad> life</s><pad>', '<pad> love</s><pad>', '<pad> life</s><pad>', '<pad> love</s><pad>', '<pad> love</s><pad>', '<pad> love</s><pad>', '<pad> inspirational</s><pad>', '<pad> life love</s>', '<pad> inspirational</s><pad>', '<pad> love</s><pad>', '<pad> love</s><pad><pad><pad>', '<pad> love</s><pad><pad><pad>', '<pad> humor</s><pad><pad><pad>', '<pad> inspirational philosophy life love</s>', '<pad> inspirational</s><pad><pad><pad>', '<pad> love</s><pad><pad><pad>', '<pad> philosophy life</s><pad><pad>', '<pad> philosophy</s><pad><pad><pad>', '<pad> inspirational</s><pad>', '<pad> life</s><pad>', '<pad> love</s><pad>', '<pad> life</s><pad>', '<pad> love</s><pad>', '<pad> love</s><pad>', '<pad> love</s><pad>', '<pad> inspirational philosophy</s>', '<pad> humor</s><pad>', '<pad> philosophy</s><pad>', '<pad> love</s><pad>', '<pad> love</s><pad>', '<pad> life love</s>', '<pad> love</s><pad>', '<pad> life</s><pad>', '<pad> inspirational</s><pad>', '<pad> inspirational</s>', '<pad> love</s>', '<pad> love</s>', '<pad> life</s>', '<pad> life</s>', '<pad> life</s>', '<pad> love</s>', '<pad> love</s>', '<pad> humor</s>', '<pad> life</s>', '<pad> love</s>', '<pad> life</s>', '<pad> love</s>', '<pad> humor</s>', '<pad> inspirational</s>', '<pad> inspirational</s>', '<pad> inspirational</s><pad>', '<pad> love</s><pad>', '<pad> love</s><pad>', '<pad> life</s><pad>', '<pad> inspirational</s><pad>', '<pad> love</s><pad>', '<pad> life</s><pad>', '<pad> inspirational philosophy</s>', '<pad> love</s>', '<pad> inspirational</s>', '<pad> love</s>', '<pad> life</s>', '<pad> love</s>', '<pad> life</s>', '<pad> life</s>', '<pad> love</s>', '<pad> love</s><pad><pad><pad>', '<pad> inspirational</s><pad><pad><pad>', '<pad> love</s><pad><pad><pad>', '<pad> love</s><pad><pad><pad>', '<pad> love</s><pad><pad><pad>', '<pad> life</s><pad><pad><pad>', '<pad> inspirational philosophy life love</s>', '<pad> life</s><pad><pad><pad>', '<pad> life</s><pad>', '<pad> inspirational philosophy</s>', '<pad> love</s><pad>', '<pad> inspirational</s><pad>', '<pad> humor</s><pad>', '<pad> life</s><pad>', '<pad> love</s><pad>', '<pad> life</s><pad>', '<pad> inspirational philosophy</s>', '<pad> love</s><pad>', '<pad> life</s><pad>', '<pad> inspirational philosophy</s>', '<pad> life</s><pad>', '<pad> inspirational</s><pad>', '<pad> inspirational</s><pad>', '<pad> philosophy</s><pad>', '<pad> inspirational</s>', '<pad> inspirational</s>', '<pad> life</s>', '<pad> inspirational</s>', '<pad> love</s>', '<pad> philosophy</s>', '<pad> philosophy</s>', '<pad> love</s>', '<pad> inspirational</s>', '<pad> love</s>', '<pad> love</s>', '<pad> humor</s>', '<pad> humor</s>', '<pad> love</s>', '<pad> philosophy</s>', '<pad> life</s>', '<pad> love</s><pad>', '<pad> inspirational philosophy</s>', '<pad> philosophy</s><pad>', '<pad> inspirational philosophy</s>', '<pad> love</s><pad>', '<pad> life</s><pad>', '<pad> inspirational</s><pad>', '<pad> life love</s>', '<pad> life</s><pad>', '<pad> inspirational</s><pad>', '<pad> love</s><pad>', '<pad> life</s><pad>', '<pad> love</s><pad>', '<pad> inspirational</s><pad>', '<pad> inspirational</s><pad>', '<pad> inspirational philosophy</s>', '<pad> love</s>', '<pad> love</s>', '<pad> love</s>', '<pad> life</s>', '<pad> life</s>', '<pad> life</s>', '<pad> humor</s>', '<pad> love</s>', '<pad> love</s><pad>', '<pad> philosophy</s><pad>', '<pad> philosophy</s><pad>', '<pad> love</s><pad>', '<pad> inspirational</s><pad>', '<pad> love</s><pad>', '<pad> humor</s><pad>', '<pad> inspirational philosophy</s>', '<pad> love</s>', '<pad> inspirational</s>', '<pad> love</s>', '<pad> life</s>', '<pad> love</s>', '<pad> life</s>', '<pad> inspirational</s>', '<pad> life</s>', '<pad> love</s><pad>', '<pad> love</s><pad>', '<pad> inspirational</s><pad>', '<pad> inspirational life</s>', '<pad> life</s><pad>', '<pad> love</s><pad>', '<pad> inspirational</s><pad>', '<pad> love</s><pad>', '<pad> life</s><pad>', '<pad> inspirational</s><pad>', '<pad> inspirational philosophy</s>', '<pad> inspirational</s><pad>', '<pad> inspirational</s><pad>', '<pad> life</s><pad>', '<pad> philosophy</s><pad>', '<pad> love</s><pad>', '<pad> philosophy</s>', '<pad> love</s>', '<pad> inspirational</s>', '<pad> inspirational</s>', '<pad> life</s>', '<pad> love</s>', '<pad> life</s>', '<pad> life</s>', '<pad> love</s>', '<pad> inspirational</s>', '<pad> philosophy</s>', '<pad> love</s>', '<pad> inspirational</s>', '<pad> love</s>', '<pad> love</s>', '<pad> love</s>', '<pad> humor</s><pad>', '<pad> life</s><pad>', '<pad> humor</s><pad>', '<pad> humor</s><pad>', '<pad> life</s><pad>', '<pad> love</s><pad>', '<pad> inspirational philosophy</s>', '<pad> inspirational</s><pad>', '<pad> inspirational</s><pad>', '<pad> humor</s><pad>', '<pad> life love</s>', '<pad> love</s><pad>', '<pad> life</s><pad>', '<pad> life</s><pad>', '<pad> life</s><pad>', '<pad> life</s><pad>', '<pad> humor</s>', '<pad> philosophy</s>', '<pad> life</s>', '<pad> life</s>', '<pad> life</s>', '<pad> inspirational</s>', '<pad> life</s>', '<pad> love</s>', '<pad> philosophy</s>', '<pad> humor</s>', '<pad> inspirational</s>', '<pad> love</s>', '<pad> love</s>', '<pad> love</s>', '<pad> life</s>', '<pad> life</s>', '<pad> inspirational</s>', '<pad> love</s>', '<pad> love</s>', '<pad> inspirational</s>', '<pad> life</s>', '<pad> inspirational</s>', '<pad> life</s>', '<pad> inspirational</s>', '<pad> humor</s><pad>', '<pad> humor</s><pad>', '<pad> love</s><pad>', '<pad> love</s><pad>', '<pad> inspirational philosophy</s>', '<pad> inspirational</s><pad>', '<pad> love</s><pad>', '<pad> life</s><pad>', '<pad> inspirational</s>', '<pad> life</s>', '<pad> love</s>', '<pad> life</s>', '<pad> life</s>', '<pad> humor</s>', '<pad> love</s>', '<pad> love</s>', '<pad> humor</s><pad>', '<pad> life</s><pad>', '<pad> love</s><pad>', '<pad> humor inspirational</s>', '<pad> humor</s><pad>', '<pad> humor</s><pad>', '<pad> inspirational philosophy</s>', '<pad> inspirational</s><pad>', '<pad> humor</s>', '<pad> philosophy</s>', '<pad> inspirational</s>', '<pad> life</s>', '<pad> inspirational</s>', '<pad> love</s>', '<pad> love</s>', '<pad> life</s>', '<pad> love</s>', '<pad> life</s>', '<pad> inspirational</s>', '<pad> life</s>', '<pad> love</s>', '<pad> life</s>', '<pad> life</s>', '<pad> life</s>', '<pad> love</s><pad>', '<pad> life</s><pad>', '<pad> inspirational</s><pad>', '<pad> inspirational</s><pad>', '<pad> humor</s><pad>', '<pad> inspirational love</s>', '<pad> life</s><pad>', '<pad> humor</s><pad>', '<pad> inspirational philosophy</s>', '<pad> humor</s><pad>', '<pad> inspirational</s><pad>', '<pad> inspirational</s><pad>', '<pad> life</s><pad>', '<pad> inspirational</s><pad>', '<pad> life</s><pad>', '<pad> life</s><pad>', '<pad> love</s><pad><pad>', '<pad> life</s><pad><pad>', '<pad> love</s><pad><pad>', '<pad> inspirational philosophy life</s>', '<pad> humor</s><pad><pad>', '<pad> humor</s><pad><pad>', '<pad> inspirational</s><pad><pad>', '<pad> love</s><pad><pad>', '<pad> love</s><pad><pad><pad>', '<pad> life</s><pad><pad><pad>', '<pad> love</s><pad><pad><pad>', '<pad> love</s><pad><pad><pad>', '<pad> life</s><pad><pad><pad>', '<pad> life</s><pad><pad><pad>', '<pad> inspirational philosophy life</s><pad>', '<pad> inspirational philosophy life love</s>', '<pad> philosophy</s><pad>', '<pad> life</s><pad>', '<pad> inspirational philosophy</s>', '<pad> love</s><pad>', '<pad> life</s><pad>', '<pad> inspirational</s><pad>', '<pad> humor</s><pad>', '<pad> philosophy life</s>', '<pad> life</s><pad><pad><pad>', '<pad> love</s><pad><pad><pad>', '<pad> life</s><pad><pad><pad>', '<pad> love</s><pad><pad><pad>', '<pad> philosophy</s><pad><pad><pad>', '<pad> love</s><pad><pad><pad>', '<pad> inspirational philosophy life love</s>', '<pad> inspirational philosophy</s><pad><pad>', '<pad> inspirational philosophy life love</s>', '<pad> love</s><pad><pad><pad>', '<pad> inspirational</s><pad><pad><pad>', '<pad> inspirational</s><pad><pad><pad>', '<pad> love</s><pad><pad><pad>', '<pad> humor</s><pad><pad><pad>', '<pad> life</s><pad><pad><pad>', '<pad> inspirational philosophy life</s><pad>', '<pad> inspirational</s><pad><pad>', '<pad> love</s><pad><pad>', '<pad> inspirational philosophy life</s>', '<pad> inspirational philosophy</s><pad>', '<pad> life</s><pad><pad>', '<pad> love</s><pad><pad>', '<pad> life</s><pad><pad>', '<pad> inspirational</s><pad><pad>', '<pad> inspirational philosophy life love</s>', '<pad> humor</s><pad><pad><pad>', '<pad> love</s><pad><pad><pad>', '<pad> inspirational</s><pad><pad><pad>', '<pad> inspirational</s><pad><pad><pad>', '<pad> inspirational</s><pad><pad><pad>', '<pad> life</s><pad><pad><pad>', '<pad> inspirational philosophy life</s><pad>', '<pad> inspirational</s>', '<pad> life</s>', '<pad> love</s>', '<pad> love</s>', '<pad> life</s>', '<pad> love</s>', '<pad> love</s>', '<pad> philosophy</s>', '<pad> love</s><pad><pad><pad>', '<pad> love</s><pad><pad><pad>', '<pad> inspirational</s><pad><pad><pad>', '<pad> life</s><pad><pad><pad>', '<pad> inspirational philosophy life love</s>', '<pad> life</s><pad><pad><pad>', '<pad> inspirational</s><pad><pad><pad>', '<pad> humor</s><pad><pad><pad>', '<pad> love</s><pad><pad><pad>', '<pad> inspirational</s><pad><pad><pad>', '<pad> humor</s><pad><pad><pad>', '<pad> inspirational philosophy life love</s>', '<pad> inspirational</s><pad><pad><pad>', '<pad> love</s><pad><pad><pad>', '<pad> philosophy</s><pad><pad><pad>', '<pad> philosophy</s><pad><pad><pad>', '<pad> inspirational</s>', '<pad> love</s>', '<pad> inspirational</s>', '<pad> humor</s>', '<pad> philosophy</s>', '<pad> love</s>', '<pad> inspirational</s>', '<pad> love</s>', '<pad> humor</s><pad><pad><pad>', '<pad> love</s><pad><pad><pad>', '<pad> life</s><pad><pad><pad>', '<pad> inspirational philosophy life love</s>', '<pad> inspirational</s><pad><pad><pad>', '<pad> love</s><pad><pad><pad>', '<pad> inspirational</s><pad><pad><pad>', '<pad> life love</s><pad><pad>', '<pad> inspirational</s>', '<pad> love</s>', '<pad> life</s>', '<pad> inspirational</s>', '<pad> love</s>', '<pad> love</s>', '<pad> love</s>', '<pad> life</s>', '<pad> life</s>', '<pad> love</s>', '<pad> inspirational</s>', '<pad> philosophy</s>', '<pad> love</s>', '<pad> life</s>', '<pad> inspirational</s>', '<pad> life</s>', '<pad> life</s><pad><pad><pad>', '<pad> inspirational philosophy life love</s>', '<pad> life</s><pad><pad><pad>', '<pad> humor</s><pad><pad><pad>', '<pad> love</s><pad><pad><pad>', '<pad> inspirational</s><pad><pad><pad>', '<pad> inspirational</s><pad><pad><pad>', '<pad> philosophy life</s><pad><pad>', '<pad> humor</s><pad>', '<pad> life</s><pad>', '<pad> life</s><pad>', '<pad> life</s><pad>', '<pad> humor</s><pad>', '<pad> love</s><pad>', '<pad> inspirational life</s>', '<pad> inspirational</s><pad>', '<pad> life</s><pad><pad><pad>', '<pad> love</s><pad><pad><pad>', '<pad> humor</s><pad><pad><pad>', '<pad> philosophy life</s><pad><pad>', '<pad> life</s><pad><pad><pad>', '<pad> inspirational</s><pad><pad><pad>', '<pad> humor</s><pad><pad><pad>', '<pad> inspirational philosophy life love</s>', '<pad> love</s>', '<pad> life</s>', '<pad> life</s>', '<pad> life</s>', '<pad> inspirational</s>', '<pad> inspirational</s>', '<pad> love</s>', '<pad> life</s>', '<pad> philosophy</s><pad>', '<pad> love</s><pad>', '<pad> inspirational life</s>', '<pad> love</s><pad>', '<pad> inspirational</s><pad>', '<pad> life love</s>', '<pad> love</s><pad>', '<pad> life</s><pad>', '<pad> life</s><pad>', '<pad> inspirational philosophy</s>', '<pad> inspirational</s><pad>', '<pad> humor</s><pad>', '<pad> inspirational</s><pad>', '<pad> life</s><pad>', '<pad> humor</s><pad>', '<pad> inspirational</s><pad>', '<pad> love</s>', '<pad> life</s>', '<pad> love</s>', '<pad> love</s>', '<pad> love</s>', '<pad> inspirational</s>', '<pad> philosophy</s>', '<pad> love</s>', '<pad> love</s>', '<pad> life</s>', '<pad> life</s>', '<pad> inspirational</s>', '<pad> life</s>', '<pad> humor</s>', '<pad> inspirational</s>', '<pad> life</s>', '<pad> inspirational</s>', '<pad> life</s>', '<pad> life</s>', '<pad> life</s>', '<pad> life</s>', '<pad> inspirational</s>', '<pad> love</s>', '<pad> humor</s>', '<pad> love</s><pad>', '<pad> love</s><pad>', '<pad> inspirational love</s>', '<pad> love</s><pad>', '<pad> humor</s><pad>', '<pad> inspirational philosophy</s>', '<pad> inspirational</s><pad>', '<pad> love</s><pad>', '<pad> life love</s><pad><pad>', '<pad> life</s><pad><pad><pad>', '<pad> inspirational philosophy life love</s>', '<pad> love</s><pad><pad><pad>', '<pad> humor</s><pad><pad><pad>', '<pad> love</s><pad><pad><pad>', '<pad> inspirational</s><pad><pad><pad>', '<pad> life</s><pad><pad><pad>', '<pad> humor</s><pad>', '<pad> inspirational philosophy</s>', '<pad> inspirational</s><pad>', '<pad> inspirational</s><pad>', '<pad> life</s><pad>', '<pad> inspirational philosophy</s>', '<pad> love</s><pad>', '<pad> life</s><pad>', '<pad> inspirational</s><pad><pad><pad>', '<pad> philosophy</s><pad><pad><pad>', '<pad> love</s><pad><pad><pad>', '<pad> love</s><pad><pad><pad>', '<pad> inspirational</s><pad><pad><pad>', '<pad> love</s><pad><pad><pad>', '<pad> inspirational philosophy life love</s>', '<pad> life</s><pad><pad><pad>', '<pad> inspirational philosophy life love</s>', '<pad> philosophy</s><pad><pad><pad>', '<pad> humor</s><pad><pad><pad>', '<pad> life</s><pad><pad><pad>', '<pad> love</s><pad><pad><pad>', '<pad> inspirational philosophy life love</s>', '<pad> inspirational philosophy</s><pad><pad>', '<pad> inspirational</s><pad><pad><pad>', '<pad> inspirational philosophy</s>', '<pad> inspirational</s><pad>', '<pad> love</s><pad>', '<pad> life</s><pad>', '<pad> life</s><pad>', '<pad> life</s><pad>', '<pad> humor</s><pad>', '<pad> life</s><pad>', '<pad> inspirational</s>', '<pad> love</s>', '<pad> love</s>', '<pad> life</s>', '<pad> humor</s>', '<pad> inspirational</s>', '<pad> life</s>', '<pad> love</s>', '<pad> life</s><pad>', '<pad> love</s><pad>', '<pad> inspirational philosophy</s>', '<pad> inspirational</s><pad>', '<pad> inspirational philosophy</s>', '<pad> love</s><pad>', '<pad> inspirational</s><pad>', '<pad> inspirational</s><pad>', '<pad> love</s><pad><pad>', '<pad> inspirational philosophy love</s>', '<pad> life</s><pad><pad>', '<pad> inspirational</s><pad><pad>', '<pad> love</s><pad><pad>', '<pad> life</s><pad><pad>', '<pad> life</s><pad><pad>', '<pad> life</s><pad><pad>', '<pad> inspirational philosophy</s>', '<pad> love</s><pad>', '<pad> love</s><pad>', '<pad> love</s><pad>', '<pad> love</s><pad>', '<pad> love</s><pad>', '<pad> inspirational</s><pad>', '<pad> inspirational</s><pad>', '<pad> humor</s>', '<pad> love</s>', '<pad> life</s>', '<pad> inspirational</s>', '<pad> humor</s>', '<pad> love</s>', '<pad> life</s>', '<pad> love</s>', '<pad> philosophy life</s><pad><pad><pad>', '<pad> love</s><pad><pad><pad><pad>', '<pad> life</s><pad><pad><pad><pad>', '<pad> inspirational humor philosophy love life</s>', '<pad> inspirational philosophy life love</s><pad>']\n"
          ]
        }
      ]
    },
    {
      "cell_type": "code",
      "source": [
        "def get_output_tags(out):\n",
        "  tags = []\n",
        "  for i in labels:\n",
        "    if i in out:\n",
        "      tags.append(i)\n",
        "  return tags\n",
        "\n",
        "\n",
        "test_df['pred_tags'] = pred\n",
        "test_df['pred_tags'] = test_df['pred_tags'].apply(get_output_tags)\n",
        "pred_ohe = generate_one_hot_encoding(labels,pred)\n",
        "pred_ohe"
      ],
      "metadata": {
        "id": "_SUaF0cQwAgs",
        "colab": {
          "base_uri": "https://localhost:8080/"
        },
        "outputId": "228b4ec4-bf9c-4240-ec5b-f90c96852c15"
      },
      "id": "_SUaF0cQwAgs",
      "execution_count": 71,
      "outputs": [
        {
          "output_type": "execute_result",
          "data": {
            "text/plain": [
              "array([[0, 0, 0, 1, 0],\n",
              "       [0, 1, 0, 0, 0],\n",
              "       [0, 0, 1, 0, 0],\n",
              "       ...,\n",
              "       [0, 1, 0, 0, 0],\n",
              "       [1, 1, 1, 1, 1],\n",
              "       [1, 1, 1, 1, 0]])"
            ]
          },
          "metadata": {},
          "execution_count": 71
        }
      ]
    },
    {
      "cell_type": "code",
      "source": [
        "test_df.to_csv('submission.csv', index=False)"
      ],
      "metadata": {
        "id": "lEY8NhkByPks"
      },
      "id": "lEY8NhkByPks",
      "execution_count": null,
      "outputs": []
    },
    {
      "cell_type": "code",
      "source": [
        "test_df"
      ],
      "metadata": {
        "id": "zhyi5A8J0MCo",
        "colab": {
          "base_uri": "https://localhost:8080/",
          "height": 476
        },
        "outputId": "ab9b6195-f46d-42e6-c324-08d560f8afb8"
      },
      "id": "zhyi5A8J0MCo",
      "execution_count": 72,
      "outputs": [
        {
          "output_type": "execute_result",
          "data": {
            "text/plain": [
              "                                                  quote  \\\n",
              "0     we are shocked by thieves taking pride in thei...   \n",
              "1     discovering life in oneself is to become what ...   \n",
              "2     this is what the good guys do they keep trying...   \n",
              "3     fourth cosmic sealterrestrial seal 1330  seal ...   \n",
              "4     we are figments of the same imagination we are...   \n",
              "...                                                 ...   \n",
              "2216  when you change your thinking you change the w...   \n",
              "2217  love is a combination of virtues the amount yo...   \n",
              "2218  with my talent i can make people laugh and giv...   \n",
              "2219  construct your life plans before satan attempt...   \n",
              "2220  where in the world would a star be without the...   \n",
              "\n",
              "                                     tags  \\\n",
              "0                         philosophy_life   \n",
              "1                                    life   \n",
              "2                           inspirational   \n",
              "3     humor_inspirational_philosophy_life   \n",
              "4                           inspirational   \n",
              "...                                   ...   \n",
              "2216   inspirational_philosophy_life_love   \n",
              "2217                                 love   \n",
              "2218                                 life   \n",
              "2219                                 life   \n",
              "2220                                 love   \n",
              "\n",
              "                                           pred_tags  \n",
              "0                                       [philosophy]  \n",
              "1                                             [life]  \n",
              "2                                    [inspirational]  \n",
              "3                                    [inspirational]  \n",
              "4                                             [love]  \n",
              "...                                              ...  \n",
              "2216                              [life, philosophy]  \n",
              "2217                                          [love]  \n",
              "2218                                          [life]  \n",
              "2219  [love, life, inspirational, philosophy, humor]  \n",
              "2220         [love, life, inspirational, philosophy]  \n",
              "\n",
              "[2221 rows x 3 columns]"
            ],
            "text/html": [
              "\n",
              "  <div id=\"df-225f742f-cc93-4096-a87d-37b380acd8ab\" class=\"colab-df-container\">\n",
              "    <div>\n",
              "<style scoped>\n",
              "    .dataframe tbody tr th:only-of-type {\n",
              "        vertical-align: middle;\n",
              "    }\n",
              "\n",
              "    .dataframe tbody tr th {\n",
              "        vertical-align: top;\n",
              "    }\n",
              "\n",
              "    .dataframe thead th {\n",
              "        text-align: right;\n",
              "    }\n",
              "</style>\n",
              "<table border=\"1\" class=\"dataframe\">\n",
              "  <thead>\n",
              "    <tr style=\"text-align: right;\">\n",
              "      <th></th>\n",
              "      <th>quote</th>\n",
              "      <th>tags</th>\n",
              "      <th>pred_tags</th>\n",
              "    </tr>\n",
              "  </thead>\n",
              "  <tbody>\n",
              "    <tr>\n",
              "      <th>0</th>\n",
              "      <td>we are shocked by thieves taking pride in thei...</td>\n",
              "      <td>philosophy_life</td>\n",
              "      <td>[philosophy]</td>\n",
              "    </tr>\n",
              "    <tr>\n",
              "      <th>1</th>\n",
              "      <td>discovering life in oneself is to become what ...</td>\n",
              "      <td>life</td>\n",
              "      <td>[life]</td>\n",
              "    </tr>\n",
              "    <tr>\n",
              "      <th>2</th>\n",
              "      <td>this is what the good guys do they keep trying...</td>\n",
              "      <td>inspirational</td>\n",
              "      <td>[inspirational]</td>\n",
              "    </tr>\n",
              "    <tr>\n",
              "      <th>3</th>\n",
              "      <td>fourth cosmic sealterrestrial seal 1330  seal ...</td>\n",
              "      <td>humor_inspirational_philosophy_life</td>\n",
              "      <td>[inspirational]</td>\n",
              "    </tr>\n",
              "    <tr>\n",
              "      <th>4</th>\n",
              "      <td>we are figments of the same imagination we are...</td>\n",
              "      <td>inspirational</td>\n",
              "      <td>[love]</td>\n",
              "    </tr>\n",
              "    <tr>\n",
              "      <th>...</th>\n",
              "      <td>...</td>\n",
              "      <td>...</td>\n",
              "      <td>...</td>\n",
              "    </tr>\n",
              "    <tr>\n",
              "      <th>2216</th>\n",
              "      <td>when you change your thinking you change the w...</td>\n",
              "      <td>inspirational_philosophy_life_love</td>\n",
              "      <td>[life, philosophy]</td>\n",
              "    </tr>\n",
              "    <tr>\n",
              "      <th>2217</th>\n",
              "      <td>love is a combination of virtues the amount yo...</td>\n",
              "      <td>love</td>\n",
              "      <td>[love]</td>\n",
              "    </tr>\n",
              "    <tr>\n",
              "      <th>2218</th>\n",
              "      <td>with my talent i can make people laugh and giv...</td>\n",
              "      <td>life</td>\n",
              "      <td>[life]</td>\n",
              "    </tr>\n",
              "    <tr>\n",
              "      <th>2219</th>\n",
              "      <td>construct your life plans before satan attempt...</td>\n",
              "      <td>life</td>\n",
              "      <td>[love, life, inspirational, philosophy, humor]</td>\n",
              "    </tr>\n",
              "    <tr>\n",
              "      <th>2220</th>\n",
              "      <td>where in the world would a star be without the...</td>\n",
              "      <td>love</td>\n",
              "      <td>[love, life, inspirational, philosophy]</td>\n",
              "    </tr>\n",
              "  </tbody>\n",
              "</table>\n",
              "<p>2221 rows × 3 columns</p>\n",
              "</div>\n",
              "    <div class=\"colab-df-buttons\">\n",
              "\n",
              "  <div class=\"colab-df-container\">\n",
              "    <button class=\"colab-df-convert\" onclick=\"convertToInteractive('df-225f742f-cc93-4096-a87d-37b380acd8ab')\"\n",
              "            title=\"Convert this dataframe to an interactive table.\"\n",
              "            style=\"display:none;\">\n",
              "\n",
              "  <svg xmlns=\"http://www.w3.org/2000/svg\" height=\"24px\" viewBox=\"0 -960 960 960\">\n",
              "    <path d=\"M120-120v-720h720v720H120Zm60-500h600v-160H180v160Zm220 220h160v-160H400v160Zm0 220h160v-160H400v160ZM180-400h160v-160H180v160Zm440 0h160v-160H620v160ZM180-180h160v-160H180v160Zm440 0h160v-160H620v160Z\"/>\n",
              "  </svg>\n",
              "    </button>\n",
              "\n",
              "  <style>\n",
              "    .colab-df-container {\n",
              "      display:flex;\n",
              "      gap: 12px;\n",
              "    }\n",
              "\n",
              "    .colab-df-convert {\n",
              "      background-color: #E8F0FE;\n",
              "      border: none;\n",
              "      border-radius: 50%;\n",
              "      cursor: pointer;\n",
              "      display: none;\n",
              "      fill: #1967D2;\n",
              "      height: 32px;\n",
              "      padding: 0 0 0 0;\n",
              "      width: 32px;\n",
              "    }\n",
              "\n",
              "    .colab-df-convert:hover {\n",
              "      background-color: #E2EBFA;\n",
              "      box-shadow: 0px 1px 2px rgba(60, 64, 67, 0.3), 0px 1px 3px 1px rgba(60, 64, 67, 0.15);\n",
              "      fill: #174EA6;\n",
              "    }\n",
              "\n",
              "    .colab-df-buttons div {\n",
              "      margin-bottom: 4px;\n",
              "    }\n",
              "\n",
              "    [theme=dark] .colab-df-convert {\n",
              "      background-color: #3B4455;\n",
              "      fill: #D2E3FC;\n",
              "    }\n",
              "\n",
              "    [theme=dark] .colab-df-convert:hover {\n",
              "      background-color: #434B5C;\n",
              "      box-shadow: 0px 1px 3px 1px rgba(0, 0, 0, 0.15);\n",
              "      filter: drop-shadow(0px 1px 2px rgba(0, 0, 0, 0.3));\n",
              "      fill: #FFFFFF;\n",
              "    }\n",
              "  </style>\n",
              "\n",
              "    <script>\n",
              "      const buttonEl =\n",
              "        document.querySelector('#df-225f742f-cc93-4096-a87d-37b380acd8ab button.colab-df-convert');\n",
              "      buttonEl.style.display =\n",
              "        google.colab.kernel.accessAllowed ? 'block' : 'none';\n",
              "\n",
              "      async function convertToInteractive(key) {\n",
              "        const element = document.querySelector('#df-225f742f-cc93-4096-a87d-37b380acd8ab');\n",
              "        const dataTable =\n",
              "          await google.colab.kernel.invokeFunction('convertToInteractive',\n",
              "                                                    [key], {});\n",
              "        if (!dataTable) return;\n",
              "\n",
              "        const docLinkHtml = 'Like what you see? Visit the ' +\n",
              "          '<a target=\"_blank\" href=https://colab.research.google.com/notebooks/data_table.ipynb>data table notebook</a>'\n",
              "          + ' to learn more about interactive tables.';\n",
              "        element.innerHTML = '';\n",
              "        dataTable['output_type'] = 'display_data';\n",
              "        await google.colab.output.renderOutput(dataTable, element);\n",
              "        const docLink = document.createElement('div');\n",
              "        docLink.innerHTML = docLinkHtml;\n",
              "        element.appendChild(docLink);\n",
              "      }\n",
              "    </script>\n",
              "  </div>\n",
              "\n",
              "\n",
              "<div id=\"df-a75d47b3-d97c-4480-a881-9042cda01373\">\n",
              "  <button class=\"colab-df-quickchart\" onclick=\"quickchart('df-a75d47b3-d97c-4480-a881-9042cda01373')\"\n",
              "            title=\"Suggest charts\"\n",
              "            style=\"display:none;\">\n",
              "\n",
              "<svg xmlns=\"http://www.w3.org/2000/svg\" height=\"24px\"viewBox=\"0 0 24 24\"\n",
              "     width=\"24px\">\n",
              "    <g>\n",
              "        <path d=\"M19 3H5c-1.1 0-2 .9-2 2v14c0 1.1.9 2 2 2h14c1.1 0 2-.9 2-2V5c0-1.1-.9-2-2-2zM9 17H7v-7h2v7zm4 0h-2V7h2v10zm4 0h-2v-4h2v4z\"/>\n",
              "    </g>\n",
              "</svg>\n",
              "  </button>\n",
              "\n",
              "<style>\n",
              "  .colab-df-quickchart {\n",
              "      --bg-color: #E8F0FE;\n",
              "      --fill-color: #1967D2;\n",
              "      --hover-bg-color: #E2EBFA;\n",
              "      --hover-fill-color: #174EA6;\n",
              "      --disabled-fill-color: #AAA;\n",
              "      --disabled-bg-color: #DDD;\n",
              "  }\n",
              "\n",
              "  [theme=dark] .colab-df-quickchart {\n",
              "      --bg-color: #3B4455;\n",
              "      --fill-color: #D2E3FC;\n",
              "      --hover-bg-color: #434B5C;\n",
              "      --hover-fill-color: #FFFFFF;\n",
              "      --disabled-bg-color: #3B4455;\n",
              "      --disabled-fill-color: #666;\n",
              "  }\n",
              "\n",
              "  .colab-df-quickchart {\n",
              "    background-color: var(--bg-color);\n",
              "    border: none;\n",
              "    border-radius: 50%;\n",
              "    cursor: pointer;\n",
              "    display: none;\n",
              "    fill: var(--fill-color);\n",
              "    height: 32px;\n",
              "    padding: 0;\n",
              "    width: 32px;\n",
              "  }\n",
              "\n",
              "  .colab-df-quickchart:hover {\n",
              "    background-color: var(--hover-bg-color);\n",
              "    box-shadow: 0 1px 2px rgba(60, 64, 67, 0.3), 0 1px 3px 1px rgba(60, 64, 67, 0.15);\n",
              "    fill: var(--button-hover-fill-color);\n",
              "  }\n",
              "\n",
              "  .colab-df-quickchart-complete:disabled,\n",
              "  .colab-df-quickchart-complete:disabled:hover {\n",
              "    background-color: var(--disabled-bg-color);\n",
              "    fill: var(--disabled-fill-color);\n",
              "    box-shadow: none;\n",
              "  }\n",
              "\n",
              "  .colab-df-spinner {\n",
              "    border: 2px solid var(--fill-color);\n",
              "    border-color: transparent;\n",
              "    border-bottom-color: var(--fill-color);\n",
              "    animation:\n",
              "      spin 1s steps(1) infinite;\n",
              "  }\n",
              "\n",
              "  @keyframes spin {\n",
              "    0% {\n",
              "      border-color: transparent;\n",
              "      border-bottom-color: var(--fill-color);\n",
              "      border-left-color: var(--fill-color);\n",
              "    }\n",
              "    20% {\n",
              "      border-color: transparent;\n",
              "      border-left-color: var(--fill-color);\n",
              "      border-top-color: var(--fill-color);\n",
              "    }\n",
              "    30% {\n",
              "      border-color: transparent;\n",
              "      border-left-color: var(--fill-color);\n",
              "      border-top-color: var(--fill-color);\n",
              "      border-right-color: var(--fill-color);\n",
              "    }\n",
              "    40% {\n",
              "      border-color: transparent;\n",
              "      border-right-color: var(--fill-color);\n",
              "      border-top-color: var(--fill-color);\n",
              "    }\n",
              "    60% {\n",
              "      border-color: transparent;\n",
              "      border-right-color: var(--fill-color);\n",
              "    }\n",
              "    80% {\n",
              "      border-color: transparent;\n",
              "      border-right-color: var(--fill-color);\n",
              "      border-bottom-color: var(--fill-color);\n",
              "    }\n",
              "    90% {\n",
              "      border-color: transparent;\n",
              "      border-bottom-color: var(--fill-color);\n",
              "    }\n",
              "  }\n",
              "</style>\n",
              "\n",
              "  <script>\n",
              "    async function quickchart(key) {\n",
              "      const quickchartButtonEl =\n",
              "        document.querySelector('#' + key + ' button');\n",
              "      quickchartButtonEl.disabled = true;  // To prevent multiple clicks.\n",
              "      quickchartButtonEl.classList.add('colab-df-spinner');\n",
              "      try {\n",
              "        const charts = await google.colab.kernel.invokeFunction(\n",
              "            'suggestCharts', [key], {});\n",
              "      } catch (error) {\n",
              "        console.error('Error during call to suggestCharts:', error);\n",
              "      }\n",
              "      quickchartButtonEl.classList.remove('colab-df-spinner');\n",
              "      quickchartButtonEl.classList.add('colab-df-quickchart-complete');\n",
              "    }\n",
              "    (() => {\n",
              "      let quickchartButtonEl =\n",
              "        document.querySelector('#df-a75d47b3-d97c-4480-a881-9042cda01373 button');\n",
              "      quickchartButtonEl.style.display =\n",
              "        google.colab.kernel.accessAllowed ? 'block' : 'none';\n",
              "    })();\n",
              "  </script>\n",
              "</div>\n",
              "\n",
              "  <div id=\"id_16411721-13f4-4f59-9690-bfe0cf89f7a9\">\n",
              "    <style>\n",
              "      .colab-df-generate {\n",
              "        background-color: #E8F0FE;\n",
              "        border: none;\n",
              "        border-radius: 50%;\n",
              "        cursor: pointer;\n",
              "        display: none;\n",
              "        fill: #1967D2;\n",
              "        height: 32px;\n",
              "        padding: 0 0 0 0;\n",
              "        width: 32px;\n",
              "      }\n",
              "\n",
              "      .colab-df-generate:hover {\n",
              "        background-color: #E2EBFA;\n",
              "        box-shadow: 0px 1px 2px rgba(60, 64, 67, 0.3), 0px 1px 3px 1px rgba(60, 64, 67, 0.15);\n",
              "        fill: #174EA6;\n",
              "      }\n",
              "\n",
              "      [theme=dark] .colab-df-generate {\n",
              "        background-color: #3B4455;\n",
              "        fill: #D2E3FC;\n",
              "      }\n",
              "\n",
              "      [theme=dark] .colab-df-generate:hover {\n",
              "        background-color: #434B5C;\n",
              "        box-shadow: 0px 1px 3px 1px rgba(0, 0, 0, 0.15);\n",
              "        filter: drop-shadow(0px 1px 2px rgba(0, 0, 0, 0.3));\n",
              "        fill: #FFFFFF;\n",
              "      }\n",
              "    </style>\n",
              "    <button class=\"colab-df-generate\" onclick=\"generateWithVariable('test_df')\"\n",
              "            title=\"Generate code using this dataframe.\"\n",
              "            style=\"display:none;\">\n",
              "\n",
              "  <svg xmlns=\"http://www.w3.org/2000/svg\" height=\"24px\"viewBox=\"0 0 24 24\"\n",
              "       width=\"24px\">\n",
              "    <path d=\"M7,19H8.4L18.45,9,17,7.55,7,17.6ZM5,21V16.75L18.45,3.32a2,2,0,0,1,2.83,0l1.4,1.43a1.91,1.91,0,0,1,.58,1.4,1.91,1.91,0,0,1-.58,1.4L9.25,21ZM18.45,9,17,7.55Zm-12,3A5.31,5.31,0,0,0,4.9,8.1,5.31,5.31,0,0,0,1,6.5,5.31,5.31,0,0,0,4.9,4.9,5.31,5.31,0,0,0,6.5,1,5.31,5.31,0,0,0,8.1,4.9,5.31,5.31,0,0,0,12,6.5,5.46,5.46,0,0,0,6.5,12Z\"/>\n",
              "  </svg>\n",
              "    </button>\n",
              "    <script>\n",
              "      (() => {\n",
              "      const buttonEl =\n",
              "        document.querySelector('#id_16411721-13f4-4f59-9690-bfe0cf89f7a9 button.colab-df-generate');\n",
              "      buttonEl.style.display =\n",
              "        google.colab.kernel.accessAllowed ? 'block' : 'none';\n",
              "\n",
              "      buttonEl.onclick = () => {\n",
              "        google.colab.notebook.generateWithVariable('test_df');\n",
              "      }\n",
              "      })();\n",
              "    </script>\n",
              "  </div>\n",
              "\n",
              "    </div>\n",
              "  </div>\n"
            ],
            "application/vnd.google.colaboratory.intrinsic+json": {
              "type": "dataframe",
              "variable_name": "test_df",
              "summary": "{\n  \"name\": \"test_df\",\n  \"rows\": 2221,\n  \"fields\": [\n    {\n      \"column\": \"quote\",\n      \"properties\": {\n        \"dtype\": \"string\",\n        \"num_unique_values\": 2221,\n        \"samples\": [\n          \"you think it cant get worse than wanting someone and not having them but it can you can want someone have them and want them more still always you can never get enough\",\n          \"the service of god is in people\",\n          \"there youll find the place i love most in the world the place where i grew thin from dreaming my village rising from the plain shaded with trees and leaves like a piggy bank filled with memories youll see why a person would want to live there forever dawn morning midday night all the same except for the changes in the air the air changes the color of things there and life whirs by as quiet as a murmurthe pure murmuring of life\"\n        ],\n        \"semantic_type\": \"\",\n        \"description\": \"\"\n      }\n    },\n    {\n      \"column\": \"tags\",\n      \"properties\": {\n        \"dtype\": \"category\",\n        \"num_unique_values\": 26,\n        \"samples\": [\n          \"inspirational_philosophy_life_love\",\n          \"inspirational_humor_philosophy_love_life\",\n          \"philosophy_life\"\n        ],\n        \"semantic_type\": \"\",\n        \"description\": \"\"\n      }\n    },\n    {\n      \"column\": \"pred_tags\",\n      \"properties\": {\n        \"dtype\": \"object\",\n        \"semantic_type\": \"\",\n        \"description\": \"\"\n      }\n    }\n  ]\n}"
            }
          },
          "metadata": {},
          "execution_count": 72
        }
      ]
    },
    {
      "cell_type": "code",
      "source": [
        "def jaccard_similarity(one_hot_true, one_hot_predicted):\n",
        "    # Compute intersection and union\n",
        "    intersection = np.sum(np.logical_and(one_hot_true, one_hot_predicted), axis=1)\n",
        "    union = np.sum(np.logical_or(one_hot_true, one_hot_predicted), axis=1)\n",
        "\n",
        "    # Compute Jaccard Similarity for each instance\n",
        "    jaccard_similarities = intersection / union\n",
        "\n",
        "    return jaccard_similarities\n",
        "\n",
        "true_ohe = generate_one_hot_encoding(labels, test_df['tags'].tolist())\n",
        "pred_ohe = generate_one_hot_encoding(labels, pred)\n",
        "\n",
        "jaccard_similarities = jaccard_similarity(true_ohe, pred_ohe)"
      ],
      "metadata": {
        "id": "HjMao8HB-ies"
      },
      "id": "HjMao8HB-ies",
      "execution_count": 73,
      "outputs": []
    },
    {
      "cell_type": "code",
      "source": [
        "jaccard_similarities.mean()"
      ],
      "metadata": {
        "colab": {
          "base_uri": "https://localhost:8080/"
        },
        "id": "43KPJMClHndO",
        "outputId": "a186d5e5-b6d6-4054-8d6d-51bcf6eecc81"
      },
      "id": "43KPJMClHndO",
      "execution_count": 74,
      "outputs": [
        {
          "output_type": "execute_result",
          "data": {
            "text/plain": [
              "0.5924133273300315"
            ]
          },
          "metadata": {},
          "execution_count": 74
        }
      ]
    },
    {
      "cell_type": "code",
      "source": [
        "jaccard_score(true_ohe, pred_ohe, average=\"samples\")"
      ],
      "metadata": {
        "id": "48aodtWwRw50"
      },
      "id": "48aodtWwRw50",
      "execution_count": null,
      "outputs": []
    },
    {
      "cell_type": "code",
      "source": [],
      "metadata": {
        "id": "P8TP006lgY2l"
      },
      "id": "P8TP006lgY2l",
      "execution_count": null,
      "outputs": []
    }
  ],
  "metadata": {
    "kernelspec": {
      "display_name": "Python 3",
      "name": "python3"
    },
    "language_info": {
      "codemirror_mode": {
        "name": "ipython",
        "version": 3
      },
      "file_extension": ".py",
      "mimetype": "text/x-python",
      "name": "python",
      "nbconvert_exporter": "python",
      "pygments_lexer": "ipython3",
      "version": "3.11.5"
    },
    "colab": {
      "provenance": [],
      "gpuType": "A100",
      "machine_shape": "hm"
    },
    "accelerator": "GPU",
    "widgets": {
      "application/vnd.jupyter.widget-state+json": {
        "fd0cdb8f557344db9df2c53a662a4884": {
          "model_module": "@jupyter-widgets/controls",
          "model_name": "HBoxModel",
          "model_module_version": "1.5.0",
          "state": {
            "_dom_classes": [],
            "_model_module": "@jupyter-widgets/controls",
            "_model_module_version": "1.5.0",
            "_model_name": "HBoxModel",
            "_view_count": null,
            "_view_module": "@jupyter-widgets/controls",
            "_view_module_version": "1.5.0",
            "_view_name": "HBoxView",
            "box_style": "",
            "children": [
              "IPY_MODEL_5ffd0b11785b40f3a0a0708f03d4ff24",
              "IPY_MODEL_5f7a981180cc4ca09b1d9db2fcfa3917",
              "IPY_MODEL_6537fdcdbf234efdb17e4d16e02ac45a"
            ],
            "layout": "IPY_MODEL_7e70e7e9d79b4c83b1764ff75732b95c"
          }
        },
        "5ffd0b11785b40f3a0a0708f03d4ff24": {
          "model_module": "@jupyter-widgets/controls",
          "model_name": "HTMLModel",
          "model_module_version": "1.5.0",
          "state": {
            "_dom_classes": [],
            "_model_module": "@jupyter-widgets/controls",
            "_model_module_version": "1.5.0",
            "_model_name": "HTMLModel",
            "_view_count": null,
            "_view_module": "@jupyter-widgets/controls",
            "_view_module_version": "1.5.0",
            "_view_name": "HTMLView",
            "description": "",
            "description_tooltip": null,
            "layout": "IPY_MODEL_717abba34477455a837057dd67d6773d",
            "placeholder": "​",
            "style": "IPY_MODEL_09c7a5d8e05842c3831e00dbdb4e891e",
            "value": "Epoch 0: 100%"
          }
        },
        "5f7a981180cc4ca09b1d9db2fcfa3917": {
          "model_module": "@jupyter-widgets/controls",
          "model_name": "FloatProgressModel",
          "model_module_version": "1.5.0",
          "state": {
            "_dom_classes": [],
            "_model_module": "@jupyter-widgets/controls",
            "_model_module_version": "1.5.0",
            "_model_name": "FloatProgressModel",
            "_view_count": null,
            "_view_module": "@jupyter-widgets/controls",
            "_view_module_version": "1.5.0",
            "_view_name": "ProgressView",
            "bar_style": "success",
            "description": "",
            "description_tooltip": null,
            "layout": "IPY_MODEL_c58ee9b83406472b8d070dc20a78dd32",
            "max": 999,
            "min": 0,
            "orientation": "horizontal",
            "style": "IPY_MODEL_cdfc2afbf32d4e88a5c17c7f56cc5ae7",
            "value": 999
          }
        },
        "6537fdcdbf234efdb17e4d16e02ac45a": {
          "model_module": "@jupyter-widgets/controls",
          "model_name": "HTMLModel",
          "model_module_version": "1.5.0",
          "state": {
            "_dom_classes": [],
            "_model_module": "@jupyter-widgets/controls",
            "_model_module_version": "1.5.0",
            "_model_name": "HTMLModel",
            "_view_count": null,
            "_view_module": "@jupyter-widgets/controls",
            "_view_module_version": "1.5.0",
            "_view_name": "HTMLView",
            "description": "",
            "description_tooltip": null,
            "layout": "IPY_MODEL_acd661d99ae441838668da4d9f97176e",
            "placeholder": "​",
            "style": "IPY_MODEL_d08d1aab7fc848e899e8e5230f3fb0d6",
            "value": " 999/999 [01:43&lt;00:00, 12.95it/s]"
          }
        },
        "7e70e7e9d79b4c83b1764ff75732b95c": {
          "model_module": "@jupyter-widgets/base",
          "model_name": "LayoutModel",
          "model_module_version": "1.2.0",
          "state": {
            "_model_module": "@jupyter-widgets/base",
            "_model_module_version": "1.2.0",
            "_model_name": "LayoutModel",
            "_view_count": null,
            "_view_module": "@jupyter-widgets/base",
            "_view_module_version": "1.2.0",
            "_view_name": "LayoutView",
            "align_content": null,
            "align_items": null,
            "align_self": null,
            "border": null,
            "bottom": null,
            "display": null,
            "flex": null,
            "flex_flow": null,
            "grid_area": null,
            "grid_auto_columns": null,
            "grid_auto_flow": null,
            "grid_auto_rows": null,
            "grid_column": null,
            "grid_gap": null,
            "grid_row": null,
            "grid_template_areas": null,
            "grid_template_columns": null,
            "grid_template_rows": null,
            "height": null,
            "justify_content": null,
            "justify_items": null,
            "left": null,
            "margin": null,
            "max_height": null,
            "max_width": null,
            "min_height": null,
            "min_width": null,
            "object_fit": null,
            "object_position": null,
            "order": null,
            "overflow": null,
            "overflow_x": null,
            "overflow_y": null,
            "padding": null,
            "right": null,
            "top": null,
            "visibility": null,
            "width": null
          }
        },
        "717abba34477455a837057dd67d6773d": {
          "model_module": "@jupyter-widgets/base",
          "model_name": "LayoutModel",
          "model_module_version": "1.2.0",
          "state": {
            "_model_module": "@jupyter-widgets/base",
            "_model_module_version": "1.2.0",
            "_model_name": "LayoutModel",
            "_view_count": null,
            "_view_module": "@jupyter-widgets/base",
            "_view_module_version": "1.2.0",
            "_view_name": "LayoutView",
            "align_content": null,
            "align_items": null,
            "align_self": null,
            "border": null,
            "bottom": null,
            "display": null,
            "flex": null,
            "flex_flow": null,
            "grid_area": null,
            "grid_auto_columns": null,
            "grid_auto_flow": null,
            "grid_auto_rows": null,
            "grid_column": null,
            "grid_gap": null,
            "grid_row": null,
            "grid_template_areas": null,
            "grid_template_columns": null,
            "grid_template_rows": null,
            "height": null,
            "justify_content": null,
            "justify_items": null,
            "left": null,
            "margin": null,
            "max_height": null,
            "max_width": null,
            "min_height": null,
            "min_width": null,
            "object_fit": null,
            "object_position": null,
            "order": null,
            "overflow": null,
            "overflow_x": null,
            "overflow_y": null,
            "padding": null,
            "right": null,
            "top": null,
            "visibility": null,
            "width": null
          }
        },
        "09c7a5d8e05842c3831e00dbdb4e891e": {
          "model_module": "@jupyter-widgets/controls",
          "model_name": "DescriptionStyleModel",
          "model_module_version": "1.5.0",
          "state": {
            "_model_module": "@jupyter-widgets/controls",
            "_model_module_version": "1.5.0",
            "_model_name": "DescriptionStyleModel",
            "_view_count": null,
            "_view_module": "@jupyter-widgets/base",
            "_view_module_version": "1.2.0",
            "_view_name": "StyleView",
            "description_width": ""
          }
        },
        "c58ee9b83406472b8d070dc20a78dd32": {
          "model_module": "@jupyter-widgets/base",
          "model_name": "LayoutModel",
          "model_module_version": "1.2.0",
          "state": {
            "_model_module": "@jupyter-widgets/base",
            "_model_module_version": "1.2.0",
            "_model_name": "LayoutModel",
            "_view_count": null,
            "_view_module": "@jupyter-widgets/base",
            "_view_module_version": "1.2.0",
            "_view_name": "LayoutView",
            "align_content": null,
            "align_items": null,
            "align_self": null,
            "border": null,
            "bottom": null,
            "display": null,
            "flex": null,
            "flex_flow": null,
            "grid_area": null,
            "grid_auto_columns": null,
            "grid_auto_flow": null,
            "grid_auto_rows": null,
            "grid_column": null,
            "grid_gap": null,
            "grid_row": null,
            "grid_template_areas": null,
            "grid_template_columns": null,
            "grid_template_rows": null,
            "height": null,
            "justify_content": null,
            "justify_items": null,
            "left": null,
            "margin": null,
            "max_height": null,
            "max_width": null,
            "min_height": null,
            "min_width": null,
            "object_fit": null,
            "object_position": null,
            "order": null,
            "overflow": null,
            "overflow_x": null,
            "overflow_y": null,
            "padding": null,
            "right": null,
            "top": null,
            "visibility": null,
            "width": null
          }
        },
        "cdfc2afbf32d4e88a5c17c7f56cc5ae7": {
          "model_module": "@jupyter-widgets/controls",
          "model_name": "ProgressStyleModel",
          "model_module_version": "1.5.0",
          "state": {
            "_model_module": "@jupyter-widgets/controls",
            "_model_module_version": "1.5.0",
            "_model_name": "ProgressStyleModel",
            "_view_count": null,
            "_view_module": "@jupyter-widgets/base",
            "_view_module_version": "1.2.0",
            "_view_name": "StyleView",
            "bar_color": null,
            "description_width": ""
          }
        },
        "acd661d99ae441838668da4d9f97176e": {
          "model_module": "@jupyter-widgets/base",
          "model_name": "LayoutModel",
          "model_module_version": "1.2.0",
          "state": {
            "_model_module": "@jupyter-widgets/base",
            "_model_module_version": "1.2.0",
            "_model_name": "LayoutModel",
            "_view_count": null,
            "_view_module": "@jupyter-widgets/base",
            "_view_module_version": "1.2.0",
            "_view_name": "LayoutView",
            "align_content": null,
            "align_items": null,
            "align_self": null,
            "border": null,
            "bottom": null,
            "display": null,
            "flex": null,
            "flex_flow": null,
            "grid_area": null,
            "grid_auto_columns": null,
            "grid_auto_flow": null,
            "grid_auto_rows": null,
            "grid_column": null,
            "grid_gap": null,
            "grid_row": null,
            "grid_template_areas": null,
            "grid_template_columns": null,
            "grid_template_rows": null,
            "height": null,
            "justify_content": null,
            "justify_items": null,
            "left": null,
            "margin": null,
            "max_height": null,
            "max_width": null,
            "min_height": null,
            "min_width": null,
            "object_fit": null,
            "object_position": null,
            "order": null,
            "overflow": null,
            "overflow_x": null,
            "overflow_y": null,
            "padding": null,
            "right": null,
            "top": null,
            "visibility": null,
            "width": null
          }
        },
        "d08d1aab7fc848e899e8e5230f3fb0d6": {
          "model_module": "@jupyter-widgets/controls",
          "model_name": "DescriptionStyleModel",
          "model_module_version": "1.5.0",
          "state": {
            "_model_module": "@jupyter-widgets/controls",
            "_model_module_version": "1.5.0",
            "_model_name": "DescriptionStyleModel",
            "_view_count": null,
            "_view_module": "@jupyter-widgets/base",
            "_view_module_version": "1.2.0",
            "_view_name": "StyleView",
            "description_width": ""
          }
        },
        "af7c04a5caad4e809d0988dfbc35712e": {
          "model_module": "@jupyter-widgets/controls",
          "model_name": "HBoxModel",
          "model_module_version": "1.5.0",
          "state": {
            "_dom_classes": [],
            "_model_module": "@jupyter-widgets/controls",
            "_model_module_version": "1.5.0",
            "_model_name": "HBoxModel",
            "_view_count": null,
            "_view_module": "@jupyter-widgets/controls",
            "_view_module_version": "1.5.0",
            "_view_name": "HBoxView",
            "box_style": "",
            "children": [
              "IPY_MODEL_06484456927e4455820d026afb3ce2ef",
              "IPY_MODEL_fbbeaff6bf094c908b59f5d243fbfeb6",
              "IPY_MODEL_46854d520cea49f18919151c209cbc0d"
            ],
            "layout": "IPY_MODEL_e3306351d7514dd5a43b2e4f911c1527"
          }
        },
        "06484456927e4455820d026afb3ce2ef": {
          "model_module": "@jupyter-widgets/controls",
          "model_name": "HTMLModel",
          "model_module_version": "1.5.0",
          "state": {
            "_dom_classes": [],
            "_model_module": "@jupyter-widgets/controls",
            "_model_module_version": "1.5.0",
            "_model_name": "HTMLModel",
            "_view_count": null,
            "_view_module": "@jupyter-widgets/controls",
            "_view_module_version": "1.5.0",
            "_view_name": "HTMLView",
            "description": "",
            "description_tooltip": null,
            "layout": "IPY_MODEL_1a70a4cf3b524802b82c98c89671b9a5",
            "placeholder": "​",
            "style": "IPY_MODEL_5804d1f97e0e465f9d29060ae68f02c8",
            "value": "Epoch 1: 100%"
          }
        },
        "fbbeaff6bf094c908b59f5d243fbfeb6": {
          "model_module": "@jupyter-widgets/controls",
          "model_name": "FloatProgressModel",
          "model_module_version": "1.5.0",
          "state": {
            "_dom_classes": [],
            "_model_module": "@jupyter-widgets/controls",
            "_model_module_version": "1.5.0",
            "_model_name": "FloatProgressModel",
            "_view_count": null,
            "_view_module": "@jupyter-widgets/controls",
            "_view_module_version": "1.5.0",
            "_view_name": "ProgressView",
            "bar_style": "success",
            "description": "",
            "description_tooltip": null,
            "layout": "IPY_MODEL_78de84e1866043da859066c71a7ce7ce",
            "max": 999,
            "min": 0,
            "orientation": "horizontal",
            "style": "IPY_MODEL_2792f290cf294bc3a07de30a54469d40",
            "value": 999
          }
        },
        "46854d520cea49f18919151c209cbc0d": {
          "model_module": "@jupyter-widgets/controls",
          "model_name": "HTMLModel",
          "model_module_version": "1.5.0",
          "state": {
            "_dom_classes": [],
            "_model_module": "@jupyter-widgets/controls",
            "_model_module_version": "1.5.0",
            "_model_name": "HTMLModel",
            "_view_count": null,
            "_view_module": "@jupyter-widgets/controls",
            "_view_module_version": "1.5.0",
            "_view_name": "HTMLView",
            "description": "",
            "description_tooltip": null,
            "layout": "IPY_MODEL_6ee2566cc97d48f0b88b8daaba7b73ca",
            "placeholder": "​",
            "style": "IPY_MODEL_284952c82fff4b1da5d2f466548905c6",
            "value": " 999/999 [01:23&lt;00:00, 13.01it/s]"
          }
        },
        "e3306351d7514dd5a43b2e4f911c1527": {
          "model_module": "@jupyter-widgets/base",
          "model_name": "LayoutModel",
          "model_module_version": "1.2.0",
          "state": {
            "_model_module": "@jupyter-widgets/base",
            "_model_module_version": "1.2.0",
            "_model_name": "LayoutModel",
            "_view_count": null,
            "_view_module": "@jupyter-widgets/base",
            "_view_module_version": "1.2.0",
            "_view_name": "LayoutView",
            "align_content": null,
            "align_items": null,
            "align_self": null,
            "border": null,
            "bottom": null,
            "display": null,
            "flex": null,
            "flex_flow": null,
            "grid_area": null,
            "grid_auto_columns": null,
            "grid_auto_flow": null,
            "grid_auto_rows": null,
            "grid_column": null,
            "grid_gap": null,
            "grid_row": null,
            "grid_template_areas": null,
            "grid_template_columns": null,
            "grid_template_rows": null,
            "height": null,
            "justify_content": null,
            "justify_items": null,
            "left": null,
            "margin": null,
            "max_height": null,
            "max_width": null,
            "min_height": null,
            "min_width": null,
            "object_fit": null,
            "object_position": null,
            "order": null,
            "overflow": null,
            "overflow_x": null,
            "overflow_y": null,
            "padding": null,
            "right": null,
            "top": null,
            "visibility": null,
            "width": null
          }
        },
        "1a70a4cf3b524802b82c98c89671b9a5": {
          "model_module": "@jupyter-widgets/base",
          "model_name": "LayoutModel",
          "model_module_version": "1.2.0",
          "state": {
            "_model_module": "@jupyter-widgets/base",
            "_model_module_version": "1.2.0",
            "_model_name": "LayoutModel",
            "_view_count": null,
            "_view_module": "@jupyter-widgets/base",
            "_view_module_version": "1.2.0",
            "_view_name": "LayoutView",
            "align_content": null,
            "align_items": null,
            "align_self": null,
            "border": null,
            "bottom": null,
            "display": null,
            "flex": null,
            "flex_flow": null,
            "grid_area": null,
            "grid_auto_columns": null,
            "grid_auto_flow": null,
            "grid_auto_rows": null,
            "grid_column": null,
            "grid_gap": null,
            "grid_row": null,
            "grid_template_areas": null,
            "grid_template_columns": null,
            "grid_template_rows": null,
            "height": null,
            "justify_content": null,
            "justify_items": null,
            "left": null,
            "margin": null,
            "max_height": null,
            "max_width": null,
            "min_height": null,
            "min_width": null,
            "object_fit": null,
            "object_position": null,
            "order": null,
            "overflow": null,
            "overflow_x": null,
            "overflow_y": null,
            "padding": null,
            "right": null,
            "top": null,
            "visibility": null,
            "width": null
          }
        },
        "5804d1f97e0e465f9d29060ae68f02c8": {
          "model_module": "@jupyter-widgets/controls",
          "model_name": "DescriptionStyleModel",
          "model_module_version": "1.5.0",
          "state": {
            "_model_module": "@jupyter-widgets/controls",
            "_model_module_version": "1.5.0",
            "_model_name": "DescriptionStyleModel",
            "_view_count": null,
            "_view_module": "@jupyter-widgets/base",
            "_view_module_version": "1.2.0",
            "_view_name": "StyleView",
            "description_width": ""
          }
        },
        "78de84e1866043da859066c71a7ce7ce": {
          "model_module": "@jupyter-widgets/base",
          "model_name": "LayoutModel",
          "model_module_version": "1.2.0",
          "state": {
            "_model_module": "@jupyter-widgets/base",
            "_model_module_version": "1.2.0",
            "_model_name": "LayoutModel",
            "_view_count": null,
            "_view_module": "@jupyter-widgets/base",
            "_view_module_version": "1.2.0",
            "_view_name": "LayoutView",
            "align_content": null,
            "align_items": null,
            "align_self": null,
            "border": null,
            "bottom": null,
            "display": null,
            "flex": null,
            "flex_flow": null,
            "grid_area": null,
            "grid_auto_columns": null,
            "grid_auto_flow": null,
            "grid_auto_rows": null,
            "grid_column": null,
            "grid_gap": null,
            "grid_row": null,
            "grid_template_areas": null,
            "grid_template_columns": null,
            "grid_template_rows": null,
            "height": null,
            "justify_content": null,
            "justify_items": null,
            "left": null,
            "margin": null,
            "max_height": null,
            "max_width": null,
            "min_height": null,
            "min_width": null,
            "object_fit": null,
            "object_position": null,
            "order": null,
            "overflow": null,
            "overflow_x": null,
            "overflow_y": null,
            "padding": null,
            "right": null,
            "top": null,
            "visibility": null,
            "width": null
          }
        },
        "2792f290cf294bc3a07de30a54469d40": {
          "model_module": "@jupyter-widgets/controls",
          "model_name": "ProgressStyleModel",
          "model_module_version": "1.5.0",
          "state": {
            "_model_module": "@jupyter-widgets/controls",
            "_model_module_version": "1.5.0",
            "_model_name": "ProgressStyleModel",
            "_view_count": null,
            "_view_module": "@jupyter-widgets/base",
            "_view_module_version": "1.2.0",
            "_view_name": "StyleView",
            "bar_color": null,
            "description_width": ""
          }
        },
        "6ee2566cc97d48f0b88b8daaba7b73ca": {
          "model_module": "@jupyter-widgets/base",
          "model_name": "LayoutModel",
          "model_module_version": "1.2.0",
          "state": {
            "_model_module": "@jupyter-widgets/base",
            "_model_module_version": "1.2.0",
            "_model_name": "LayoutModel",
            "_view_count": null,
            "_view_module": "@jupyter-widgets/base",
            "_view_module_version": "1.2.0",
            "_view_name": "LayoutView",
            "align_content": null,
            "align_items": null,
            "align_self": null,
            "border": null,
            "bottom": null,
            "display": null,
            "flex": null,
            "flex_flow": null,
            "grid_area": null,
            "grid_auto_columns": null,
            "grid_auto_flow": null,
            "grid_auto_rows": null,
            "grid_column": null,
            "grid_gap": null,
            "grid_row": null,
            "grid_template_areas": null,
            "grid_template_columns": null,
            "grid_template_rows": null,
            "height": null,
            "justify_content": null,
            "justify_items": null,
            "left": null,
            "margin": null,
            "max_height": null,
            "max_width": null,
            "min_height": null,
            "min_width": null,
            "object_fit": null,
            "object_position": null,
            "order": null,
            "overflow": null,
            "overflow_x": null,
            "overflow_y": null,
            "padding": null,
            "right": null,
            "top": null,
            "visibility": null,
            "width": null
          }
        },
        "284952c82fff4b1da5d2f466548905c6": {
          "model_module": "@jupyter-widgets/controls",
          "model_name": "DescriptionStyleModel",
          "model_module_version": "1.5.0",
          "state": {
            "_model_module": "@jupyter-widgets/controls",
            "_model_module_version": "1.5.0",
            "_model_name": "DescriptionStyleModel",
            "_view_count": null,
            "_view_module": "@jupyter-widgets/base",
            "_view_module_version": "1.2.0",
            "_view_name": "StyleView",
            "description_width": ""
          }
        },
        "4e3c460f36514da5a076bdd552609475": {
          "model_module": "@jupyter-widgets/controls",
          "model_name": "HBoxModel",
          "model_module_version": "1.5.0",
          "state": {
            "_dom_classes": [],
            "_model_module": "@jupyter-widgets/controls",
            "_model_module_version": "1.5.0",
            "_model_name": "HBoxModel",
            "_view_count": null,
            "_view_module": "@jupyter-widgets/controls",
            "_view_module_version": "1.5.0",
            "_view_name": "HBoxView",
            "box_style": "",
            "children": [
              "IPY_MODEL_265fa010b62d4d0e96fb130a48de42fa",
              "IPY_MODEL_3c6fe9da115243d6812f0a1ca24502de",
              "IPY_MODEL_3d6e73b8adcc4f0abcfab8862f930bfb"
            ],
            "layout": "IPY_MODEL_0cd619d20280461ab0de10080117ea94"
          }
        },
        "265fa010b62d4d0e96fb130a48de42fa": {
          "model_module": "@jupyter-widgets/controls",
          "model_name": "HTMLModel",
          "model_module_version": "1.5.0",
          "state": {
            "_dom_classes": [],
            "_model_module": "@jupyter-widgets/controls",
            "_model_module_version": "1.5.0",
            "_model_name": "HTMLModel",
            "_view_count": null,
            "_view_module": "@jupyter-widgets/controls",
            "_view_module_version": "1.5.0",
            "_view_name": "HTMLView",
            "description": "",
            "description_tooltip": null,
            "layout": "IPY_MODEL_61c2c9130af449bda711f068c0bec3b7",
            "placeholder": "​",
            "style": "IPY_MODEL_67c85c2fb0f645ee8e616b93ff917402",
            "value": "Epoch 2: 100%"
          }
        },
        "3c6fe9da115243d6812f0a1ca24502de": {
          "model_module": "@jupyter-widgets/controls",
          "model_name": "FloatProgressModel",
          "model_module_version": "1.5.0",
          "state": {
            "_dom_classes": [],
            "_model_module": "@jupyter-widgets/controls",
            "_model_module_version": "1.5.0",
            "_model_name": "FloatProgressModel",
            "_view_count": null,
            "_view_module": "@jupyter-widgets/controls",
            "_view_module_version": "1.5.0",
            "_view_name": "ProgressView",
            "bar_style": "success",
            "description": "",
            "description_tooltip": null,
            "layout": "IPY_MODEL_97e38e6792c7404a94ed2390cf57efba",
            "max": 999,
            "min": 0,
            "orientation": "horizontal",
            "style": "IPY_MODEL_1ac8d7f43d134f3683eff33cf264e3cc",
            "value": 999
          }
        },
        "3d6e73b8adcc4f0abcfab8862f930bfb": {
          "model_module": "@jupyter-widgets/controls",
          "model_name": "HTMLModel",
          "model_module_version": "1.5.0",
          "state": {
            "_dom_classes": [],
            "_model_module": "@jupyter-widgets/controls",
            "_model_module_version": "1.5.0",
            "_model_name": "HTMLModel",
            "_view_count": null,
            "_view_module": "@jupyter-widgets/controls",
            "_view_module_version": "1.5.0",
            "_view_name": "HTMLView",
            "description": "",
            "description_tooltip": null,
            "layout": "IPY_MODEL_ca1dad19424d485f9204c53a524a4bff",
            "placeholder": "​",
            "style": "IPY_MODEL_2e55802773db4ab6be3bbf355d6c279a",
            "value": " 999/999 [01:24&lt;00:00, 12.98it/s]"
          }
        },
        "0cd619d20280461ab0de10080117ea94": {
          "model_module": "@jupyter-widgets/base",
          "model_name": "LayoutModel",
          "model_module_version": "1.2.0",
          "state": {
            "_model_module": "@jupyter-widgets/base",
            "_model_module_version": "1.2.0",
            "_model_name": "LayoutModel",
            "_view_count": null,
            "_view_module": "@jupyter-widgets/base",
            "_view_module_version": "1.2.0",
            "_view_name": "LayoutView",
            "align_content": null,
            "align_items": null,
            "align_self": null,
            "border": null,
            "bottom": null,
            "display": null,
            "flex": null,
            "flex_flow": null,
            "grid_area": null,
            "grid_auto_columns": null,
            "grid_auto_flow": null,
            "grid_auto_rows": null,
            "grid_column": null,
            "grid_gap": null,
            "grid_row": null,
            "grid_template_areas": null,
            "grid_template_columns": null,
            "grid_template_rows": null,
            "height": null,
            "justify_content": null,
            "justify_items": null,
            "left": null,
            "margin": null,
            "max_height": null,
            "max_width": null,
            "min_height": null,
            "min_width": null,
            "object_fit": null,
            "object_position": null,
            "order": null,
            "overflow": null,
            "overflow_x": null,
            "overflow_y": null,
            "padding": null,
            "right": null,
            "top": null,
            "visibility": null,
            "width": null
          }
        },
        "61c2c9130af449bda711f068c0bec3b7": {
          "model_module": "@jupyter-widgets/base",
          "model_name": "LayoutModel",
          "model_module_version": "1.2.0",
          "state": {
            "_model_module": "@jupyter-widgets/base",
            "_model_module_version": "1.2.0",
            "_model_name": "LayoutModel",
            "_view_count": null,
            "_view_module": "@jupyter-widgets/base",
            "_view_module_version": "1.2.0",
            "_view_name": "LayoutView",
            "align_content": null,
            "align_items": null,
            "align_self": null,
            "border": null,
            "bottom": null,
            "display": null,
            "flex": null,
            "flex_flow": null,
            "grid_area": null,
            "grid_auto_columns": null,
            "grid_auto_flow": null,
            "grid_auto_rows": null,
            "grid_column": null,
            "grid_gap": null,
            "grid_row": null,
            "grid_template_areas": null,
            "grid_template_columns": null,
            "grid_template_rows": null,
            "height": null,
            "justify_content": null,
            "justify_items": null,
            "left": null,
            "margin": null,
            "max_height": null,
            "max_width": null,
            "min_height": null,
            "min_width": null,
            "object_fit": null,
            "object_position": null,
            "order": null,
            "overflow": null,
            "overflow_x": null,
            "overflow_y": null,
            "padding": null,
            "right": null,
            "top": null,
            "visibility": null,
            "width": null
          }
        },
        "67c85c2fb0f645ee8e616b93ff917402": {
          "model_module": "@jupyter-widgets/controls",
          "model_name": "DescriptionStyleModel",
          "model_module_version": "1.5.0",
          "state": {
            "_model_module": "@jupyter-widgets/controls",
            "_model_module_version": "1.5.0",
            "_model_name": "DescriptionStyleModel",
            "_view_count": null,
            "_view_module": "@jupyter-widgets/base",
            "_view_module_version": "1.2.0",
            "_view_name": "StyleView",
            "description_width": ""
          }
        },
        "97e38e6792c7404a94ed2390cf57efba": {
          "model_module": "@jupyter-widgets/base",
          "model_name": "LayoutModel",
          "model_module_version": "1.2.0",
          "state": {
            "_model_module": "@jupyter-widgets/base",
            "_model_module_version": "1.2.0",
            "_model_name": "LayoutModel",
            "_view_count": null,
            "_view_module": "@jupyter-widgets/base",
            "_view_module_version": "1.2.0",
            "_view_name": "LayoutView",
            "align_content": null,
            "align_items": null,
            "align_self": null,
            "border": null,
            "bottom": null,
            "display": null,
            "flex": null,
            "flex_flow": null,
            "grid_area": null,
            "grid_auto_columns": null,
            "grid_auto_flow": null,
            "grid_auto_rows": null,
            "grid_column": null,
            "grid_gap": null,
            "grid_row": null,
            "grid_template_areas": null,
            "grid_template_columns": null,
            "grid_template_rows": null,
            "height": null,
            "justify_content": null,
            "justify_items": null,
            "left": null,
            "margin": null,
            "max_height": null,
            "max_width": null,
            "min_height": null,
            "min_width": null,
            "object_fit": null,
            "object_position": null,
            "order": null,
            "overflow": null,
            "overflow_x": null,
            "overflow_y": null,
            "padding": null,
            "right": null,
            "top": null,
            "visibility": null,
            "width": null
          }
        },
        "1ac8d7f43d134f3683eff33cf264e3cc": {
          "model_module": "@jupyter-widgets/controls",
          "model_name": "ProgressStyleModel",
          "model_module_version": "1.5.0",
          "state": {
            "_model_module": "@jupyter-widgets/controls",
            "_model_module_version": "1.5.0",
            "_model_name": "ProgressStyleModel",
            "_view_count": null,
            "_view_module": "@jupyter-widgets/base",
            "_view_module_version": "1.2.0",
            "_view_name": "StyleView",
            "bar_color": null,
            "description_width": ""
          }
        },
        "ca1dad19424d485f9204c53a524a4bff": {
          "model_module": "@jupyter-widgets/base",
          "model_name": "LayoutModel",
          "model_module_version": "1.2.0",
          "state": {
            "_model_module": "@jupyter-widgets/base",
            "_model_module_version": "1.2.0",
            "_model_name": "LayoutModel",
            "_view_count": null,
            "_view_module": "@jupyter-widgets/base",
            "_view_module_version": "1.2.0",
            "_view_name": "LayoutView",
            "align_content": null,
            "align_items": null,
            "align_self": null,
            "border": null,
            "bottom": null,
            "display": null,
            "flex": null,
            "flex_flow": null,
            "grid_area": null,
            "grid_auto_columns": null,
            "grid_auto_flow": null,
            "grid_auto_rows": null,
            "grid_column": null,
            "grid_gap": null,
            "grid_row": null,
            "grid_template_areas": null,
            "grid_template_columns": null,
            "grid_template_rows": null,
            "height": null,
            "justify_content": null,
            "justify_items": null,
            "left": null,
            "margin": null,
            "max_height": null,
            "max_width": null,
            "min_height": null,
            "min_width": null,
            "object_fit": null,
            "object_position": null,
            "order": null,
            "overflow": null,
            "overflow_x": null,
            "overflow_y": null,
            "padding": null,
            "right": null,
            "top": null,
            "visibility": null,
            "width": null
          }
        },
        "2e55802773db4ab6be3bbf355d6c279a": {
          "model_module": "@jupyter-widgets/controls",
          "model_name": "DescriptionStyleModel",
          "model_module_version": "1.5.0",
          "state": {
            "_model_module": "@jupyter-widgets/controls",
            "_model_module_version": "1.5.0",
            "_model_name": "DescriptionStyleModel",
            "_view_count": null,
            "_view_module": "@jupyter-widgets/base",
            "_view_module_version": "1.2.0",
            "_view_name": "StyleView",
            "description_width": ""
          }
        },
        "b87d529670e84c40908fe5946e90206b": {
          "model_module": "@jupyter-widgets/controls",
          "model_name": "HBoxModel",
          "model_module_version": "1.5.0",
          "state": {
            "_dom_classes": [],
            "_model_module": "@jupyter-widgets/controls",
            "_model_module_version": "1.5.0",
            "_model_name": "HBoxModel",
            "_view_count": null,
            "_view_module": "@jupyter-widgets/controls",
            "_view_module_version": "1.5.0",
            "_view_name": "HBoxView",
            "box_style": "",
            "children": [
              "IPY_MODEL_fd83fcce3e174e05b1a80f4f6afb8a54",
              "IPY_MODEL_78987e7903584ddc85e46c7f5adb747d",
              "IPY_MODEL_d77b690ec1964a38b38890a2698544e5"
            ],
            "layout": "IPY_MODEL_3cf5e6b6a5024d0288abf85067557b34"
          }
        },
        "fd83fcce3e174e05b1a80f4f6afb8a54": {
          "model_module": "@jupyter-widgets/controls",
          "model_name": "HTMLModel",
          "model_module_version": "1.5.0",
          "state": {
            "_dom_classes": [],
            "_model_module": "@jupyter-widgets/controls",
            "_model_module_version": "1.5.0",
            "_model_name": "HTMLModel",
            "_view_count": null,
            "_view_module": "@jupyter-widgets/controls",
            "_view_module_version": "1.5.0",
            "_view_name": "HTMLView",
            "description": "",
            "description_tooltip": null,
            "layout": "IPY_MODEL_8eb19764c33f46c38ffec3f337988b33",
            "placeholder": "​",
            "style": "IPY_MODEL_67df63b854b84ed69482dc0ba6e0a7a7",
            "value": "Epoch 3:  46%"
          }
        },
        "78987e7903584ddc85e46c7f5adb747d": {
          "model_module": "@jupyter-widgets/controls",
          "model_name": "FloatProgressModel",
          "model_module_version": "1.5.0",
          "state": {
            "_dom_classes": [],
            "_model_module": "@jupyter-widgets/controls",
            "_model_module_version": "1.5.0",
            "_model_name": "FloatProgressModel",
            "_view_count": null,
            "_view_module": "@jupyter-widgets/controls",
            "_view_module_version": "1.5.0",
            "_view_name": "ProgressView",
            "bar_style": "",
            "description": "",
            "description_tooltip": null,
            "layout": "IPY_MODEL_b61f86ee8c994fb3985f97be144ce990",
            "max": 999,
            "min": 0,
            "orientation": "horizontal",
            "style": "IPY_MODEL_298f7854cc254aeb9ae5dd0236326d9c",
            "value": 463
          }
        },
        "d77b690ec1964a38b38890a2698544e5": {
          "model_module": "@jupyter-widgets/controls",
          "model_name": "HTMLModel",
          "model_module_version": "1.5.0",
          "state": {
            "_dom_classes": [],
            "_model_module": "@jupyter-widgets/controls",
            "_model_module_version": "1.5.0",
            "_model_name": "HTMLModel",
            "_view_count": null,
            "_view_module": "@jupyter-widgets/controls",
            "_view_module_version": "1.5.0",
            "_view_name": "HTMLView",
            "description": "",
            "description_tooltip": null,
            "layout": "IPY_MODEL_2b35ffecd9354011a3eaa98360197476",
            "placeholder": "​",
            "style": "IPY_MODEL_d86fbc92b34146abb6d9bd227e11dde7",
            "value": " 463/999 [00:42&lt;00:41, 12.90it/s]"
          }
        },
        "3cf5e6b6a5024d0288abf85067557b34": {
          "model_module": "@jupyter-widgets/base",
          "model_name": "LayoutModel",
          "model_module_version": "1.2.0",
          "state": {
            "_model_module": "@jupyter-widgets/base",
            "_model_module_version": "1.2.0",
            "_model_name": "LayoutModel",
            "_view_count": null,
            "_view_module": "@jupyter-widgets/base",
            "_view_module_version": "1.2.0",
            "_view_name": "LayoutView",
            "align_content": null,
            "align_items": null,
            "align_self": null,
            "border": null,
            "bottom": null,
            "display": null,
            "flex": null,
            "flex_flow": null,
            "grid_area": null,
            "grid_auto_columns": null,
            "grid_auto_flow": null,
            "grid_auto_rows": null,
            "grid_column": null,
            "grid_gap": null,
            "grid_row": null,
            "grid_template_areas": null,
            "grid_template_columns": null,
            "grid_template_rows": null,
            "height": null,
            "justify_content": null,
            "justify_items": null,
            "left": null,
            "margin": null,
            "max_height": null,
            "max_width": null,
            "min_height": null,
            "min_width": null,
            "object_fit": null,
            "object_position": null,
            "order": null,
            "overflow": null,
            "overflow_x": null,
            "overflow_y": null,
            "padding": null,
            "right": null,
            "top": null,
            "visibility": null,
            "width": null
          }
        },
        "8eb19764c33f46c38ffec3f337988b33": {
          "model_module": "@jupyter-widgets/base",
          "model_name": "LayoutModel",
          "model_module_version": "1.2.0",
          "state": {
            "_model_module": "@jupyter-widgets/base",
            "_model_module_version": "1.2.0",
            "_model_name": "LayoutModel",
            "_view_count": null,
            "_view_module": "@jupyter-widgets/base",
            "_view_module_version": "1.2.0",
            "_view_name": "LayoutView",
            "align_content": null,
            "align_items": null,
            "align_self": null,
            "border": null,
            "bottom": null,
            "display": null,
            "flex": null,
            "flex_flow": null,
            "grid_area": null,
            "grid_auto_columns": null,
            "grid_auto_flow": null,
            "grid_auto_rows": null,
            "grid_column": null,
            "grid_gap": null,
            "grid_row": null,
            "grid_template_areas": null,
            "grid_template_columns": null,
            "grid_template_rows": null,
            "height": null,
            "justify_content": null,
            "justify_items": null,
            "left": null,
            "margin": null,
            "max_height": null,
            "max_width": null,
            "min_height": null,
            "min_width": null,
            "object_fit": null,
            "object_position": null,
            "order": null,
            "overflow": null,
            "overflow_x": null,
            "overflow_y": null,
            "padding": null,
            "right": null,
            "top": null,
            "visibility": null,
            "width": null
          }
        },
        "67df63b854b84ed69482dc0ba6e0a7a7": {
          "model_module": "@jupyter-widgets/controls",
          "model_name": "DescriptionStyleModel",
          "model_module_version": "1.5.0",
          "state": {
            "_model_module": "@jupyter-widgets/controls",
            "_model_module_version": "1.5.0",
            "_model_name": "DescriptionStyleModel",
            "_view_count": null,
            "_view_module": "@jupyter-widgets/base",
            "_view_module_version": "1.2.0",
            "_view_name": "StyleView",
            "description_width": ""
          }
        },
        "b61f86ee8c994fb3985f97be144ce990": {
          "model_module": "@jupyter-widgets/base",
          "model_name": "LayoutModel",
          "model_module_version": "1.2.0",
          "state": {
            "_model_module": "@jupyter-widgets/base",
            "_model_module_version": "1.2.0",
            "_model_name": "LayoutModel",
            "_view_count": null,
            "_view_module": "@jupyter-widgets/base",
            "_view_module_version": "1.2.0",
            "_view_name": "LayoutView",
            "align_content": null,
            "align_items": null,
            "align_self": null,
            "border": null,
            "bottom": null,
            "display": null,
            "flex": null,
            "flex_flow": null,
            "grid_area": null,
            "grid_auto_columns": null,
            "grid_auto_flow": null,
            "grid_auto_rows": null,
            "grid_column": null,
            "grid_gap": null,
            "grid_row": null,
            "grid_template_areas": null,
            "grid_template_columns": null,
            "grid_template_rows": null,
            "height": null,
            "justify_content": null,
            "justify_items": null,
            "left": null,
            "margin": null,
            "max_height": null,
            "max_width": null,
            "min_height": null,
            "min_width": null,
            "object_fit": null,
            "object_position": null,
            "order": null,
            "overflow": null,
            "overflow_x": null,
            "overflow_y": null,
            "padding": null,
            "right": null,
            "top": null,
            "visibility": null,
            "width": null
          }
        },
        "298f7854cc254aeb9ae5dd0236326d9c": {
          "model_module": "@jupyter-widgets/controls",
          "model_name": "ProgressStyleModel",
          "model_module_version": "1.5.0",
          "state": {
            "_model_module": "@jupyter-widgets/controls",
            "_model_module_version": "1.5.0",
            "_model_name": "ProgressStyleModel",
            "_view_count": null,
            "_view_module": "@jupyter-widgets/base",
            "_view_module_version": "1.2.0",
            "_view_name": "StyleView",
            "bar_color": null,
            "description_width": ""
          }
        },
        "2b35ffecd9354011a3eaa98360197476": {
          "model_module": "@jupyter-widgets/base",
          "model_name": "LayoutModel",
          "model_module_version": "1.2.0",
          "state": {
            "_model_module": "@jupyter-widgets/base",
            "_model_module_version": "1.2.0",
            "_model_name": "LayoutModel",
            "_view_count": null,
            "_view_module": "@jupyter-widgets/base",
            "_view_module_version": "1.2.0",
            "_view_name": "LayoutView",
            "align_content": null,
            "align_items": null,
            "align_self": null,
            "border": null,
            "bottom": null,
            "display": null,
            "flex": null,
            "flex_flow": null,
            "grid_area": null,
            "grid_auto_columns": null,
            "grid_auto_flow": null,
            "grid_auto_rows": null,
            "grid_column": null,
            "grid_gap": null,
            "grid_row": null,
            "grid_template_areas": null,
            "grid_template_columns": null,
            "grid_template_rows": null,
            "height": null,
            "justify_content": null,
            "justify_items": null,
            "left": null,
            "margin": null,
            "max_height": null,
            "max_width": null,
            "min_height": null,
            "min_width": null,
            "object_fit": null,
            "object_position": null,
            "order": null,
            "overflow": null,
            "overflow_x": null,
            "overflow_y": null,
            "padding": null,
            "right": null,
            "top": null,
            "visibility": null,
            "width": null
          }
        },
        "d86fbc92b34146abb6d9bd227e11dde7": {
          "model_module": "@jupyter-widgets/controls",
          "model_name": "DescriptionStyleModel",
          "model_module_version": "1.5.0",
          "state": {
            "_model_module": "@jupyter-widgets/controls",
            "_model_module_version": "1.5.0",
            "_model_name": "DescriptionStyleModel",
            "_view_count": null,
            "_view_module": "@jupyter-widgets/base",
            "_view_module_version": "1.2.0",
            "_view_name": "StyleView",
            "description_width": ""
          }
        },
        "e956b4dddab24c378baa4fdf60ab6d4f": {
          "model_module": "@jupyter-widgets/controls",
          "model_name": "HBoxModel",
          "model_module_version": "1.5.0",
          "state": {
            "_dom_classes": [],
            "_model_module": "@jupyter-widgets/controls",
            "_model_module_version": "1.5.0",
            "_model_name": "HBoxModel",
            "_view_count": null,
            "_view_module": "@jupyter-widgets/controls",
            "_view_module_version": "1.5.0",
            "_view_name": "HBoxView",
            "box_style": "",
            "children": [
              "IPY_MODEL_72d9a3207d9948999c63b4ab3b7433ae",
              "IPY_MODEL_79afd61e5536435f8e6a217312a3f33e",
              "IPY_MODEL_e8ed0572dff64caa8f2b3f196644bf22"
            ],
            "layout": "IPY_MODEL_fe39df09316f4b399882be7c12df3d15"
          }
        },
        "72d9a3207d9948999c63b4ab3b7433ae": {
          "model_module": "@jupyter-widgets/controls",
          "model_name": "HTMLModel",
          "model_module_version": "1.5.0",
          "state": {
            "_dom_classes": [],
            "_model_module": "@jupyter-widgets/controls",
            "_model_module_version": "1.5.0",
            "_model_name": "HTMLModel",
            "_view_count": null,
            "_view_module": "@jupyter-widgets/controls",
            "_view_module_version": "1.5.0",
            "_view_name": "HTMLView",
            "description": "",
            "description_tooltip": null,
            "layout": "IPY_MODEL_59576ed259db4bd9882f01b49a98a7b1",
            "placeholder": "​",
            "style": "IPY_MODEL_eafecec09b9a497d93ad5f89f9dc1fc5",
            "value": "Epoch 6: 100%"
          }
        },
        "79afd61e5536435f8e6a217312a3f33e": {
          "model_module": "@jupyter-widgets/controls",
          "model_name": "FloatProgressModel",
          "model_module_version": "1.5.0",
          "state": {
            "_dom_classes": [],
            "_model_module": "@jupyter-widgets/controls",
            "_model_module_version": "1.5.0",
            "_model_name": "FloatProgressModel",
            "_view_count": null,
            "_view_module": "@jupyter-widgets/controls",
            "_view_module_version": "1.5.0",
            "_view_name": "ProgressView",
            "bar_style": "success",
            "description": "",
            "description_tooltip": null,
            "layout": "IPY_MODEL_68c9790193fa45ef999f0393655448bc",
            "max": 999,
            "min": 0,
            "orientation": "horizontal",
            "style": "IPY_MODEL_b558f71f6c1248719035b0e054ab7af4",
            "value": 999
          }
        },
        "e8ed0572dff64caa8f2b3f196644bf22": {
          "model_module": "@jupyter-widgets/controls",
          "model_name": "HTMLModel",
          "model_module_version": "1.5.0",
          "state": {
            "_dom_classes": [],
            "_model_module": "@jupyter-widgets/controls",
            "_model_module_version": "1.5.0",
            "_model_name": "HTMLModel",
            "_view_count": null,
            "_view_module": "@jupyter-widgets/controls",
            "_view_module_version": "1.5.0",
            "_view_name": "HTMLView",
            "description": "",
            "description_tooltip": null,
            "layout": "IPY_MODEL_d890f20f48504929980b5579ded7833a",
            "placeholder": "​",
            "style": "IPY_MODEL_0869a10c09024cfda69b5a9cc982e45b",
            "value": " 999/999 [01:24&lt;00:00, 12.97it/s]"
          }
        },
        "fe39df09316f4b399882be7c12df3d15": {
          "model_module": "@jupyter-widgets/base",
          "model_name": "LayoutModel",
          "model_module_version": "1.2.0",
          "state": {
            "_model_module": "@jupyter-widgets/base",
            "_model_module_version": "1.2.0",
            "_model_name": "LayoutModel",
            "_view_count": null,
            "_view_module": "@jupyter-widgets/base",
            "_view_module_version": "1.2.0",
            "_view_name": "LayoutView",
            "align_content": null,
            "align_items": null,
            "align_self": null,
            "border": null,
            "bottom": null,
            "display": null,
            "flex": null,
            "flex_flow": null,
            "grid_area": null,
            "grid_auto_columns": null,
            "grid_auto_flow": null,
            "grid_auto_rows": null,
            "grid_column": null,
            "grid_gap": null,
            "grid_row": null,
            "grid_template_areas": null,
            "grid_template_columns": null,
            "grid_template_rows": null,
            "height": null,
            "justify_content": null,
            "justify_items": null,
            "left": null,
            "margin": null,
            "max_height": null,
            "max_width": null,
            "min_height": null,
            "min_width": null,
            "object_fit": null,
            "object_position": null,
            "order": null,
            "overflow": null,
            "overflow_x": null,
            "overflow_y": null,
            "padding": null,
            "right": null,
            "top": null,
            "visibility": null,
            "width": null
          }
        },
        "59576ed259db4bd9882f01b49a98a7b1": {
          "model_module": "@jupyter-widgets/base",
          "model_name": "LayoutModel",
          "model_module_version": "1.2.0",
          "state": {
            "_model_module": "@jupyter-widgets/base",
            "_model_module_version": "1.2.0",
            "_model_name": "LayoutModel",
            "_view_count": null,
            "_view_module": "@jupyter-widgets/base",
            "_view_module_version": "1.2.0",
            "_view_name": "LayoutView",
            "align_content": null,
            "align_items": null,
            "align_self": null,
            "border": null,
            "bottom": null,
            "display": null,
            "flex": null,
            "flex_flow": null,
            "grid_area": null,
            "grid_auto_columns": null,
            "grid_auto_flow": null,
            "grid_auto_rows": null,
            "grid_column": null,
            "grid_gap": null,
            "grid_row": null,
            "grid_template_areas": null,
            "grid_template_columns": null,
            "grid_template_rows": null,
            "height": null,
            "justify_content": null,
            "justify_items": null,
            "left": null,
            "margin": null,
            "max_height": null,
            "max_width": null,
            "min_height": null,
            "min_width": null,
            "object_fit": null,
            "object_position": null,
            "order": null,
            "overflow": null,
            "overflow_x": null,
            "overflow_y": null,
            "padding": null,
            "right": null,
            "top": null,
            "visibility": null,
            "width": null
          }
        },
        "eafecec09b9a497d93ad5f89f9dc1fc5": {
          "model_module": "@jupyter-widgets/controls",
          "model_name": "DescriptionStyleModel",
          "model_module_version": "1.5.0",
          "state": {
            "_model_module": "@jupyter-widgets/controls",
            "_model_module_version": "1.5.0",
            "_model_name": "DescriptionStyleModel",
            "_view_count": null,
            "_view_module": "@jupyter-widgets/base",
            "_view_module_version": "1.2.0",
            "_view_name": "StyleView",
            "description_width": ""
          }
        },
        "68c9790193fa45ef999f0393655448bc": {
          "model_module": "@jupyter-widgets/base",
          "model_name": "LayoutModel",
          "model_module_version": "1.2.0",
          "state": {
            "_model_module": "@jupyter-widgets/base",
            "_model_module_version": "1.2.0",
            "_model_name": "LayoutModel",
            "_view_count": null,
            "_view_module": "@jupyter-widgets/base",
            "_view_module_version": "1.2.0",
            "_view_name": "LayoutView",
            "align_content": null,
            "align_items": null,
            "align_self": null,
            "border": null,
            "bottom": null,
            "display": null,
            "flex": null,
            "flex_flow": null,
            "grid_area": null,
            "grid_auto_columns": null,
            "grid_auto_flow": null,
            "grid_auto_rows": null,
            "grid_column": null,
            "grid_gap": null,
            "grid_row": null,
            "grid_template_areas": null,
            "grid_template_columns": null,
            "grid_template_rows": null,
            "height": null,
            "justify_content": null,
            "justify_items": null,
            "left": null,
            "margin": null,
            "max_height": null,
            "max_width": null,
            "min_height": null,
            "min_width": null,
            "object_fit": null,
            "object_position": null,
            "order": null,
            "overflow": null,
            "overflow_x": null,
            "overflow_y": null,
            "padding": null,
            "right": null,
            "top": null,
            "visibility": null,
            "width": null
          }
        },
        "b558f71f6c1248719035b0e054ab7af4": {
          "model_module": "@jupyter-widgets/controls",
          "model_name": "ProgressStyleModel",
          "model_module_version": "1.5.0",
          "state": {
            "_model_module": "@jupyter-widgets/controls",
            "_model_module_version": "1.5.0",
            "_model_name": "ProgressStyleModel",
            "_view_count": null,
            "_view_module": "@jupyter-widgets/base",
            "_view_module_version": "1.2.0",
            "_view_name": "StyleView",
            "bar_color": null,
            "description_width": ""
          }
        },
        "d890f20f48504929980b5579ded7833a": {
          "model_module": "@jupyter-widgets/base",
          "model_name": "LayoutModel",
          "model_module_version": "1.2.0",
          "state": {
            "_model_module": "@jupyter-widgets/base",
            "_model_module_version": "1.2.0",
            "_model_name": "LayoutModel",
            "_view_count": null,
            "_view_module": "@jupyter-widgets/base",
            "_view_module_version": "1.2.0",
            "_view_name": "LayoutView",
            "align_content": null,
            "align_items": null,
            "align_self": null,
            "border": null,
            "bottom": null,
            "display": null,
            "flex": null,
            "flex_flow": null,
            "grid_area": null,
            "grid_auto_columns": null,
            "grid_auto_flow": null,
            "grid_auto_rows": null,
            "grid_column": null,
            "grid_gap": null,
            "grid_row": null,
            "grid_template_areas": null,
            "grid_template_columns": null,
            "grid_template_rows": null,
            "height": null,
            "justify_content": null,
            "justify_items": null,
            "left": null,
            "margin": null,
            "max_height": null,
            "max_width": null,
            "min_height": null,
            "min_width": null,
            "object_fit": null,
            "object_position": null,
            "order": null,
            "overflow": null,
            "overflow_x": null,
            "overflow_y": null,
            "padding": null,
            "right": null,
            "top": null,
            "visibility": null,
            "width": null
          }
        },
        "0869a10c09024cfda69b5a9cc982e45b": {
          "model_module": "@jupyter-widgets/controls",
          "model_name": "DescriptionStyleModel",
          "model_module_version": "1.5.0",
          "state": {
            "_model_module": "@jupyter-widgets/controls",
            "_model_module_version": "1.5.0",
            "_model_name": "DescriptionStyleModel",
            "_view_count": null,
            "_view_module": "@jupyter-widgets/base",
            "_view_module_version": "1.2.0",
            "_view_name": "StyleView",
            "description_width": ""
          }
        },
        "0d9c8b7d762740ccbbffc50e6a542ed6": {
          "model_module": "@jupyter-widgets/controls",
          "model_name": "HBoxModel",
          "model_module_version": "1.5.0",
          "state": {
            "_dom_classes": [],
            "_model_module": "@jupyter-widgets/controls",
            "_model_module_version": "1.5.0",
            "_model_name": "HBoxModel",
            "_view_count": null,
            "_view_module": "@jupyter-widgets/controls",
            "_view_module_version": "1.5.0",
            "_view_name": "HBoxView",
            "box_style": "",
            "children": [
              "IPY_MODEL_ed12bc9a20954869b47dde0bdd470f8b",
              "IPY_MODEL_78f93d953a924fcc904e9a2bdafe70fb",
              "IPY_MODEL_16ff3a970d164e08b91800b13c9bb01a"
            ],
            "layout": "IPY_MODEL_9ac0cf14e829452792900c5b89aa97cd"
          }
        },
        "ed12bc9a20954869b47dde0bdd470f8b": {
          "model_module": "@jupyter-widgets/controls",
          "model_name": "HTMLModel",
          "model_module_version": "1.5.0",
          "state": {
            "_dom_classes": [],
            "_model_module": "@jupyter-widgets/controls",
            "_model_module_version": "1.5.0",
            "_model_name": "HTMLModel",
            "_view_count": null,
            "_view_module": "@jupyter-widgets/controls",
            "_view_module_version": "1.5.0",
            "_view_name": "HTMLView",
            "description": "",
            "description_tooltip": null,
            "layout": "IPY_MODEL_c8828ef965004cc8873d711ab4c8a429",
            "placeholder": "​",
            "style": "IPY_MODEL_8a05e45aa08a4dacbf02a5887d43e45d",
            "value": "Epoch 7: 100%"
          }
        },
        "78f93d953a924fcc904e9a2bdafe70fb": {
          "model_module": "@jupyter-widgets/controls",
          "model_name": "FloatProgressModel",
          "model_module_version": "1.5.0",
          "state": {
            "_dom_classes": [],
            "_model_module": "@jupyter-widgets/controls",
            "_model_module_version": "1.5.0",
            "_model_name": "FloatProgressModel",
            "_view_count": null,
            "_view_module": "@jupyter-widgets/controls",
            "_view_module_version": "1.5.0",
            "_view_name": "ProgressView",
            "bar_style": "success",
            "description": "",
            "description_tooltip": null,
            "layout": "IPY_MODEL_d114cdee143247128f8553a676b408fa",
            "max": 999,
            "min": 0,
            "orientation": "horizontal",
            "style": "IPY_MODEL_b0856097c9a449b6a5293c2d966d039e",
            "value": 999
          }
        },
        "16ff3a970d164e08b91800b13c9bb01a": {
          "model_module": "@jupyter-widgets/controls",
          "model_name": "HTMLModel",
          "model_module_version": "1.5.0",
          "state": {
            "_dom_classes": [],
            "_model_module": "@jupyter-widgets/controls",
            "_model_module_version": "1.5.0",
            "_model_name": "HTMLModel",
            "_view_count": null,
            "_view_module": "@jupyter-widgets/controls",
            "_view_module_version": "1.5.0",
            "_view_name": "HTMLView",
            "description": "",
            "description_tooltip": null,
            "layout": "IPY_MODEL_473546298bf2479f963e3a224603a4c3",
            "placeholder": "​",
            "style": "IPY_MODEL_6b6cec55850a41a7aab8935b7ed10fec",
            "value": " 999/999 [01:24&lt;00:00, 13.13it/s]"
          }
        },
        "9ac0cf14e829452792900c5b89aa97cd": {
          "model_module": "@jupyter-widgets/base",
          "model_name": "LayoutModel",
          "model_module_version": "1.2.0",
          "state": {
            "_model_module": "@jupyter-widgets/base",
            "_model_module_version": "1.2.0",
            "_model_name": "LayoutModel",
            "_view_count": null,
            "_view_module": "@jupyter-widgets/base",
            "_view_module_version": "1.2.0",
            "_view_name": "LayoutView",
            "align_content": null,
            "align_items": null,
            "align_self": null,
            "border": null,
            "bottom": null,
            "display": null,
            "flex": null,
            "flex_flow": null,
            "grid_area": null,
            "grid_auto_columns": null,
            "grid_auto_flow": null,
            "grid_auto_rows": null,
            "grid_column": null,
            "grid_gap": null,
            "grid_row": null,
            "grid_template_areas": null,
            "grid_template_columns": null,
            "grid_template_rows": null,
            "height": null,
            "justify_content": null,
            "justify_items": null,
            "left": null,
            "margin": null,
            "max_height": null,
            "max_width": null,
            "min_height": null,
            "min_width": null,
            "object_fit": null,
            "object_position": null,
            "order": null,
            "overflow": null,
            "overflow_x": null,
            "overflow_y": null,
            "padding": null,
            "right": null,
            "top": null,
            "visibility": null,
            "width": null
          }
        },
        "c8828ef965004cc8873d711ab4c8a429": {
          "model_module": "@jupyter-widgets/base",
          "model_name": "LayoutModel",
          "model_module_version": "1.2.0",
          "state": {
            "_model_module": "@jupyter-widgets/base",
            "_model_module_version": "1.2.0",
            "_model_name": "LayoutModel",
            "_view_count": null,
            "_view_module": "@jupyter-widgets/base",
            "_view_module_version": "1.2.0",
            "_view_name": "LayoutView",
            "align_content": null,
            "align_items": null,
            "align_self": null,
            "border": null,
            "bottom": null,
            "display": null,
            "flex": null,
            "flex_flow": null,
            "grid_area": null,
            "grid_auto_columns": null,
            "grid_auto_flow": null,
            "grid_auto_rows": null,
            "grid_column": null,
            "grid_gap": null,
            "grid_row": null,
            "grid_template_areas": null,
            "grid_template_columns": null,
            "grid_template_rows": null,
            "height": null,
            "justify_content": null,
            "justify_items": null,
            "left": null,
            "margin": null,
            "max_height": null,
            "max_width": null,
            "min_height": null,
            "min_width": null,
            "object_fit": null,
            "object_position": null,
            "order": null,
            "overflow": null,
            "overflow_x": null,
            "overflow_y": null,
            "padding": null,
            "right": null,
            "top": null,
            "visibility": null,
            "width": null
          }
        },
        "8a05e45aa08a4dacbf02a5887d43e45d": {
          "model_module": "@jupyter-widgets/controls",
          "model_name": "DescriptionStyleModel",
          "model_module_version": "1.5.0",
          "state": {
            "_model_module": "@jupyter-widgets/controls",
            "_model_module_version": "1.5.0",
            "_model_name": "DescriptionStyleModel",
            "_view_count": null,
            "_view_module": "@jupyter-widgets/base",
            "_view_module_version": "1.2.0",
            "_view_name": "StyleView",
            "description_width": ""
          }
        },
        "d114cdee143247128f8553a676b408fa": {
          "model_module": "@jupyter-widgets/base",
          "model_name": "LayoutModel",
          "model_module_version": "1.2.0",
          "state": {
            "_model_module": "@jupyter-widgets/base",
            "_model_module_version": "1.2.0",
            "_model_name": "LayoutModel",
            "_view_count": null,
            "_view_module": "@jupyter-widgets/base",
            "_view_module_version": "1.2.0",
            "_view_name": "LayoutView",
            "align_content": null,
            "align_items": null,
            "align_self": null,
            "border": null,
            "bottom": null,
            "display": null,
            "flex": null,
            "flex_flow": null,
            "grid_area": null,
            "grid_auto_columns": null,
            "grid_auto_flow": null,
            "grid_auto_rows": null,
            "grid_column": null,
            "grid_gap": null,
            "grid_row": null,
            "grid_template_areas": null,
            "grid_template_columns": null,
            "grid_template_rows": null,
            "height": null,
            "justify_content": null,
            "justify_items": null,
            "left": null,
            "margin": null,
            "max_height": null,
            "max_width": null,
            "min_height": null,
            "min_width": null,
            "object_fit": null,
            "object_position": null,
            "order": null,
            "overflow": null,
            "overflow_x": null,
            "overflow_y": null,
            "padding": null,
            "right": null,
            "top": null,
            "visibility": null,
            "width": null
          }
        },
        "b0856097c9a449b6a5293c2d966d039e": {
          "model_module": "@jupyter-widgets/controls",
          "model_name": "ProgressStyleModel",
          "model_module_version": "1.5.0",
          "state": {
            "_model_module": "@jupyter-widgets/controls",
            "_model_module_version": "1.5.0",
            "_model_name": "ProgressStyleModel",
            "_view_count": null,
            "_view_module": "@jupyter-widgets/base",
            "_view_module_version": "1.2.0",
            "_view_name": "StyleView",
            "bar_color": null,
            "description_width": ""
          }
        },
        "473546298bf2479f963e3a224603a4c3": {
          "model_module": "@jupyter-widgets/base",
          "model_name": "LayoutModel",
          "model_module_version": "1.2.0",
          "state": {
            "_model_module": "@jupyter-widgets/base",
            "_model_module_version": "1.2.0",
            "_model_name": "LayoutModel",
            "_view_count": null,
            "_view_module": "@jupyter-widgets/base",
            "_view_module_version": "1.2.0",
            "_view_name": "LayoutView",
            "align_content": null,
            "align_items": null,
            "align_self": null,
            "border": null,
            "bottom": null,
            "display": null,
            "flex": null,
            "flex_flow": null,
            "grid_area": null,
            "grid_auto_columns": null,
            "grid_auto_flow": null,
            "grid_auto_rows": null,
            "grid_column": null,
            "grid_gap": null,
            "grid_row": null,
            "grid_template_areas": null,
            "grid_template_columns": null,
            "grid_template_rows": null,
            "height": null,
            "justify_content": null,
            "justify_items": null,
            "left": null,
            "margin": null,
            "max_height": null,
            "max_width": null,
            "min_height": null,
            "min_width": null,
            "object_fit": null,
            "object_position": null,
            "order": null,
            "overflow": null,
            "overflow_x": null,
            "overflow_y": null,
            "padding": null,
            "right": null,
            "top": null,
            "visibility": null,
            "width": null
          }
        },
        "6b6cec55850a41a7aab8935b7ed10fec": {
          "model_module": "@jupyter-widgets/controls",
          "model_name": "DescriptionStyleModel",
          "model_module_version": "1.5.0",
          "state": {
            "_model_module": "@jupyter-widgets/controls",
            "_model_module_version": "1.5.0",
            "_model_name": "DescriptionStyleModel",
            "_view_count": null,
            "_view_module": "@jupyter-widgets/base",
            "_view_module_version": "1.2.0",
            "_view_name": "StyleView",
            "description_width": ""
          }
        },
        "5a41620c7fca4038a7681ad146799e06": {
          "model_module": "@jupyter-widgets/controls",
          "model_name": "HBoxModel",
          "model_module_version": "1.5.0",
          "state": {
            "_dom_classes": [],
            "_model_module": "@jupyter-widgets/controls",
            "_model_module_version": "1.5.0",
            "_model_name": "HBoxModel",
            "_view_count": null,
            "_view_module": "@jupyter-widgets/controls",
            "_view_module_version": "1.5.0",
            "_view_name": "HBoxView",
            "box_style": "",
            "children": [
              "IPY_MODEL_d274ba27391c494a827505d3b4d9f1b4",
              "IPY_MODEL_7d37e8588e244e5b9c7a83ba809e79a9",
              "IPY_MODEL_f9b9ea46e9324b18afcafd9ab8aa2df4"
            ],
            "layout": "IPY_MODEL_05bd52953f1d46279e4b895f73d79f03"
          }
        },
        "d274ba27391c494a827505d3b4d9f1b4": {
          "model_module": "@jupyter-widgets/controls",
          "model_name": "HTMLModel",
          "model_module_version": "1.5.0",
          "state": {
            "_dom_classes": [],
            "_model_module": "@jupyter-widgets/controls",
            "_model_module_version": "1.5.0",
            "_model_name": "HTMLModel",
            "_view_count": null,
            "_view_module": "@jupyter-widgets/controls",
            "_view_module_version": "1.5.0",
            "_view_name": "HTMLView",
            "description": "",
            "description_tooltip": null,
            "layout": "IPY_MODEL_3d133fed507646318d3612f815eccba3",
            "placeholder": "​",
            "style": "IPY_MODEL_630d73360c964bc895cd80a0c93d6d03",
            "value": "Epoch 8: 100%"
          }
        },
        "7d37e8588e244e5b9c7a83ba809e79a9": {
          "model_module": "@jupyter-widgets/controls",
          "model_name": "FloatProgressModel",
          "model_module_version": "1.5.0",
          "state": {
            "_dom_classes": [],
            "_model_module": "@jupyter-widgets/controls",
            "_model_module_version": "1.5.0",
            "_model_name": "FloatProgressModel",
            "_view_count": null,
            "_view_module": "@jupyter-widgets/controls",
            "_view_module_version": "1.5.0",
            "_view_name": "ProgressView",
            "bar_style": "success",
            "description": "",
            "description_tooltip": null,
            "layout": "IPY_MODEL_8973552b9f254e8db050b73b9601fff8",
            "max": 999,
            "min": 0,
            "orientation": "horizontal",
            "style": "IPY_MODEL_30ed632befe14fe0accb3c80f9768da6",
            "value": 999
          }
        },
        "f9b9ea46e9324b18afcafd9ab8aa2df4": {
          "model_module": "@jupyter-widgets/controls",
          "model_name": "HTMLModel",
          "model_module_version": "1.5.0",
          "state": {
            "_dom_classes": [],
            "_model_module": "@jupyter-widgets/controls",
            "_model_module_version": "1.5.0",
            "_model_name": "HTMLModel",
            "_view_count": null,
            "_view_module": "@jupyter-widgets/controls",
            "_view_module_version": "1.5.0",
            "_view_name": "HTMLView",
            "description": "",
            "description_tooltip": null,
            "layout": "IPY_MODEL_41df6c5689984b75b2d4e608f4f1fed2",
            "placeholder": "​",
            "style": "IPY_MODEL_fcd2a29b28df49bc9a48f3d47aee2d43",
            "value": " 999/999 [01:24&lt;00:00, 13.01it/s]"
          }
        },
        "05bd52953f1d46279e4b895f73d79f03": {
          "model_module": "@jupyter-widgets/base",
          "model_name": "LayoutModel",
          "model_module_version": "1.2.0",
          "state": {
            "_model_module": "@jupyter-widgets/base",
            "_model_module_version": "1.2.0",
            "_model_name": "LayoutModel",
            "_view_count": null,
            "_view_module": "@jupyter-widgets/base",
            "_view_module_version": "1.2.0",
            "_view_name": "LayoutView",
            "align_content": null,
            "align_items": null,
            "align_self": null,
            "border": null,
            "bottom": null,
            "display": null,
            "flex": null,
            "flex_flow": null,
            "grid_area": null,
            "grid_auto_columns": null,
            "grid_auto_flow": null,
            "grid_auto_rows": null,
            "grid_column": null,
            "grid_gap": null,
            "grid_row": null,
            "grid_template_areas": null,
            "grid_template_columns": null,
            "grid_template_rows": null,
            "height": null,
            "justify_content": null,
            "justify_items": null,
            "left": null,
            "margin": null,
            "max_height": null,
            "max_width": null,
            "min_height": null,
            "min_width": null,
            "object_fit": null,
            "object_position": null,
            "order": null,
            "overflow": null,
            "overflow_x": null,
            "overflow_y": null,
            "padding": null,
            "right": null,
            "top": null,
            "visibility": null,
            "width": null
          }
        },
        "3d133fed507646318d3612f815eccba3": {
          "model_module": "@jupyter-widgets/base",
          "model_name": "LayoutModel",
          "model_module_version": "1.2.0",
          "state": {
            "_model_module": "@jupyter-widgets/base",
            "_model_module_version": "1.2.0",
            "_model_name": "LayoutModel",
            "_view_count": null,
            "_view_module": "@jupyter-widgets/base",
            "_view_module_version": "1.2.0",
            "_view_name": "LayoutView",
            "align_content": null,
            "align_items": null,
            "align_self": null,
            "border": null,
            "bottom": null,
            "display": null,
            "flex": null,
            "flex_flow": null,
            "grid_area": null,
            "grid_auto_columns": null,
            "grid_auto_flow": null,
            "grid_auto_rows": null,
            "grid_column": null,
            "grid_gap": null,
            "grid_row": null,
            "grid_template_areas": null,
            "grid_template_columns": null,
            "grid_template_rows": null,
            "height": null,
            "justify_content": null,
            "justify_items": null,
            "left": null,
            "margin": null,
            "max_height": null,
            "max_width": null,
            "min_height": null,
            "min_width": null,
            "object_fit": null,
            "object_position": null,
            "order": null,
            "overflow": null,
            "overflow_x": null,
            "overflow_y": null,
            "padding": null,
            "right": null,
            "top": null,
            "visibility": null,
            "width": null
          }
        },
        "630d73360c964bc895cd80a0c93d6d03": {
          "model_module": "@jupyter-widgets/controls",
          "model_name": "DescriptionStyleModel",
          "model_module_version": "1.5.0",
          "state": {
            "_model_module": "@jupyter-widgets/controls",
            "_model_module_version": "1.5.0",
            "_model_name": "DescriptionStyleModel",
            "_view_count": null,
            "_view_module": "@jupyter-widgets/base",
            "_view_module_version": "1.2.0",
            "_view_name": "StyleView",
            "description_width": ""
          }
        },
        "8973552b9f254e8db050b73b9601fff8": {
          "model_module": "@jupyter-widgets/base",
          "model_name": "LayoutModel",
          "model_module_version": "1.2.0",
          "state": {
            "_model_module": "@jupyter-widgets/base",
            "_model_module_version": "1.2.0",
            "_model_name": "LayoutModel",
            "_view_count": null,
            "_view_module": "@jupyter-widgets/base",
            "_view_module_version": "1.2.0",
            "_view_name": "LayoutView",
            "align_content": null,
            "align_items": null,
            "align_self": null,
            "border": null,
            "bottom": null,
            "display": null,
            "flex": null,
            "flex_flow": null,
            "grid_area": null,
            "grid_auto_columns": null,
            "grid_auto_flow": null,
            "grid_auto_rows": null,
            "grid_column": null,
            "grid_gap": null,
            "grid_row": null,
            "grid_template_areas": null,
            "grid_template_columns": null,
            "grid_template_rows": null,
            "height": null,
            "justify_content": null,
            "justify_items": null,
            "left": null,
            "margin": null,
            "max_height": null,
            "max_width": null,
            "min_height": null,
            "min_width": null,
            "object_fit": null,
            "object_position": null,
            "order": null,
            "overflow": null,
            "overflow_x": null,
            "overflow_y": null,
            "padding": null,
            "right": null,
            "top": null,
            "visibility": null,
            "width": null
          }
        },
        "30ed632befe14fe0accb3c80f9768da6": {
          "model_module": "@jupyter-widgets/controls",
          "model_name": "ProgressStyleModel",
          "model_module_version": "1.5.0",
          "state": {
            "_model_module": "@jupyter-widgets/controls",
            "_model_module_version": "1.5.0",
            "_model_name": "ProgressStyleModel",
            "_view_count": null,
            "_view_module": "@jupyter-widgets/base",
            "_view_module_version": "1.2.0",
            "_view_name": "StyleView",
            "bar_color": null,
            "description_width": ""
          }
        },
        "41df6c5689984b75b2d4e608f4f1fed2": {
          "model_module": "@jupyter-widgets/base",
          "model_name": "LayoutModel",
          "model_module_version": "1.2.0",
          "state": {
            "_model_module": "@jupyter-widgets/base",
            "_model_module_version": "1.2.0",
            "_model_name": "LayoutModel",
            "_view_count": null,
            "_view_module": "@jupyter-widgets/base",
            "_view_module_version": "1.2.0",
            "_view_name": "LayoutView",
            "align_content": null,
            "align_items": null,
            "align_self": null,
            "border": null,
            "bottom": null,
            "display": null,
            "flex": null,
            "flex_flow": null,
            "grid_area": null,
            "grid_auto_columns": null,
            "grid_auto_flow": null,
            "grid_auto_rows": null,
            "grid_column": null,
            "grid_gap": null,
            "grid_row": null,
            "grid_template_areas": null,
            "grid_template_columns": null,
            "grid_template_rows": null,
            "height": null,
            "justify_content": null,
            "justify_items": null,
            "left": null,
            "margin": null,
            "max_height": null,
            "max_width": null,
            "min_height": null,
            "min_width": null,
            "object_fit": null,
            "object_position": null,
            "order": null,
            "overflow": null,
            "overflow_x": null,
            "overflow_y": null,
            "padding": null,
            "right": null,
            "top": null,
            "visibility": null,
            "width": null
          }
        },
        "fcd2a29b28df49bc9a48f3d47aee2d43": {
          "model_module": "@jupyter-widgets/controls",
          "model_name": "DescriptionStyleModel",
          "model_module_version": "1.5.0",
          "state": {
            "_model_module": "@jupyter-widgets/controls",
            "_model_module_version": "1.5.0",
            "_model_name": "DescriptionStyleModel",
            "_view_count": null,
            "_view_module": "@jupyter-widgets/base",
            "_view_module_version": "1.2.0",
            "_view_name": "StyleView",
            "description_width": ""
          }
        },
        "056919facba540c3aa710088d2d28b19": {
          "model_module": "@jupyter-widgets/controls",
          "model_name": "HBoxModel",
          "model_module_version": "1.5.0",
          "state": {
            "_dom_classes": [],
            "_model_module": "@jupyter-widgets/controls",
            "_model_module_version": "1.5.0",
            "_model_name": "HBoxModel",
            "_view_count": null,
            "_view_module": "@jupyter-widgets/controls",
            "_view_module_version": "1.5.0",
            "_view_name": "HBoxView",
            "box_style": "",
            "children": [
              "IPY_MODEL_67c9103597584f40a50d41db4c62a805",
              "IPY_MODEL_3eaa102c80d34623b1efb8acd8286cdb",
              "IPY_MODEL_4c659f1a67134ae1b60eefef3b979c60"
            ],
            "layout": "IPY_MODEL_35bdb617256e490a9c38ede9f77fcb2a"
          }
        },
        "67c9103597584f40a50d41db4c62a805": {
          "model_module": "@jupyter-widgets/controls",
          "model_name": "HTMLModel",
          "model_module_version": "1.5.0",
          "state": {
            "_dom_classes": [],
            "_model_module": "@jupyter-widgets/controls",
            "_model_module_version": "1.5.0",
            "_model_name": "HTMLModel",
            "_view_count": null,
            "_view_module": "@jupyter-widgets/controls",
            "_view_module_version": "1.5.0",
            "_view_name": "HTMLView",
            "description": "",
            "description_tooltip": null,
            "layout": "IPY_MODEL_b65539acb4c14de7a2f748f16a47c933",
            "placeholder": "​",
            "style": "IPY_MODEL_727615ed0ee1411dbb357d6e08ba27f4",
            "value": "Epoch 9: 100%"
          }
        },
        "3eaa102c80d34623b1efb8acd8286cdb": {
          "model_module": "@jupyter-widgets/controls",
          "model_name": "FloatProgressModel",
          "model_module_version": "1.5.0",
          "state": {
            "_dom_classes": [],
            "_model_module": "@jupyter-widgets/controls",
            "_model_module_version": "1.5.0",
            "_model_name": "FloatProgressModel",
            "_view_count": null,
            "_view_module": "@jupyter-widgets/controls",
            "_view_module_version": "1.5.0",
            "_view_name": "ProgressView",
            "bar_style": "success",
            "description": "",
            "description_tooltip": null,
            "layout": "IPY_MODEL_6ce37a1084d54caa9ac5de2134c4bbe3",
            "max": 999,
            "min": 0,
            "orientation": "horizontal",
            "style": "IPY_MODEL_4bc52569894244a5913c8445d7f638d9",
            "value": 999
          }
        },
        "4c659f1a67134ae1b60eefef3b979c60": {
          "model_module": "@jupyter-widgets/controls",
          "model_name": "HTMLModel",
          "model_module_version": "1.5.0",
          "state": {
            "_dom_classes": [],
            "_model_module": "@jupyter-widgets/controls",
            "_model_module_version": "1.5.0",
            "_model_name": "HTMLModel",
            "_view_count": null,
            "_view_module": "@jupyter-widgets/controls",
            "_view_module_version": "1.5.0",
            "_view_name": "HTMLView",
            "description": "",
            "description_tooltip": null,
            "layout": "IPY_MODEL_026db12e490a4762af26a63d21c054ce",
            "placeholder": "​",
            "style": "IPY_MODEL_6671af56b7ea483ca72f4870814493de",
            "value": " 999/999 [01:24&lt;00:00, 13.07it/s]"
          }
        },
        "35bdb617256e490a9c38ede9f77fcb2a": {
          "model_module": "@jupyter-widgets/base",
          "model_name": "LayoutModel",
          "model_module_version": "1.2.0",
          "state": {
            "_model_module": "@jupyter-widgets/base",
            "_model_module_version": "1.2.0",
            "_model_name": "LayoutModel",
            "_view_count": null,
            "_view_module": "@jupyter-widgets/base",
            "_view_module_version": "1.2.0",
            "_view_name": "LayoutView",
            "align_content": null,
            "align_items": null,
            "align_self": null,
            "border": null,
            "bottom": null,
            "display": null,
            "flex": null,
            "flex_flow": null,
            "grid_area": null,
            "grid_auto_columns": null,
            "grid_auto_flow": null,
            "grid_auto_rows": null,
            "grid_column": null,
            "grid_gap": null,
            "grid_row": null,
            "grid_template_areas": null,
            "grid_template_columns": null,
            "grid_template_rows": null,
            "height": null,
            "justify_content": null,
            "justify_items": null,
            "left": null,
            "margin": null,
            "max_height": null,
            "max_width": null,
            "min_height": null,
            "min_width": null,
            "object_fit": null,
            "object_position": null,
            "order": null,
            "overflow": null,
            "overflow_x": null,
            "overflow_y": null,
            "padding": null,
            "right": null,
            "top": null,
            "visibility": null,
            "width": null
          }
        },
        "b65539acb4c14de7a2f748f16a47c933": {
          "model_module": "@jupyter-widgets/base",
          "model_name": "LayoutModel",
          "model_module_version": "1.2.0",
          "state": {
            "_model_module": "@jupyter-widgets/base",
            "_model_module_version": "1.2.0",
            "_model_name": "LayoutModel",
            "_view_count": null,
            "_view_module": "@jupyter-widgets/base",
            "_view_module_version": "1.2.0",
            "_view_name": "LayoutView",
            "align_content": null,
            "align_items": null,
            "align_self": null,
            "border": null,
            "bottom": null,
            "display": null,
            "flex": null,
            "flex_flow": null,
            "grid_area": null,
            "grid_auto_columns": null,
            "grid_auto_flow": null,
            "grid_auto_rows": null,
            "grid_column": null,
            "grid_gap": null,
            "grid_row": null,
            "grid_template_areas": null,
            "grid_template_columns": null,
            "grid_template_rows": null,
            "height": null,
            "justify_content": null,
            "justify_items": null,
            "left": null,
            "margin": null,
            "max_height": null,
            "max_width": null,
            "min_height": null,
            "min_width": null,
            "object_fit": null,
            "object_position": null,
            "order": null,
            "overflow": null,
            "overflow_x": null,
            "overflow_y": null,
            "padding": null,
            "right": null,
            "top": null,
            "visibility": null,
            "width": null
          }
        },
        "727615ed0ee1411dbb357d6e08ba27f4": {
          "model_module": "@jupyter-widgets/controls",
          "model_name": "DescriptionStyleModel",
          "model_module_version": "1.5.0",
          "state": {
            "_model_module": "@jupyter-widgets/controls",
            "_model_module_version": "1.5.0",
            "_model_name": "DescriptionStyleModel",
            "_view_count": null,
            "_view_module": "@jupyter-widgets/base",
            "_view_module_version": "1.2.0",
            "_view_name": "StyleView",
            "description_width": ""
          }
        },
        "6ce37a1084d54caa9ac5de2134c4bbe3": {
          "model_module": "@jupyter-widgets/base",
          "model_name": "LayoutModel",
          "model_module_version": "1.2.0",
          "state": {
            "_model_module": "@jupyter-widgets/base",
            "_model_module_version": "1.2.0",
            "_model_name": "LayoutModel",
            "_view_count": null,
            "_view_module": "@jupyter-widgets/base",
            "_view_module_version": "1.2.0",
            "_view_name": "LayoutView",
            "align_content": null,
            "align_items": null,
            "align_self": null,
            "border": null,
            "bottom": null,
            "display": null,
            "flex": null,
            "flex_flow": null,
            "grid_area": null,
            "grid_auto_columns": null,
            "grid_auto_flow": null,
            "grid_auto_rows": null,
            "grid_column": null,
            "grid_gap": null,
            "grid_row": null,
            "grid_template_areas": null,
            "grid_template_columns": null,
            "grid_template_rows": null,
            "height": null,
            "justify_content": null,
            "justify_items": null,
            "left": null,
            "margin": null,
            "max_height": null,
            "max_width": null,
            "min_height": null,
            "min_width": null,
            "object_fit": null,
            "object_position": null,
            "order": null,
            "overflow": null,
            "overflow_x": null,
            "overflow_y": null,
            "padding": null,
            "right": null,
            "top": null,
            "visibility": null,
            "width": null
          }
        },
        "4bc52569894244a5913c8445d7f638d9": {
          "model_module": "@jupyter-widgets/controls",
          "model_name": "ProgressStyleModel",
          "model_module_version": "1.5.0",
          "state": {
            "_model_module": "@jupyter-widgets/controls",
            "_model_module_version": "1.5.0",
            "_model_name": "ProgressStyleModel",
            "_view_count": null,
            "_view_module": "@jupyter-widgets/base",
            "_view_module_version": "1.2.0",
            "_view_name": "StyleView",
            "bar_color": null,
            "description_width": ""
          }
        },
        "026db12e490a4762af26a63d21c054ce": {
          "model_module": "@jupyter-widgets/base",
          "model_name": "LayoutModel",
          "model_module_version": "1.2.0",
          "state": {
            "_model_module": "@jupyter-widgets/base",
            "_model_module_version": "1.2.0",
            "_model_name": "LayoutModel",
            "_view_count": null,
            "_view_module": "@jupyter-widgets/base",
            "_view_module_version": "1.2.0",
            "_view_name": "LayoutView",
            "align_content": null,
            "align_items": null,
            "align_self": null,
            "border": null,
            "bottom": null,
            "display": null,
            "flex": null,
            "flex_flow": null,
            "grid_area": null,
            "grid_auto_columns": null,
            "grid_auto_flow": null,
            "grid_auto_rows": null,
            "grid_column": null,
            "grid_gap": null,
            "grid_row": null,
            "grid_template_areas": null,
            "grid_template_columns": null,
            "grid_template_rows": null,
            "height": null,
            "justify_content": null,
            "justify_items": null,
            "left": null,
            "margin": null,
            "max_height": null,
            "max_width": null,
            "min_height": null,
            "min_width": null,
            "object_fit": null,
            "object_position": null,
            "order": null,
            "overflow": null,
            "overflow_x": null,
            "overflow_y": null,
            "padding": null,
            "right": null,
            "top": null,
            "visibility": null,
            "width": null
          }
        },
        "6671af56b7ea483ca72f4870814493de": {
          "model_module": "@jupyter-widgets/controls",
          "model_name": "DescriptionStyleModel",
          "model_module_version": "1.5.0",
          "state": {
            "_model_module": "@jupyter-widgets/controls",
            "_model_module_version": "1.5.0",
            "_model_name": "DescriptionStyleModel",
            "_view_count": null,
            "_view_module": "@jupyter-widgets/base",
            "_view_module_version": "1.2.0",
            "_view_name": "StyleView",
            "description_width": ""
          }
        },
        "ad3d5d5e60d14707ba1555d87e54e5fb": {
          "model_module": "@jupyter-widgets/controls",
          "model_name": "HBoxModel",
          "model_module_version": "1.5.0",
          "state": {
            "_dom_classes": [],
            "_model_module": "@jupyter-widgets/controls",
            "_model_module_version": "1.5.0",
            "_model_name": "HBoxModel",
            "_view_count": null,
            "_view_module": "@jupyter-widgets/controls",
            "_view_module_version": "1.5.0",
            "_view_name": "HBoxView",
            "box_style": "",
            "children": [
              "IPY_MODEL_252345d3d2e04d08ba600fc6b34f669c",
              "IPY_MODEL_f5bbb508db854442aabe3ec37033538e",
              "IPY_MODEL_4f6a0a5b8c774d2ba91d9990211c2f6f"
            ],
            "layout": "IPY_MODEL_3b708dcc6d4542fdbc886ccea3b9a3bf"
          }
        },
        "252345d3d2e04d08ba600fc6b34f669c": {
          "model_module": "@jupyter-widgets/controls",
          "model_name": "HTMLModel",
          "model_module_version": "1.5.0",
          "state": {
            "_dom_classes": [],
            "_model_module": "@jupyter-widgets/controls",
            "_model_module_version": "1.5.0",
            "_model_name": "HTMLModel",
            "_view_count": null,
            "_view_module": "@jupyter-widgets/controls",
            "_view_module_version": "1.5.0",
            "_view_name": "HTMLView",
            "description": "",
            "description_tooltip": null,
            "layout": "IPY_MODEL_eefd0fb6396f414aaa0188b8ef4e1906",
            "placeholder": "​",
            "style": "IPY_MODEL_ea6fdfd7e3844da5bfcba55e51b59c6f",
            "value": "100%"
          }
        },
        "f5bbb508db854442aabe3ec37033538e": {
          "model_module": "@jupyter-widgets/controls",
          "model_name": "FloatProgressModel",
          "model_module_version": "1.5.0",
          "state": {
            "_dom_classes": [],
            "_model_module": "@jupyter-widgets/controls",
            "_model_module_version": "1.5.0",
            "_model_name": "FloatProgressModel",
            "_view_count": null,
            "_view_module": "@jupyter-widgets/controls",
            "_view_module_version": "1.5.0",
            "_view_name": "ProgressView",
            "bar_style": "success",
            "description": "",
            "description_tooltip": null,
            "layout": "IPY_MODEL_2ea24231cb0848c784994d06c86e1679",
            "max": 278,
            "min": 0,
            "orientation": "horizontal",
            "style": "IPY_MODEL_8751a89fa8854f5ebee4ba1349b5e9e4",
            "value": 278
          }
        },
        "4f6a0a5b8c774d2ba91d9990211c2f6f": {
          "model_module": "@jupyter-widgets/controls",
          "model_name": "HTMLModel",
          "model_module_version": "1.5.0",
          "state": {
            "_dom_classes": [],
            "_model_module": "@jupyter-widgets/controls",
            "_model_module_version": "1.5.0",
            "_model_name": "HTMLModel",
            "_view_count": null,
            "_view_module": "@jupyter-widgets/controls",
            "_view_module_version": "1.5.0",
            "_view_name": "HTMLView",
            "description": "",
            "description_tooltip": null,
            "layout": "IPY_MODEL_c1dcb0efa4b843a583af8fe209cf85ce",
            "placeholder": "​",
            "style": "IPY_MODEL_2e265fa939d145b082029c7f41ce0763",
            "value": " 278/278 [00:14&lt;00:00, 19.31it/s]"
          }
        },
        "3b708dcc6d4542fdbc886ccea3b9a3bf": {
          "model_module": "@jupyter-widgets/base",
          "model_name": "LayoutModel",
          "model_module_version": "1.2.0",
          "state": {
            "_model_module": "@jupyter-widgets/base",
            "_model_module_version": "1.2.0",
            "_model_name": "LayoutModel",
            "_view_count": null,
            "_view_module": "@jupyter-widgets/base",
            "_view_module_version": "1.2.0",
            "_view_name": "LayoutView",
            "align_content": null,
            "align_items": null,
            "align_self": null,
            "border": null,
            "bottom": null,
            "display": null,
            "flex": null,
            "flex_flow": null,
            "grid_area": null,
            "grid_auto_columns": null,
            "grid_auto_flow": null,
            "grid_auto_rows": null,
            "grid_column": null,
            "grid_gap": null,
            "grid_row": null,
            "grid_template_areas": null,
            "grid_template_columns": null,
            "grid_template_rows": null,
            "height": null,
            "justify_content": null,
            "justify_items": null,
            "left": null,
            "margin": null,
            "max_height": null,
            "max_width": null,
            "min_height": null,
            "min_width": null,
            "object_fit": null,
            "object_position": null,
            "order": null,
            "overflow": null,
            "overflow_x": null,
            "overflow_y": null,
            "padding": null,
            "right": null,
            "top": null,
            "visibility": null,
            "width": null
          }
        },
        "eefd0fb6396f414aaa0188b8ef4e1906": {
          "model_module": "@jupyter-widgets/base",
          "model_name": "LayoutModel",
          "model_module_version": "1.2.0",
          "state": {
            "_model_module": "@jupyter-widgets/base",
            "_model_module_version": "1.2.0",
            "_model_name": "LayoutModel",
            "_view_count": null,
            "_view_module": "@jupyter-widgets/base",
            "_view_module_version": "1.2.0",
            "_view_name": "LayoutView",
            "align_content": null,
            "align_items": null,
            "align_self": null,
            "border": null,
            "bottom": null,
            "display": null,
            "flex": null,
            "flex_flow": null,
            "grid_area": null,
            "grid_auto_columns": null,
            "grid_auto_flow": null,
            "grid_auto_rows": null,
            "grid_column": null,
            "grid_gap": null,
            "grid_row": null,
            "grid_template_areas": null,
            "grid_template_columns": null,
            "grid_template_rows": null,
            "height": null,
            "justify_content": null,
            "justify_items": null,
            "left": null,
            "margin": null,
            "max_height": null,
            "max_width": null,
            "min_height": null,
            "min_width": null,
            "object_fit": null,
            "object_position": null,
            "order": null,
            "overflow": null,
            "overflow_x": null,
            "overflow_y": null,
            "padding": null,
            "right": null,
            "top": null,
            "visibility": null,
            "width": null
          }
        },
        "ea6fdfd7e3844da5bfcba55e51b59c6f": {
          "model_module": "@jupyter-widgets/controls",
          "model_name": "DescriptionStyleModel",
          "model_module_version": "1.5.0",
          "state": {
            "_model_module": "@jupyter-widgets/controls",
            "_model_module_version": "1.5.0",
            "_model_name": "DescriptionStyleModel",
            "_view_count": null,
            "_view_module": "@jupyter-widgets/base",
            "_view_module_version": "1.2.0",
            "_view_name": "StyleView",
            "description_width": ""
          }
        },
        "2ea24231cb0848c784994d06c86e1679": {
          "model_module": "@jupyter-widgets/base",
          "model_name": "LayoutModel",
          "model_module_version": "1.2.0",
          "state": {
            "_model_module": "@jupyter-widgets/base",
            "_model_module_version": "1.2.0",
            "_model_name": "LayoutModel",
            "_view_count": null,
            "_view_module": "@jupyter-widgets/base",
            "_view_module_version": "1.2.0",
            "_view_name": "LayoutView",
            "align_content": null,
            "align_items": null,
            "align_self": null,
            "border": null,
            "bottom": null,
            "display": null,
            "flex": null,
            "flex_flow": null,
            "grid_area": null,
            "grid_auto_columns": null,
            "grid_auto_flow": null,
            "grid_auto_rows": null,
            "grid_column": null,
            "grid_gap": null,
            "grid_row": null,
            "grid_template_areas": null,
            "grid_template_columns": null,
            "grid_template_rows": null,
            "height": null,
            "justify_content": null,
            "justify_items": null,
            "left": null,
            "margin": null,
            "max_height": null,
            "max_width": null,
            "min_height": null,
            "min_width": null,
            "object_fit": null,
            "object_position": null,
            "order": null,
            "overflow": null,
            "overflow_x": null,
            "overflow_y": null,
            "padding": null,
            "right": null,
            "top": null,
            "visibility": null,
            "width": null
          }
        },
        "8751a89fa8854f5ebee4ba1349b5e9e4": {
          "model_module": "@jupyter-widgets/controls",
          "model_name": "ProgressStyleModel",
          "model_module_version": "1.5.0",
          "state": {
            "_model_module": "@jupyter-widgets/controls",
            "_model_module_version": "1.5.0",
            "_model_name": "ProgressStyleModel",
            "_view_count": null,
            "_view_module": "@jupyter-widgets/base",
            "_view_module_version": "1.2.0",
            "_view_name": "StyleView",
            "bar_color": null,
            "description_width": ""
          }
        },
        "c1dcb0efa4b843a583af8fe209cf85ce": {
          "model_module": "@jupyter-widgets/base",
          "model_name": "LayoutModel",
          "model_module_version": "1.2.0",
          "state": {
            "_model_module": "@jupyter-widgets/base",
            "_model_module_version": "1.2.0",
            "_model_name": "LayoutModel",
            "_view_count": null,
            "_view_module": "@jupyter-widgets/base",
            "_view_module_version": "1.2.0",
            "_view_name": "LayoutView",
            "align_content": null,
            "align_items": null,
            "align_self": null,
            "border": null,
            "bottom": null,
            "display": null,
            "flex": null,
            "flex_flow": null,
            "grid_area": null,
            "grid_auto_columns": null,
            "grid_auto_flow": null,
            "grid_auto_rows": null,
            "grid_column": null,
            "grid_gap": null,
            "grid_row": null,
            "grid_template_areas": null,
            "grid_template_columns": null,
            "grid_template_rows": null,
            "height": null,
            "justify_content": null,
            "justify_items": null,
            "left": null,
            "margin": null,
            "max_height": null,
            "max_width": null,
            "min_height": null,
            "min_width": null,
            "object_fit": null,
            "object_position": null,
            "order": null,
            "overflow": null,
            "overflow_x": null,
            "overflow_y": null,
            "padding": null,
            "right": null,
            "top": null,
            "visibility": null,
            "width": null
          }
        },
        "2e265fa939d145b082029c7f41ce0763": {
          "model_module": "@jupyter-widgets/controls",
          "model_name": "DescriptionStyleModel",
          "model_module_version": "1.5.0",
          "state": {
            "_model_module": "@jupyter-widgets/controls",
            "_model_module_version": "1.5.0",
            "_model_name": "DescriptionStyleModel",
            "_view_count": null,
            "_view_module": "@jupyter-widgets/base",
            "_view_module_version": "1.2.0",
            "_view_name": "StyleView",
            "description_width": ""
          }
        }
      }
    }
  },
  "nbformat": 4,
  "nbformat_minor": 5
}